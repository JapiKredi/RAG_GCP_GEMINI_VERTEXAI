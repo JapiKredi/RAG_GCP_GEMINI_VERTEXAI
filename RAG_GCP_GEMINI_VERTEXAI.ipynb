{
  "nbformat": 4,
  "nbformat_minor": 0,
  "metadata": {
    "colab": {
      "provenance": [],
      "authorship_tag": "ABX9TyMgB2CGfsNCEAji3SRuUkal",
      "include_colab_link": true
    },
    "kernelspec": {
      "name": "python3",
      "display_name": "Python 3"
    },
    "language_info": {
      "name": "python"
    }
  },
  "cells": [
    {
      "cell_type": "markdown",
      "metadata": {
        "id": "view-in-github",
        "colab_type": "text"
      },
      "source": [
        "<a href=\"https://colab.research.google.com/github/JapiKredi/RAG_GCP_GEMINI_VERTEXAI/blob/main/RAG_GCP_GEMINI_VERTEXAI.ipynb\" target=\"_parent\"><img src=\"https://colab.research.google.com/assets/colab-badge.svg\" alt=\"Open In Colab\"/></a>"
      ]
    },
    {
      "cell_type": "code",
      "source": [
        "!pip install --upgrade --user google-cloud-aiplatform"
      ],
      "metadata": {
        "colab": {
          "base_uri": "https://localhost:8080/"
        },
        "id": "t_C1ykOxhFU7",
        "outputId": "f216c64a-ac22-4f60-90c7-496e398a817e"
      },
      "execution_count": 1,
      "outputs": [
        {
          "output_type": "stream",
          "name": "stdout",
          "text": [
            "Requirement already satisfied: google-cloud-aiplatform in /root/.local/lib/python3.10/site-packages (1.54.1)\n",
            "Requirement already satisfied: google-api-core[grpc]!=2.0.*,!=2.1.*,!=2.2.*,!=2.3.*,!=2.4.*,!=2.5.*,!=2.6.*,!=2.7.*,<3.0.0dev,>=1.34.1 in /usr/local/lib/python3.10/dist-packages (from google-cloud-aiplatform) (2.19.0)\n",
            "Requirement already satisfied: google-auth<3.0.0dev,>=2.14.1 in /usr/local/lib/python3.10/dist-packages (from google-cloud-aiplatform) (2.27.0)\n",
            "Requirement already satisfied: proto-plus<2.0.0dev,>=1.22.0 in /usr/local/lib/python3.10/dist-packages (from google-cloud-aiplatform) (1.23.0)\n",
            "Requirement already satisfied: protobuf!=3.20.0,!=3.20.1,!=4.21.0,!=4.21.1,!=4.21.2,!=4.21.3,!=4.21.4,!=4.21.5,<5.0.0dev,>=3.19.5 in /usr/local/lib/python3.10/dist-packages (from google-cloud-aiplatform) (3.20.3)\n",
            "Requirement already satisfied: packaging>=14.3 in /usr/local/lib/python3.10/dist-packages (from google-cloud-aiplatform) (23.2)\n",
            "Requirement already satisfied: google-cloud-storage<3.0.0dev,>=1.32.0 in /usr/local/lib/python3.10/dist-packages (from google-cloud-aiplatform) (2.16.0)\n",
            "Requirement already satisfied: google-cloud-bigquery!=3.20.0,<4.0.0dev,>=1.15.0 in /usr/local/lib/python3.10/dist-packages (from google-cloud-aiplatform) (3.21.0)\n",
            "Requirement already satisfied: google-cloud-resource-manager<3.0.0dev,>=1.3.3 in /usr/local/lib/python3.10/dist-packages (from google-cloud-aiplatform) (1.12.3)\n",
            "Requirement already satisfied: shapely<3.0.0dev in /usr/local/lib/python3.10/dist-packages (from google-cloud-aiplatform) (2.0.4)\n",
            "Requirement already satisfied: pydantic<3 in /usr/local/lib/python3.10/dist-packages (from google-cloud-aiplatform) (2.7.3)\n",
            "Requirement already satisfied: docstring-parser<1 in /usr/local/lib/python3.10/dist-packages (from google-cloud-aiplatform) (0.16)\n",
            "Requirement already satisfied: googleapis-common-protos<2.0.dev0,>=1.56.2 in /usr/local/lib/python3.10/dist-packages (from google-api-core[grpc]!=2.0.*,!=2.1.*,!=2.2.*,!=2.3.*,!=2.4.*,!=2.5.*,!=2.6.*,!=2.7.*,<3.0.0dev,>=1.34.1->google-cloud-aiplatform) (1.63.1)\n",
            "Requirement already satisfied: requests<3.0.0.dev0,>=2.18.0 in /usr/local/lib/python3.10/dist-packages (from google-api-core[grpc]!=2.0.*,!=2.1.*,!=2.2.*,!=2.3.*,!=2.4.*,!=2.5.*,!=2.6.*,!=2.7.*,<3.0.0dev,>=1.34.1->google-cloud-aiplatform) (2.32.3)\n",
            "Requirement already satisfied: grpcio<2.0dev,>=1.33.2 in /usr/local/lib/python3.10/dist-packages (from google-api-core[grpc]!=2.0.*,!=2.1.*,!=2.2.*,!=2.3.*,!=2.4.*,!=2.5.*,!=2.6.*,!=2.7.*,<3.0.0dev,>=1.34.1->google-cloud-aiplatform) (1.64.1)\n",
            "Requirement already satisfied: grpcio-status<2.0.dev0,>=1.33.2 in /usr/local/lib/python3.10/dist-packages (from google-api-core[grpc]!=2.0.*,!=2.1.*,!=2.2.*,!=2.3.*,!=2.4.*,!=2.5.*,!=2.6.*,!=2.7.*,<3.0.0dev,>=1.34.1->google-cloud-aiplatform) (1.48.2)\n",
            "Requirement already satisfied: cachetools<6.0,>=2.0.0 in /usr/local/lib/python3.10/dist-packages (from google-auth<3.0.0dev,>=2.14.1->google-cloud-aiplatform) (5.3.3)\n",
            "Requirement already satisfied: pyasn1-modules>=0.2.1 in /usr/local/lib/python3.10/dist-packages (from google-auth<3.0.0dev,>=2.14.1->google-cloud-aiplatform) (0.4.0)\n",
            "Requirement already satisfied: rsa<5,>=3.1.4 in /usr/local/lib/python3.10/dist-packages (from google-auth<3.0.0dev,>=2.14.1->google-cloud-aiplatform) (4.9)\n",
            "Requirement already satisfied: google-cloud-core<3.0.0dev,>=1.6.0 in /usr/local/lib/python3.10/dist-packages (from google-cloud-bigquery!=3.20.0,<4.0.0dev,>=1.15.0->google-cloud-aiplatform) (2.3.3)\n",
            "Requirement already satisfied: google-resumable-media<3.0dev,>=0.6.0 in /usr/local/lib/python3.10/dist-packages (from google-cloud-bigquery!=3.20.0,<4.0.0dev,>=1.15.0->google-cloud-aiplatform) (2.7.0)\n",
            "Requirement already satisfied: python-dateutil<3.0dev,>=2.7.2 in /usr/local/lib/python3.10/dist-packages (from google-cloud-bigquery!=3.20.0,<4.0.0dev,>=1.15.0->google-cloud-aiplatform) (2.8.2)\n",
            "Requirement already satisfied: grpc-google-iam-v1<1.0.0dev,>=0.12.4 in /usr/local/lib/python3.10/dist-packages (from google-cloud-resource-manager<3.0.0dev,>=1.3.3->google-cloud-aiplatform) (0.13.0)\n",
            "Requirement already satisfied: google-crc32c<2.0dev,>=1.0 in /usr/local/lib/python3.10/dist-packages (from google-cloud-storage<3.0.0dev,>=1.32.0->google-cloud-aiplatform) (1.5.0)\n",
            "Requirement already satisfied: annotated-types>=0.4.0 in /usr/local/lib/python3.10/dist-packages (from pydantic<3->google-cloud-aiplatform) (0.7.0)\n",
            "Requirement already satisfied: pydantic-core==2.18.4 in /usr/local/lib/python3.10/dist-packages (from pydantic<3->google-cloud-aiplatform) (2.18.4)\n",
            "Requirement already satisfied: typing-extensions>=4.6.1 in /usr/local/lib/python3.10/dist-packages (from pydantic<3->google-cloud-aiplatform) (4.12.1)\n",
            "Requirement already satisfied: numpy<3,>=1.14 in /usr/local/lib/python3.10/dist-packages (from shapely<3.0.0dev->google-cloud-aiplatform) (1.25.2)\n",
            "Requirement already satisfied: pyasn1<0.7.0,>=0.4.6 in /usr/local/lib/python3.10/dist-packages (from pyasn1-modules>=0.2.1->google-auth<3.0.0dev,>=2.14.1->google-cloud-aiplatform) (0.6.0)\n",
            "Requirement already satisfied: six>=1.5 in /usr/local/lib/python3.10/dist-packages (from python-dateutil<3.0dev,>=2.7.2->google-cloud-bigquery!=3.20.0,<4.0.0dev,>=1.15.0->google-cloud-aiplatform) (1.16.0)\n",
            "Requirement already satisfied: charset-normalizer<4,>=2 in /usr/local/lib/python3.10/dist-packages (from requests<3.0.0.dev0,>=2.18.0->google-api-core[grpc]!=2.0.*,!=2.1.*,!=2.2.*,!=2.3.*,!=2.4.*,!=2.5.*,!=2.6.*,!=2.7.*,<3.0.0dev,>=1.34.1->google-cloud-aiplatform) (3.3.2)\n",
            "Requirement already satisfied: idna<4,>=2.5 in /usr/local/lib/python3.10/dist-packages (from requests<3.0.0.dev0,>=2.18.0->google-api-core[grpc]!=2.0.*,!=2.1.*,!=2.2.*,!=2.3.*,!=2.4.*,!=2.5.*,!=2.6.*,!=2.7.*,<3.0.0dev,>=1.34.1->google-cloud-aiplatform) (3.7)\n",
            "Requirement already satisfied: urllib3<3,>=1.21.1 in /usr/local/lib/python3.10/dist-packages (from requests<3.0.0.dev0,>=2.18.0->google-api-core[grpc]!=2.0.*,!=2.1.*,!=2.2.*,!=2.3.*,!=2.4.*,!=2.5.*,!=2.6.*,!=2.7.*,<3.0.0dev,>=1.34.1->google-cloud-aiplatform) (2.0.7)\n",
            "Requirement already satisfied: certifi>=2017.4.17 in /usr/local/lib/python3.10/dist-packages (from requests<3.0.0.dev0,>=2.18.0->google-api-core[grpc]!=2.0.*,!=2.1.*,!=2.2.*,!=2.3.*,!=2.4.*,!=2.5.*,!=2.6.*,!=2.7.*,<3.0.0dev,>=1.34.1->google-cloud-aiplatform) (2024.6.2)\n"
          ]
        }
      ]
    },
    {
      "cell_type": "code",
      "source": [
        "!pip install ragstack-ai"
      ],
      "metadata": {
        "colab": {
          "base_uri": "https://localhost:8080/"
        },
        "id": "fkdx-60ghJVS",
        "outputId": "7ae5b4b5-7ef7-41bb-ae46-4b97750e1e80"
      },
      "execution_count": 2,
      "outputs": [
        {
          "output_type": "stream",
          "name": "stdout",
          "text": [
            "Requirement already satisfied: ragstack-ai in /usr/local/lib/python3.10/dist-packages (1.0.7)\n",
            "Requirement already satisfied: ragstack-ai-colbert==1.0.5 in /usr/local/lib/python3.10/dist-packages (from ragstack-ai) (1.0.5)\n",
            "Requirement already satisfied: ragstack-ai-langchain[colbert,google,nvidia]==1.0.7 in /usr/local/lib/python3.10/dist-packages (from ragstack-ai) (1.0.7)\n",
            "Requirement already satisfied: ragstack-ai-llamaindex[azure,bedrock,colbert,google]==1.0.5 in /usr/local/lib/python3.10/dist-packages (from ragstack-ai) (1.0.5)\n",
            "Requirement already satisfied: cassio<0.2.0,>=0.1.7 in /usr/local/lib/python3.10/dist-packages (from ragstack-ai-colbert==1.0.5->ragstack-ai) (0.1.8)\n",
            "Requirement already satisfied: colbert-ai==0.2.19 in /usr/local/lib/python3.10/dist-packages (from ragstack-ai-colbert==1.0.5->ragstack-ai) (0.2.19)\n",
            "Requirement already satisfied: pyarrow==14.0.1 in /usr/local/lib/python3.10/dist-packages (from ragstack-ai-colbert==1.0.5->ragstack-ai) (14.0.1)\n",
            "Requirement already satisfied: pydantic<3.0.0,>=2.7.1 in /usr/local/lib/python3.10/dist-packages (from ragstack-ai-colbert==1.0.5->ragstack-ai) (2.7.3)\n",
            "Requirement already satisfied: torch==2.2.1 in /usr/local/lib/python3.10/dist-packages (from ragstack-ai-colbert==1.0.5->ragstack-ai) (2.2.1)\n",
            "Requirement already satisfied: astrapy<2,>=1 in /usr/local/lib/python3.10/dist-packages (from ragstack-ai-langchain[colbert,google,nvidia]==1.0.7->ragstack-ai) (1.2.1)\n",
            "Requirement already satisfied: langchain==0.1.19 in /usr/local/lib/python3.10/dist-packages (from ragstack-ai-langchain[colbert,google,nvidia]==1.0.7->ragstack-ai) (0.1.19)\n",
            "Requirement already satisfied: langchain-astradb==0.3.3 in /usr/local/lib/python3.10/dist-packages (from ragstack-ai-langchain[colbert,google,nvidia]==1.0.7->ragstack-ai) (0.3.3)\n",
            "Requirement already satisfied: langchain-community==0.0.38 in /usr/local/lib/python3.10/dist-packages (from ragstack-ai-langchain[colbert,google,nvidia]==1.0.7->ragstack-ai) (0.0.38)\n",
            "Requirement already satisfied: langchain-core==0.1.52 in /usr/local/lib/python3.10/dist-packages (from ragstack-ai-langchain[colbert,google,nvidia]==1.0.7->ragstack-ai) (0.1.52)\n",
            "Requirement already satisfied: langchain-openai==0.1.3 in /usr/local/lib/python3.10/dist-packages (from ragstack-ai-langchain[colbert,google,nvidia]==1.0.7->ragstack-ai) (0.1.3)\n",
            "Requirement already satisfied: unstructured==0.14.2 in /usr/local/lib/python3.10/dist-packages (from ragstack-ai-langchain[colbert,google,nvidia]==1.0.7->ragstack-ai) (0.14.2)\n",
            "Requirement already satisfied: langchain-nvidia-ai-endpoints==0.0.9 in /usr/local/lib/python3.10/dist-packages (from ragstack-ai-langchain[colbert,google,nvidia]==1.0.7->ragstack-ai) (0.0.9)\n",
            "Requirement already satisfied: langchain-google-genai==0.0.11 in /usr/local/lib/python3.10/dist-packages (from ragstack-ai-langchain[colbert,google,nvidia]==1.0.7->ragstack-ai) (0.0.11)\n",
            "Requirement already satisfied: langchain-google-vertexai==1.0.1 in /usr/local/lib/python3.10/dist-packages (from ragstack-ai-langchain[colbert,google,nvidia]==1.0.7->ragstack-ai) (1.0.1)\n",
            "Requirement already satisfied: cffi<2.0.0,>=1.16.0 in /usr/local/lib/python3.10/dist-packages (from ragstack-ai-llamaindex[azure,bedrock,colbert,google]==1.0.5->ragstack-ai) (1.16.0)\n",
            "Requirement already satisfied: llama-index==0.10.31 in /usr/local/lib/python3.10/dist-packages (from ragstack-ai-llamaindex[azure,bedrock,colbert,google]==1.0.5->ragstack-ai) (0.10.31)\n",
            "Requirement already satisfied: llama-index-embeddings-langchain==0.1.2 in /usr/local/lib/python3.10/dist-packages (from ragstack-ai-llamaindex[azure,bedrock,colbert,google]==1.0.5->ragstack-ai) (0.1.2)\n",
            "Requirement already satisfied: llama-index-tools-cassandra==0.1.1 in /usr/local/lib/python3.10/dist-packages (from ragstack-ai-llamaindex[azure,bedrock,colbert,google]==1.0.5->ragstack-ai) (0.1.1)\n",
            "Requirement already satisfied: llama-index-vector-stores-astra-db==0.1.7 in /usr/local/lib/python3.10/dist-packages (from ragstack-ai-llamaindex[azure,bedrock,colbert,google]==1.0.5->ragstack-ai) (0.1.7)\n",
            "Requirement already satisfied: llama-index-vector-stores-cassandra==0.1.3 in /usr/local/lib/python3.10/dist-packages (from ragstack-ai-llamaindex[azure,bedrock,colbert,google]==1.0.5->ragstack-ai) (0.1.3)\n",
            "Requirement already satisfied: llama-parse==0.4.1 in /usr/local/lib/python3.10/dist-packages (from ragstack-ai-llamaindex[azure,bedrock,colbert,google]==1.0.5->ragstack-ai) (0.4.1)\n",
            "Requirement already satisfied: llama-index-embeddings-bedrock==0.1.4 in /usr/local/lib/python3.10/dist-packages (from ragstack-ai-llamaindex[azure,bedrock,colbert,google]==1.0.5->ragstack-ai) (0.1.4)\n",
            "Requirement already satisfied: llama-index-llms-bedrock==0.1.7 in /usr/local/lib/python3.10/dist-packages (from ragstack-ai-llamaindex[azure,bedrock,colbert,google]==1.0.5->ragstack-ai) (0.1.7)\n",
            "Requirement already satisfied: llama-index-embeddings-azure-openai==0.1.7 in /usr/local/lib/python3.10/dist-packages (from ragstack-ai-llamaindex[azure,bedrock,colbert,google]==1.0.5->ragstack-ai) (0.1.7)\n",
            "Requirement already satisfied: llama-index-llms-azure-openai==0.1.6 in /usr/local/lib/python3.10/dist-packages (from ragstack-ai-llamaindex[azure,bedrock,colbert,google]==1.0.5->ragstack-ai) (0.1.6)\n",
            "Requirement already satisfied: llama-index-embeddings-gemini==0.1.6 in /usr/local/lib/python3.10/dist-packages (from ragstack-ai-llamaindex[azure,bedrock,colbert,google]==1.0.5->ragstack-ai) (0.1.6)\n",
            "Requirement already satisfied: llama-index-llms-gemini==0.1.7 in /usr/local/lib/python3.10/dist-packages (from ragstack-ai-llamaindex[azure,bedrock,colbert,google]==1.0.5->ragstack-ai) (0.1.7)\n",
            "Requirement already satisfied: llama-index-llms-vertex==0.1.5 in /usr/local/lib/python3.10/dist-packages (from ragstack-ai-llamaindex[azure,bedrock,colbert,google]==1.0.5->ragstack-ai) (0.1.5)\n",
            "Requirement already satisfied: llama-index-multi-modal-llms-gemini==0.1.5 in /usr/local/lib/python3.10/dist-packages (from ragstack-ai-llamaindex[azure,bedrock,colbert,google]==1.0.5->ragstack-ai) (0.1.5)\n",
            "Requirement already satisfied: bitarray in /usr/local/lib/python3.10/dist-packages (from colbert-ai==0.2.19->ragstack-ai-colbert==1.0.5->ragstack-ai) (2.9.2)\n",
            "Requirement already satisfied: datasets in /usr/local/lib/python3.10/dist-packages (from colbert-ai==0.2.19->ragstack-ai-colbert==1.0.5->ragstack-ai) (2.19.2)\n",
            "Requirement already satisfied: flask in /usr/local/lib/python3.10/dist-packages (from colbert-ai==0.2.19->ragstack-ai-colbert==1.0.5->ragstack-ai) (2.2.5)\n",
            "Requirement already satisfied: git-python in /usr/local/lib/python3.10/dist-packages (from colbert-ai==0.2.19->ragstack-ai-colbert==1.0.5->ragstack-ai) (1.0.3)\n",
            "Requirement already satisfied: python-dotenv in /usr/local/lib/python3.10/dist-packages (from colbert-ai==0.2.19->ragstack-ai-colbert==1.0.5->ragstack-ai) (1.0.1)\n",
            "Requirement already satisfied: ninja in /usr/local/lib/python3.10/dist-packages (from colbert-ai==0.2.19->ragstack-ai-colbert==1.0.5->ragstack-ai) (1.11.1.1)\n",
            "Requirement already satisfied: scipy in /usr/local/lib/python3.10/dist-packages (from colbert-ai==0.2.19->ragstack-ai-colbert==1.0.5->ragstack-ai) (1.11.4)\n",
            "Requirement already satisfied: tqdm in /usr/local/lib/python3.10/dist-packages (from colbert-ai==0.2.19->ragstack-ai-colbert==1.0.5->ragstack-ai) (4.66.4)\n",
            "Requirement already satisfied: transformers in /usr/local/lib/python3.10/dist-packages (from colbert-ai==0.2.19->ragstack-ai-colbert==1.0.5->ragstack-ai) (4.41.2)\n",
            "Requirement already satisfied: ujson in /usr/local/lib/python3.10/dist-packages (from colbert-ai==0.2.19->ragstack-ai-colbert==1.0.5->ragstack-ai) (5.10.0)\n",
            "Requirement already satisfied: PyYAML>=5.3 in /usr/local/lib/python3.10/dist-packages (from langchain==0.1.19->ragstack-ai-langchain[colbert,google,nvidia]==1.0.7->ragstack-ai) (6.0.1)\n",
            "Requirement already satisfied: SQLAlchemy<3,>=1.4 in /usr/local/lib/python3.10/dist-packages (from langchain==0.1.19->ragstack-ai-langchain[colbert,google,nvidia]==1.0.7->ragstack-ai) (2.0.30)\n",
            "Requirement already satisfied: aiohttp<4.0.0,>=3.8.3 in /usr/local/lib/python3.10/dist-packages (from langchain==0.1.19->ragstack-ai-langchain[colbert,google,nvidia]==1.0.7->ragstack-ai) (3.9.5)\n",
            "Requirement already satisfied: async-timeout<5.0.0,>=4.0.0 in /usr/local/lib/python3.10/dist-packages (from langchain==0.1.19->ragstack-ai-langchain[colbert,google,nvidia]==1.0.7->ragstack-ai) (4.0.3)\n",
            "Requirement already satisfied: dataclasses-json<0.7,>=0.5.7 in /usr/local/lib/python3.10/dist-packages (from langchain==0.1.19->ragstack-ai-langchain[colbert,google,nvidia]==1.0.7->ragstack-ai) (0.6.6)\n",
            "Requirement already satisfied: langchain-text-splitters<0.1,>=0.0.1 in /usr/local/lib/python3.10/dist-packages (from langchain==0.1.19->ragstack-ai-langchain[colbert,google,nvidia]==1.0.7->ragstack-ai) (0.0.2)\n",
            "Requirement already satisfied: langsmith<0.2.0,>=0.1.17 in /usr/local/lib/python3.10/dist-packages (from langchain==0.1.19->ragstack-ai-langchain[colbert,google,nvidia]==1.0.7->ragstack-ai) (0.1.75)\n",
            "Requirement already satisfied: numpy<2,>=1 in /usr/local/lib/python3.10/dist-packages (from langchain==0.1.19->ragstack-ai-langchain[colbert,google,nvidia]==1.0.7->ragstack-ai) (1.25.2)\n",
            "Requirement already satisfied: requests<3,>=2 in /usr/local/lib/python3.10/dist-packages (from langchain==0.1.19->ragstack-ai-langchain[colbert,google,nvidia]==1.0.7->ragstack-ai) (2.32.3)\n",
            "Requirement already satisfied: tenacity<9.0.0,>=8.1.0 in /usr/local/lib/python3.10/dist-packages (from langchain==0.1.19->ragstack-ai-langchain[colbert,google,nvidia]==1.0.7->ragstack-ai) (8.3.0)\n",
            "Requirement already satisfied: jsonpatch<2.0,>=1.33 in /usr/local/lib/python3.10/dist-packages (from langchain-core==0.1.52->ragstack-ai-langchain[colbert,google,nvidia]==1.0.7->ragstack-ai) (1.33)\n",
            "Requirement already satisfied: packaging<24.0,>=23.2 in /usr/local/lib/python3.10/dist-packages (from langchain-core==0.1.52->ragstack-ai-langchain[colbert,google,nvidia]==1.0.7->ragstack-ai) (23.2)\n",
            "Requirement already satisfied: google-generativeai<0.5.0,>=0.4.1 in /usr/local/lib/python3.10/dist-packages (from langchain-google-genai==0.0.11->ragstack-ai-langchain[colbert,google,nvidia]==1.0.7->ragstack-ai) (0.4.1)\n",
            "Requirement already satisfied: google-cloud-aiplatform<2.0.0,>=1.47.0 in /root/.local/lib/python3.10/site-packages (from langchain-google-vertexai==1.0.1->ragstack-ai-langchain[colbert,google,nvidia]==1.0.7->ragstack-ai) (1.54.1)\n",
            "Requirement already satisfied: google-cloud-storage<3.0.0,>=2.14.0 in /usr/local/lib/python3.10/dist-packages (from langchain-google-vertexai==1.0.1->ragstack-ai-langchain[colbert,google,nvidia]==1.0.7->ragstack-ai) (2.16.0)\n",
            "Requirement already satisfied: types-protobuf<5.0.0.0,>=4.24.0.4 in /usr/local/lib/python3.10/dist-packages (from langchain-google-vertexai==1.0.1->ragstack-ai-langchain[colbert,google,nvidia]==1.0.7->ragstack-ai) (4.25.0.20240417)\n",
            "Requirement already satisfied: types-requests<3.0.0,>=2.31.0 in /usr/local/lib/python3.10/dist-packages (from langchain-google-vertexai==1.0.1->ragstack-ai-langchain[colbert,google,nvidia]==1.0.7->ragstack-ai) (2.32.0.20240602)\n",
            "Requirement already satisfied: pillow<11.0.0,>=10.0.0 in /usr/local/lib/python3.10/dist-packages (from langchain-nvidia-ai-endpoints==0.0.9->ragstack-ai-langchain[colbert,google,nvidia]==1.0.7->ragstack-ai) (10.3.0)\n",
            "Requirement already satisfied: openai<2.0.0,>=1.10.0 in /usr/local/lib/python3.10/dist-packages (from langchain-openai==0.1.3->ragstack-ai-langchain[colbert,google,nvidia]==1.0.7->ragstack-ai) (1.33.0)\n",
            "Requirement already satisfied: tiktoken<1,>=0.5.2 in /usr/local/lib/python3.10/dist-packages (from langchain-openai==0.1.3->ragstack-ai-langchain[colbert,google,nvidia]==1.0.7->ragstack-ai) (0.7.0)\n",
            "Requirement already satisfied: llama-index-agent-openai<0.3.0,>=0.1.4 in /usr/local/lib/python3.10/dist-packages (from llama-index==0.10.31->ragstack-ai-llamaindex[azure,bedrock,colbert,google]==1.0.5->ragstack-ai) (0.2.7)\n",
            "Requirement already satisfied: llama-index-cli<0.2.0,>=0.1.2 in /usr/local/lib/python3.10/dist-packages (from llama-index==0.10.31->ragstack-ai-llamaindex[azure,bedrock,colbert,google]==1.0.5->ragstack-ai) (0.1.12)\n",
            "Requirement already satisfied: llama-index-core<0.11.0,>=0.10.31 in /usr/local/lib/python3.10/dist-packages (from llama-index==0.10.31->ragstack-ai-llamaindex[azure,bedrock,colbert,google]==1.0.5->ragstack-ai) (0.10.43.post1)\n",
            "Requirement already satisfied: llama-index-embeddings-openai<0.2.0,>=0.1.5 in /usr/local/lib/python3.10/dist-packages (from llama-index==0.10.31->ragstack-ai-llamaindex[azure,bedrock,colbert,google]==1.0.5->ragstack-ai) (0.1.10)\n",
            "Requirement already satisfied: llama-index-indices-managed-llama-cloud<0.2.0,>=0.1.2 in /usr/local/lib/python3.10/dist-packages (from llama-index==0.10.31->ragstack-ai-llamaindex[azure,bedrock,colbert,google]==1.0.5->ragstack-ai) (0.1.6)\n",
            "Requirement already satisfied: llama-index-legacy<0.10.0,>=0.9.48 in /usr/local/lib/python3.10/dist-packages (from llama-index==0.10.31->ragstack-ai-llamaindex[azure,bedrock,colbert,google]==1.0.5->ragstack-ai) (0.9.48)\n",
            "Requirement already satisfied: llama-index-llms-openai<0.2.0,>=0.1.13 in /usr/local/lib/python3.10/dist-packages (from llama-index==0.10.31->ragstack-ai-llamaindex[azure,bedrock,colbert,google]==1.0.5->ragstack-ai) (0.1.22)\n",
            "Requirement already satisfied: llama-index-multi-modal-llms-openai<0.2.0,>=0.1.3 in /usr/local/lib/python3.10/dist-packages (from llama-index==0.10.31->ragstack-ai-llamaindex[azure,bedrock,colbert,google]==1.0.5->ragstack-ai) (0.1.6)\n",
            "Requirement already satisfied: llama-index-program-openai<0.2.0,>=0.1.3 in /usr/local/lib/python3.10/dist-packages (from llama-index==0.10.31->ragstack-ai-llamaindex[azure,bedrock,colbert,google]==1.0.5->ragstack-ai) (0.1.6)\n",
            "Requirement already satisfied: llama-index-question-gen-openai<0.2.0,>=0.1.2 in /usr/local/lib/python3.10/dist-packages (from llama-index==0.10.31->ragstack-ai-llamaindex[azure,bedrock,colbert,google]==1.0.5->ragstack-ai) (0.1.3)\n",
            "Requirement already satisfied: llama-index-readers-file<0.2.0,>=0.1.4 in /usr/local/lib/python3.10/dist-packages (from llama-index==0.10.31->ragstack-ai-llamaindex[azure,bedrock,colbert,google]==1.0.5->ragstack-ai) (0.1.23)\n",
            "Requirement already satisfied: llama-index-readers-llama-parse<0.2.0,>=0.1.2 in /usr/local/lib/python3.10/dist-packages (from llama-index==0.10.31->ragstack-ai-llamaindex[azure,bedrock,colbert,google]==1.0.5->ragstack-ai) (0.1.4)\n",
            "Requirement already satisfied: boto3<2.0.0,>=1.34.23 in /usr/local/lib/python3.10/dist-packages (from llama-index-embeddings-bedrock==0.1.4->ragstack-ai-llamaindex[azure,bedrock,colbert,google]==1.0.5->ragstack-ai) (1.34.122)\n",
            "Requirement already satisfied: azure-identity<2.0.0,>=1.15.0 in /usr/local/lib/python3.10/dist-packages (from llama-index-llms-azure-openai==0.1.6->ragstack-ai-llamaindex[azure,bedrock,colbert,google]==1.0.5->ragstack-ai) (1.16.0)\n",
            "Requirement already satisfied: httpx in /usr/local/lib/python3.10/dist-packages (from llama-index-llms-azure-openai==0.1.6->ragstack-ai-llamaindex[azure,bedrock,colbert,google]==1.0.5->ragstack-ai) (0.27.0)\n",
            "Requirement already satisfied: llama-index-llms-anthropic<0.2.0,>=0.1.7 in /usr/local/lib/python3.10/dist-packages (from llama-index-llms-bedrock==0.1.7->ragstack-ai-llamaindex[azure,bedrock,colbert,google]==1.0.5->ragstack-ai) (0.1.11)\n",
            "Requirement already satisfied: filelock in /usr/local/lib/python3.10/dist-packages (from torch==2.2.1->ragstack-ai-colbert==1.0.5->ragstack-ai) (3.14.0)\n",
            "Requirement already satisfied: typing-extensions>=4.8.0 in /usr/local/lib/python3.10/dist-packages (from torch==2.2.1->ragstack-ai-colbert==1.0.5->ragstack-ai) (4.12.1)\n",
            "Requirement already satisfied: sympy in /usr/local/lib/python3.10/dist-packages (from torch==2.2.1->ragstack-ai-colbert==1.0.5->ragstack-ai) (1.12.1)\n",
            "Requirement already satisfied: networkx in /usr/local/lib/python3.10/dist-packages (from torch==2.2.1->ragstack-ai-colbert==1.0.5->ragstack-ai) (3.3)\n",
            "Requirement already satisfied: jinja2 in /usr/local/lib/python3.10/dist-packages (from torch==2.2.1->ragstack-ai-colbert==1.0.5->ragstack-ai) (3.1.4)\n",
            "Requirement already satisfied: fsspec in /usr/local/lib/python3.10/dist-packages (from torch==2.2.1->ragstack-ai-colbert==1.0.5->ragstack-ai) (2023.6.0)\n",
            "Requirement already satisfied: nvidia-cuda-nvrtc-cu12==12.1.105 in /usr/local/lib/python3.10/dist-packages (from torch==2.2.1->ragstack-ai-colbert==1.0.5->ragstack-ai) (12.1.105)\n",
            "Requirement already satisfied: nvidia-cuda-runtime-cu12==12.1.105 in /usr/local/lib/python3.10/dist-packages (from torch==2.2.1->ragstack-ai-colbert==1.0.5->ragstack-ai) (12.1.105)\n",
            "Requirement already satisfied: nvidia-cuda-cupti-cu12==12.1.105 in /usr/local/lib/python3.10/dist-packages (from torch==2.2.1->ragstack-ai-colbert==1.0.5->ragstack-ai) (12.1.105)\n",
            "Requirement already satisfied: nvidia-cudnn-cu12==8.9.2.26 in /usr/local/lib/python3.10/dist-packages (from torch==2.2.1->ragstack-ai-colbert==1.0.5->ragstack-ai) (8.9.2.26)\n",
            "Requirement already satisfied: nvidia-cublas-cu12==12.1.3.1 in /usr/local/lib/python3.10/dist-packages (from torch==2.2.1->ragstack-ai-colbert==1.0.5->ragstack-ai) (12.1.3.1)\n",
            "Requirement already satisfied: nvidia-cufft-cu12==11.0.2.54 in /usr/local/lib/python3.10/dist-packages (from torch==2.2.1->ragstack-ai-colbert==1.0.5->ragstack-ai) (11.0.2.54)\n",
            "Requirement already satisfied: nvidia-curand-cu12==10.3.2.106 in /usr/local/lib/python3.10/dist-packages (from torch==2.2.1->ragstack-ai-colbert==1.0.5->ragstack-ai) (10.3.2.106)\n",
            "Requirement already satisfied: nvidia-cusolver-cu12==11.4.5.107 in /usr/local/lib/python3.10/dist-packages (from torch==2.2.1->ragstack-ai-colbert==1.0.5->ragstack-ai) (11.4.5.107)\n",
            "Requirement already satisfied: nvidia-cusparse-cu12==12.1.0.106 in /usr/local/lib/python3.10/dist-packages (from torch==2.2.1->ragstack-ai-colbert==1.0.5->ragstack-ai) (12.1.0.106)\n",
            "Requirement already satisfied: nvidia-nccl-cu12==2.19.3 in /usr/local/lib/python3.10/dist-packages (from torch==2.2.1->ragstack-ai-colbert==1.0.5->ragstack-ai) (2.19.3)\n",
            "Requirement already satisfied: nvidia-nvtx-cu12==12.1.105 in /usr/local/lib/python3.10/dist-packages (from torch==2.2.1->ragstack-ai-colbert==1.0.5->ragstack-ai) (12.1.105)\n",
            "Requirement already satisfied: triton==2.2.0 in /usr/local/lib/python3.10/dist-packages (from torch==2.2.1->ragstack-ai-colbert==1.0.5->ragstack-ai) (2.2.0)\n",
            "Requirement already satisfied: chardet in /usr/local/lib/python3.10/dist-packages (from unstructured==0.14.2->ragstack-ai-langchain[colbert,google,nvidia]==1.0.7->ragstack-ai) (5.2.0)\n",
            "Requirement already satisfied: filetype in /usr/local/lib/python3.10/dist-packages (from unstructured==0.14.2->ragstack-ai-langchain[colbert,google,nvidia]==1.0.7->ragstack-ai) (1.2.0)\n",
            "Requirement already satisfied: python-magic in /usr/local/lib/python3.10/dist-packages (from unstructured==0.14.2->ragstack-ai-langchain[colbert,google,nvidia]==1.0.7->ragstack-ai) (0.4.27)\n",
            "Requirement already satisfied: lxml in /usr/local/lib/python3.10/dist-packages (from unstructured==0.14.2->ragstack-ai-langchain[colbert,google,nvidia]==1.0.7->ragstack-ai) (4.9.4)\n",
            "Requirement already satisfied: nltk in /usr/local/lib/python3.10/dist-packages (from unstructured==0.14.2->ragstack-ai-langchain[colbert,google,nvidia]==1.0.7->ragstack-ai) (3.8.1)\n",
            "Requirement already satisfied: tabulate in /usr/local/lib/python3.10/dist-packages (from unstructured==0.14.2->ragstack-ai-langchain[colbert,google,nvidia]==1.0.7->ragstack-ai) (0.9.0)\n",
            "Requirement already satisfied: beautifulsoup4 in /usr/local/lib/python3.10/dist-packages (from unstructured==0.14.2->ragstack-ai-langchain[colbert,google,nvidia]==1.0.7->ragstack-ai) (4.12.3)\n",
            "Requirement already satisfied: emoji in /usr/local/lib/python3.10/dist-packages (from unstructured==0.14.2->ragstack-ai-langchain[colbert,google,nvidia]==1.0.7->ragstack-ai) (2.12.1)\n",
            "Requirement already satisfied: python-iso639 in /usr/local/lib/python3.10/dist-packages (from unstructured==0.14.2->ragstack-ai-langchain[colbert,google,nvidia]==1.0.7->ragstack-ai) (2024.4.27)\n",
            "Requirement already satisfied: langdetect in /usr/local/lib/python3.10/dist-packages (from unstructured==0.14.2->ragstack-ai-langchain[colbert,google,nvidia]==1.0.7->ragstack-ai) (1.0.9)\n",
            "Requirement already satisfied: rapidfuzz in /usr/local/lib/python3.10/dist-packages (from unstructured==0.14.2->ragstack-ai-langchain[colbert,google,nvidia]==1.0.7->ragstack-ai) (3.9.3)\n",
            "Requirement already satisfied: backoff in /usr/local/lib/python3.10/dist-packages (from unstructured==0.14.2->ragstack-ai-langchain[colbert,google,nvidia]==1.0.7->ragstack-ai) (2.2.1)\n",
            "Requirement already satisfied: unstructured-client in /usr/local/lib/python3.10/dist-packages (from unstructured==0.14.2->ragstack-ai-langchain[colbert,google,nvidia]==1.0.7->ragstack-ai) (0.23.2)\n",
            "Requirement already satisfied: wrapt in /usr/local/lib/python3.10/dist-packages (from unstructured==0.14.2->ragstack-ai-langchain[colbert,google,nvidia]==1.0.7->ragstack-ai) (1.14.1)\n",
            "Requirement already satisfied: nvidia-nvjitlink-cu12 in /usr/local/lib/python3.10/dist-packages (from nvidia-cusolver-cu12==11.4.5.107->torch==2.2.1->ragstack-ai-colbert==1.0.5->ragstack-ai) (12.5.40)\n",
            "Requirement already satisfied: bson<0.6.0,>=0.5.10 in /usr/local/lib/python3.10/dist-packages (from astrapy<2,>=1->ragstack-ai-langchain[colbert,google,nvidia]==1.0.7->ragstack-ai) (0.5.10)\n",
            "Requirement already satisfied: deprecation<2.2.0,>=2.1.0 in /usr/local/lib/python3.10/dist-packages (from astrapy<2,>=1->ragstack-ai-langchain[colbert,google,nvidia]==1.0.7->ragstack-ai) (2.1.0)\n",
            "Requirement already satisfied: toml<0.11.0,>=0.10.2 in /usr/local/lib/python3.10/dist-packages (from astrapy<2,>=1->ragstack-ai-langchain[colbert,google,nvidia]==1.0.7->ragstack-ai) (0.10.2)\n",
            "Requirement already satisfied: uuid6<2024.2.0,>=2024.1.12 in /usr/local/lib/python3.10/dist-packages (from astrapy<2,>=1->ragstack-ai-langchain[colbert,google,nvidia]==1.0.7->ragstack-ai) (2024.1.12)\n",
            "Requirement already satisfied: cassandra-driver<4.0.0,>=3.28.0 in /usr/local/lib/python3.10/dist-packages (from cassio<0.2.0,>=0.1.7->ragstack-ai-colbert==1.0.5->ragstack-ai) (3.29.1)\n",
            "Requirement already satisfied: pycparser in /usr/local/lib/python3.10/dist-packages (from cffi<2.0.0,>=1.16.0->ragstack-ai-llamaindex[azure,bedrock,colbert,google]==1.0.5->ragstack-ai) (2.22)\n",
            "Requirement already satisfied: annotated-types>=0.4.0 in /usr/local/lib/python3.10/dist-packages (from pydantic<3.0.0,>=2.7.1->ragstack-ai-colbert==1.0.5->ragstack-ai) (0.7.0)\n",
            "Requirement already satisfied: pydantic-core==2.18.4 in /usr/local/lib/python3.10/dist-packages (from pydantic<3.0.0,>=2.7.1->ragstack-ai-colbert==1.0.5->ragstack-ai) (2.18.4)\n",
            "Requirement already satisfied: aiosignal>=1.1.2 in /usr/local/lib/python3.10/dist-packages (from aiohttp<4.0.0,>=3.8.3->langchain==0.1.19->ragstack-ai-langchain[colbert,google,nvidia]==1.0.7->ragstack-ai) (1.3.1)\n",
            "Requirement already satisfied: attrs>=17.3.0 in /usr/local/lib/python3.10/dist-packages (from aiohttp<4.0.0,>=3.8.3->langchain==0.1.19->ragstack-ai-langchain[colbert,google,nvidia]==1.0.7->ragstack-ai) (23.2.0)\n",
            "Requirement already satisfied: frozenlist>=1.1.1 in /usr/local/lib/python3.10/dist-packages (from aiohttp<4.0.0,>=3.8.3->langchain==0.1.19->ragstack-ai-langchain[colbert,google,nvidia]==1.0.7->ragstack-ai) (1.4.1)\n",
            "Requirement already satisfied: multidict<7.0,>=4.5 in /usr/local/lib/python3.10/dist-packages (from aiohttp<4.0.0,>=3.8.3->langchain==0.1.19->ragstack-ai-langchain[colbert,google,nvidia]==1.0.7->ragstack-ai) (6.0.5)\n",
            "Requirement already satisfied: yarl<2.0,>=1.0 in /usr/local/lib/python3.10/dist-packages (from aiohttp<4.0.0,>=3.8.3->langchain==0.1.19->ragstack-ai-langchain[colbert,google,nvidia]==1.0.7->ragstack-ai) (1.9.4)\n",
            "Requirement already satisfied: azure-core>=1.23.0 in /usr/local/lib/python3.10/dist-packages (from azure-identity<2.0.0,>=1.15.0->llama-index-llms-azure-openai==0.1.6->ragstack-ai-llamaindex[azure,bedrock,colbert,google]==1.0.5->ragstack-ai) (1.30.2)\n",
            "Requirement already satisfied: cryptography>=2.5 in /usr/local/lib/python3.10/dist-packages (from azure-identity<2.0.0,>=1.15.0->llama-index-llms-azure-openai==0.1.6->ragstack-ai-llamaindex[azure,bedrock,colbert,google]==1.0.5->ragstack-ai) (42.0.7)\n",
            "Requirement already satisfied: msal>=1.24.0 in /usr/local/lib/python3.10/dist-packages (from azure-identity<2.0.0,>=1.15.0->llama-index-llms-azure-openai==0.1.6->ragstack-ai-llamaindex[azure,bedrock,colbert,google]==1.0.5->ragstack-ai) (1.28.0)\n",
            "Requirement already satisfied: msal-extensions>=0.3.0 in /usr/local/lib/python3.10/dist-packages (from azure-identity<2.0.0,>=1.15.0->llama-index-llms-azure-openai==0.1.6->ragstack-ai-llamaindex[azure,bedrock,colbert,google]==1.0.5->ragstack-ai) (1.1.0)\n",
            "Requirement already satisfied: botocore<1.35.0,>=1.34.122 in /usr/local/lib/python3.10/dist-packages (from boto3<2.0.0,>=1.34.23->llama-index-embeddings-bedrock==0.1.4->ragstack-ai-llamaindex[azure,bedrock,colbert,google]==1.0.5->ragstack-ai) (1.34.122)\n",
            "Requirement already satisfied: jmespath<2.0.0,>=0.7.1 in /usr/local/lib/python3.10/dist-packages (from boto3<2.0.0,>=1.34.23->llama-index-embeddings-bedrock==0.1.4->ragstack-ai-llamaindex[azure,bedrock,colbert,google]==1.0.5->ragstack-ai) (1.0.1)\n",
            "Requirement already satisfied: s3transfer<0.11.0,>=0.10.0 in /usr/local/lib/python3.10/dist-packages (from boto3<2.0.0,>=1.34.23->llama-index-embeddings-bedrock==0.1.4->ragstack-ai-llamaindex[azure,bedrock,colbert,google]==1.0.5->ragstack-ai) (0.10.1)\n",
            "Requirement already satisfied: python-dateutil>=2.4.0 in /usr/local/lib/python3.10/dist-packages (from bson<0.6.0,>=0.5.10->astrapy<2,>=1->ragstack-ai-langchain[colbert,google,nvidia]==1.0.7->ragstack-ai) (2.8.2)\n",
            "Requirement already satisfied: six>=1.9.0 in /usr/local/lib/python3.10/dist-packages (from bson<0.6.0,>=0.5.10->astrapy<2,>=1->ragstack-ai-langchain[colbert,google,nvidia]==1.0.7->ragstack-ai) (1.16.0)\n",
            "Requirement already satisfied: geomet<0.3,>=0.1 in /usr/local/lib/python3.10/dist-packages (from cassandra-driver<4.0.0,>=3.28.0->cassio<0.2.0,>=0.1.7->ragstack-ai-colbert==1.0.5->ragstack-ai) (0.2.1.post1)\n",
            "Requirement already satisfied: marshmallow<4.0.0,>=3.18.0 in /usr/local/lib/python3.10/dist-packages (from dataclasses-json<0.7,>=0.5.7->langchain==0.1.19->ragstack-ai-langchain[colbert,google,nvidia]==1.0.7->ragstack-ai) (3.21.3)\n",
            "Requirement already satisfied: typing-inspect<1,>=0.4.0 in /usr/local/lib/python3.10/dist-packages (from dataclasses-json<0.7,>=0.5.7->langchain==0.1.19->ragstack-ai-langchain[colbert,google,nvidia]==1.0.7->ragstack-ai) (0.9.0)\n",
            "Requirement already satisfied: google-api-core[grpc]!=2.0.*,!=2.1.*,!=2.2.*,!=2.3.*,!=2.4.*,!=2.5.*,!=2.6.*,!=2.7.*,<3.0.0dev,>=1.34.1 in /usr/local/lib/python3.10/dist-packages (from google-cloud-aiplatform<2.0.0,>=1.47.0->langchain-google-vertexai==1.0.1->ragstack-ai-langchain[colbert,google,nvidia]==1.0.7->ragstack-ai) (2.19.0)\n",
            "Requirement already satisfied: google-auth<3.0.0dev,>=2.14.1 in /usr/local/lib/python3.10/dist-packages (from google-cloud-aiplatform<2.0.0,>=1.47.0->langchain-google-vertexai==1.0.1->ragstack-ai-langchain[colbert,google,nvidia]==1.0.7->ragstack-ai) (2.27.0)\n",
            "Requirement already satisfied: proto-plus<2.0.0dev,>=1.22.0 in /usr/local/lib/python3.10/dist-packages (from google-cloud-aiplatform<2.0.0,>=1.47.0->langchain-google-vertexai==1.0.1->ragstack-ai-langchain[colbert,google,nvidia]==1.0.7->ragstack-ai) (1.23.0)\n",
            "Requirement already satisfied: protobuf!=3.20.0,!=3.20.1,!=4.21.0,!=4.21.1,!=4.21.2,!=4.21.3,!=4.21.4,!=4.21.5,<5.0.0dev,>=3.19.5 in /usr/local/lib/python3.10/dist-packages (from google-cloud-aiplatform<2.0.0,>=1.47.0->langchain-google-vertexai==1.0.1->ragstack-ai-langchain[colbert,google,nvidia]==1.0.7->ragstack-ai) (3.20.3)\n",
            "Requirement already satisfied: google-cloud-bigquery!=3.20.0,<4.0.0dev,>=1.15.0 in /usr/local/lib/python3.10/dist-packages (from google-cloud-aiplatform<2.0.0,>=1.47.0->langchain-google-vertexai==1.0.1->ragstack-ai-langchain[colbert,google,nvidia]==1.0.7->ragstack-ai) (3.21.0)\n",
            "Requirement already satisfied: google-cloud-resource-manager<3.0.0dev,>=1.3.3 in /usr/local/lib/python3.10/dist-packages (from google-cloud-aiplatform<2.0.0,>=1.47.0->langchain-google-vertexai==1.0.1->ragstack-ai-langchain[colbert,google,nvidia]==1.0.7->ragstack-ai) (1.12.3)\n",
            "Requirement already satisfied: shapely<3.0.0dev in /usr/local/lib/python3.10/dist-packages (from google-cloud-aiplatform<2.0.0,>=1.47.0->langchain-google-vertexai==1.0.1->ragstack-ai-langchain[colbert,google,nvidia]==1.0.7->ragstack-ai) (2.0.4)\n",
            "Requirement already satisfied: docstring-parser<1 in /usr/local/lib/python3.10/dist-packages (from google-cloud-aiplatform<2.0.0,>=1.47.0->langchain-google-vertexai==1.0.1->ragstack-ai-langchain[colbert,google,nvidia]==1.0.7->ragstack-ai) (0.16)\n",
            "Requirement already satisfied: google-cloud-core<3.0dev,>=2.3.0 in /usr/local/lib/python3.10/dist-packages (from google-cloud-storage<3.0.0,>=2.14.0->langchain-google-vertexai==1.0.1->ragstack-ai-langchain[colbert,google,nvidia]==1.0.7->ragstack-ai) (2.3.3)\n",
            "Requirement already satisfied: google-resumable-media>=2.6.0 in /usr/local/lib/python3.10/dist-packages (from google-cloud-storage<3.0.0,>=2.14.0->langchain-google-vertexai==1.0.1->ragstack-ai-langchain[colbert,google,nvidia]==1.0.7->ragstack-ai) (2.7.0)\n",
            "Requirement already satisfied: google-crc32c<2.0dev,>=1.0 in /usr/local/lib/python3.10/dist-packages (from google-cloud-storage<3.0.0,>=2.14.0->langchain-google-vertexai==1.0.1->ragstack-ai-langchain[colbert,google,nvidia]==1.0.7->ragstack-ai) (1.5.0)\n",
            "Requirement already satisfied: google-ai-generativelanguage==0.4.0 in /usr/local/lib/python3.10/dist-packages (from google-generativeai<0.5.0,>=0.4.1->langchain-google-genai==0.0.11->ragstack-ai-langchain[colbert,google,nvidia]==1.0.7->ragstack-ai) (0.4.0)\n",
            "Requirement already satisfied: anyio in /usr/local/lib/python3.10/dist-packages (from httpx->llama-index-llms-azure-openai==0.1.6->ragstack-ai-llamaindex[azure,bedrock,colbert,google]==1.0.5->ragstack-ai) (3.7.1)\n",
            "Requirement already satisfied: certifi in /usr/local/lib/python3.10/dist-packages (from httpx->llama-index-llms-azure-openai==0.1.6->ragstack-ai-llamaindex[azure,bedrock,colbert,google]==1.0.5->ragstack-ai) (2024.6.2)\n",
            "Requirement already satisfied: httpcore==1.* in /usr/local/lib/python3.10/dist-packages (from httpx->llama-index-llms-azure-openai==0.1.6->ragstack-ai-llamaindex[azure,bedrock,colbert,google]==1.0.5->ragstack-ai) (1.0.5)\n",
            "Requirement already satisfied: idna in /usr/local/lib/python3.10/dist-packages (from httpx->llama-index-llms-azure-openai==0.1.6->ragstack-ai-llamaindex[azure,bedrock,colbert,google]==1.0.5->ragstack-ai) (3.7)\n",
            "Requirement already satisfied: sniffio in /usr/local/lib/python3.10/dist-packages (from httpx->llama-index-llms-azure-openai==0.1.6->ragstack-ai-llamaindex[azure,bedrock,colbert,google]==1.0.5->ragstack-ai) (1.3.1)\n",
            "Requirement already satisfied: h2<5,>=3 in /usr/local/lib/python3.10/dist-packages (from httpx->llama-index-llms-azure-openai==0.1.6->ragstack-ai-llamaindex[azure,bedrock,colbert,google]==1.0.5->ragstack-ai) (4.1.0)\n",
            "Requirement already satisfied: h11<0.15,>=0.13 in /usr/local/lib/python3.10/dist-packages (from httpcore==1.*->httpx->llama-index-llms-azure-openai==0.1.6->ragstack-ai-llamaindex[azure,bedrock,colbert,google]==1.0.5->ragstack-ai) (0.14.0)\n",
            "Requirement already satisfied: jsonpointer>=1.9 in /usr/local/lib/python3.10/dist-packages (from jsonpatch<2.0,>=1.33->langchain-core==0.1.52->ragstack-ai-langchain[colbert,google,nvidia]==1.0.7->ragstack-ai) (2.4)\n",
            "Requirement already satisfied: orjson<4.0.0,>=3.9.14 in /usr/local/lib/python3.10/dist-packages (from langsmith<0.2.0,>=0.1.17->langchain==0.1.19->ragstack-ai-langchain[colbert,google,nvidia]==1.0.7->ragstack-ai) (3.10.3)\n",
            "Requirement already satisfied: deprecated>=1.2.9.3 in /usr/local/lib/python3.10/dist-packages (from llama-index-core<0.11.0,>=0.10.31->llama-index==0.10.31->ragstack-ai-llamaindex[azure,bedrock,colbert,google]==1.0.5->ragstack-ai) (1.2.14)\n",
            "Requirement already satisfied: dirtyjson<2.0.0,>=1.0.8 in /usr/local/lib/python3.10/dist-packages (from llama-index-core<0.11.0,>=0.10.31->llama-index==0.10.31->ragstack-ai-llamaindex[azure,bedrock,colbert,google]==1.0.5->ragstack-ai) (1.0.8)\n",
            "Requirement already satisfied: llamaindex-py-client<0.2.0,>=0.1.18 in /usr/local/lib/python3.10/dist-packages (from llama-index-core<0.11.0,>=0.10.31->llama-index==0.10.31->ragstack-ai-llamaindex[azure,bedrock,colbert,google]==1.0.5->ragstack-ai) (0.1.19)\n",
            "Requirement already satisfied: nest-asyncio<2.0.0,>=1.5.8 in /usr/local/lib/python3.10/dist-packages (from llama-index-core<0.11.0,>=0.10.31->llama-index==0.10.31->ragstack-ai-llamaindex[azure,bedrock,colbert,google]==1.0.5->ragstack-ai) (1.6.0)\n",
            "Requirement already satisfied: pandas in /usr/local/lib/python3.10/dist-packages (from llama-index-core<0.11.0,>=0.10.31->llama-index==0.10.31->ragstack-ai-llamaindex[azure,bedrock,colbert,google]==1.0.5->ragstack-ai) (2.0.3)\n",
            "Requirement already satisfied: anthropic<0.24.0,>=0.23.1 in /usr/local/lib/python3.10/dist-packages (from llama-index-llms-anthropic<0.2.0,>=0.1.7->llama-index-llms-bedrock==0.1.7->ragstack-ai-llamaindex[azure,bedrock,colbert,google]==1.0.5->ragstack-ai) (0.23.1)\n",
            "Requirement already satisfied: pypdf<5.0.0,>=4.0.1 in /usr/local/lib/python3.10/dist-packages (from llama-index-readers-file<0.2.0,>=0.1.4->llama-index==0.10.31->ragstack-ai-llamaindex[azure,bedrock,colbert,google]==1.0.5->ragstack-ai) (4.2.0)\n",
            "Requirement already satisfied: striprtf<0.0.27,>=0.0.26 in /usr/local/lib/python3.10/dist-packages (from llama-index-readers-file<0.2.0,>=0.1.4->llama-index==0.10.31->ragstack-ai-llamaindex[azure,bedrock,colbert,google]==1.0.5->ragstack-ai) (0.0.26)\n",
            "Requirement already satisfied: soupsieve>1.2 in /usr/local/lib/python3.10/dist-packages (from beautifulsoup4->unstructured==0.14.2->ragstack-ai-langchain[colbert,google,nvidia]==1.0.7->ragstack-ai) (2.5)\n",
            "Requirement already satisfied: click in /usr/local/lib/python3.10/dist-packages (from nltk->unstructured==0.14.2->ragstack-ai-langchain[colbert,google,nvidia]==1.0.7->ragstack-ai) (8.1.7)\n",
            "Requirement already satisfied: joblib in /usr/local/lib/python3.10/dist-packages (from nltk->unstructured==0.14.2->ragstack-ai-langchain[colbert,google,nvidia]==1.0.7->ragstack-ai) (1.4.2)\n",
            "Requirement already satisfied: regex>=2021.8.3 in /usr/local/lib/python3.10/dist-packages (from nltk->unstructured==0.14.2->ragstack-ai-langchain[colbert,google,nvidia]==1.0.7->ragstack-ai) (2024.5.15)\n",
            "Requirement already satisfied: distro<2,>=1.7.0 in /usr/lib/python3/dist-packages (from openai<2.0.0,>=1.10.0->langchain-openai==0.1.3->ragstack-ai-langchain[colbert,google,nvidia]==1.0.7->ragstack-ai) (1.7.0)\n",
            "Requirement already satisfied: charset-normalizer<4,>=2 in /usr/local/lib/python3.10/dist-packages (from requests<3,>=2->langchain==0.1.19->ragstack-ai-langchain[colbert,google,nvidia]==1.0.7->ragstack-ai) (3.3.2)\n",
            "Requirement already satisfied: urllib3<3,>=1.21.1 in /usr/local/lib/python3.10/dist-packages (from requests<3,>=2->langchain==0.1.19->ragstack-ai-langchain[colbert,google,nvidia]==1.0.7->ragstack-ai) (2.0.7)\n",
            "Requirement already satisfied: greenlet!=0.4.17 in /usr/local/lib/python3.10/dist-packages (from SQLAlchemy<3,>=1.4->langchain==0.1.19->ragstack-ai-langchain[colbert,google,nvidia]==1.0.7->ragstack-ai) (3.0.3)\n",
            "Requirement already satisfied: pyarrow-hotfix in /usr/local/lib/python3.10/dist-packages (from datasets->colbert-ai==0.2.19->ragstack-ai-colbert==1.0.5->ragstack-ai) (0.6)\n",
            "Requirement already satisfied: dill<0.3.9,>=0.3.0 in /usr/local/lib/python3.10/dist-packages (from datasets->colbert-ai==0.2.19->ragstack-ai-colbert==1.0.5->ragstack-ai) (0.3.8)\n",
            "Requirement already satisfied: xxhash in /usr/local/lib/python3.10/dist-packages (from datasets->colbert-ai==0.2.19->ragstack-ai-colbert==1.0.5->ragstack-ai) (3.4.1)\n",
            "Requirement already satisfied: multiprocess in /usr/local/lib/python3.10/dist-packages (from datasets->colbert-ai==0.2.19->ragstack-ai-colbert==1.0.5->ragstack-ai) (0.70.16)\n",
            "Requirement already satisfied: huggingface-hub>=0.21.2 in /usr/local/lib/python3.10/dist-packages (from datasets->colbert-ai==0.2.19->ragstack-ai-colbert==1.0.5->ragstack-ai) (0.23.2)\n",
            "Requirement already satisfied: Werkzeug>=2.2.2 in /usr/local/lib/python3.10/dist-packages (from flask->colbert-ai==0.2.19->ragstack-ai-colbert==1.0.5->ragstack-ai) (3.0.3)\n",
            "Requirement already satisfied: itsdangerous>=2.0 in /usr/local/lib/python3.10/dist-packages (from flask->colbert-ai==0.2.19->ragstack-ai-colbert==1.0.5->ragstack-ai) (2.2.0)\n",
            "Requirement already satisfied: MarkupSafe>=2.0 in /usr/local/lib/python3.10/dist-packages (from jinja2->torch==2.2.1->ragstack-ai-colbert==1.0.5->ragstack-ai) (2.1.5)\n",
            "Requirement already satisfied: gitpython in /usr/local/lib/python3.10/dist-packages (from git-python->colbert-ai==0.2.19->ragstack-ai-colbert==1.0.5->ragstack-ai) (3.1.43)\n",
            "Requirement already satisfied: mpmath<1.4.0,>=1.1.0 in /usr/local/lib/python3.10/dist-packages (from sympy->torch==2.2.1->ragstack-ai-colbert==1.0.5->ragstack-ai) (1.3.0)\n",
            "Requirement already satisfied: tokenizers<0.20,>=0.19 in /usr/local/lib/python3.10/dist-packages (from transformers->colbert-ai==0.2.19->ragstack-ai-colbert==1.0.5->ragstack-ai) (0.19.1)\n",
            "Requirement already satisfied: safetensors>=0.4.1 in /usr/local/lib/python3.10/dist-packages (from transformers->colbert-ai==0.2.19->ragstack-ai-colbert==1.0.5->ragstack-ai) (0.4.3)\n",
            "Requirement already satisfied: deepdiff>=6.0 in /usr/local/lib/python3.10/dist-packages (from unstructured-client->unstructured==0.14.2->ragstack-ai-langchain[colbert,google,nvidia]==1.0.7->ragstack-ai) (7.0.1)\n",
            "Requirement already satisfied: jsonpath-python>=1.0.6 in /usr/local/lib/python3.10/dist-packages (from unstructured-client->unstructured==0.14.2->ragstack-ai-langchain[colbert,google,nvidia]==1.0.7->ragstack-ai) (1.0.6)\n",
            "Requirement already satisfied: mypy-extensions>=1.0.0 in /usr/local/lib/python3.10/dist-packages (from unstructured-client->unstructured==0.14.2->ragstack-ai-langchain[colbert,google,nvidia]==1.0.7->ragstack-ai) (1.0.0)\n",
            "Requirement already satisfied: requests-toolbelt>=1.0.0 in /usr/local/lib/python3.10/dist-packages (from unstructured-client->unstructured==0.14.2->ragstack-ai-langchain[colbert,google,nvidia]==1.0.7->ragstack-ai) (1.0.0)\n",
            "Requirement already satisfied: exceptiongroup in /usr/local/lib/python3.10/dist-packages (from anyio->httpx->llama-index-llms-azure-openai==0.1.6->ragstack-ai-llamaindex[azure,bedrock,colbert,google]==1.0.5->ragstack-ai) (1.2.1)\n",
            "Requirement already satisfied: ordered-set<4.2.0,>=4.1.0 in /usr/local/lib/python3.10/dist-packages (from deepdiff>=6.0->unstructured-client->unstructured==0.14.2->ragstack-ai-langchain[colbert,google,nvidia]==1.0.7->ragstack-ai) (4.1.0)\n",
            "Requirement already satisfied: googleapis-common-protos<2.0.dev0,>=1.56.2 in /usr/local/lib/python3.10/dist-packages (from google-api-core[grpc]!=2.0.*,!=2.1.*,!=2.2.*,!=2.3.*,!=2.4.*,!=2.5.*,!=2.6.*,!=2.7.*,<3.0.0dev,>=1.34.1->google-cloud-aiplatform<2.0.0,>=1.47.0->langchain-google-vertexai==1.0.1->ragstack-ai-langchain[colbert,google,nvidia]==1.0.7->ragstack-ai) (1.63.1)\n",
            "Requirement already satisfied: grpcio<2.0dev,>=1.33.2 in /usr/local/lib/python3.10/dist-packages (from google-api-core[grpc]!=2.0.*,!=2.1.*,!=2.2.*,!=2.3.*,!=2.4.*,!=2.5.*,!=2.6.*,!=2.7.*,<3.0.0dev,>=1.34.1->google-cloud-aiplatform<2.0.0,>=1.47.0->langchain-google-vertexai==1.0.1->ragstack-ai-langchain[colbert,google,nvidia]==1.0.7->ragstack-ai) (1.64.1)\n",
            "Requirement already satisfied: grpcio-status<2.0.dev0,>=1.33.2 in /usr/local/lib/python3.10/dist-packages (from google-api-core[grpc]!=2.0.*,!=2.1.*,!=2.2.*,!=2.3.*,!=2.4.*,!=2.5.*,!=2.6.*,!=2.7.*,<3.0.0dev,>=1.34.1->google-cloud-aiplatform<2.0.0,>=1.47.0->langchain-google-vertexai==1.0.1->ragstack-ai-langchain[colbert,google,nvidia]==1.0.7->ragstack-ai) (1.48.2)\n",
            "Requirement already satisfied: cachetools<6.0,>=2.0.0 in /usr/local/lib/python3.10/dist-packages (from google-auth<3.0.0dev,>=2.14.1->google-cloud-aiplatform<2.0.0,>=1.47.0->langchain-google-vertexai==1.0.1->ragstack-ai-langchain[colbert,google,nvidia]==1.0.7->ragstack-ai) (5.3.3)\n",
            "Requirement already satisfied: pyasn1-modules>=0.2.1 in /usr/local/lib/python3.10/dist-packages (from google-auth<3.0.0dev,>=2.14.1->google-cloud-aiplatform<2.0.0,>=1.47.0->langchain-google-vertexai==1.0.1->ragstack-ai-langchain[colbert,google,nvidia]==1.0.7->ragstack-ai) (0.4.0)\n",
            "Requirement already satisfied: rsa<5,>=3.1.4 in /usr/local/lib/python3.10/dist-packages (from google-auth<3.0.0dev,>=2.14.1->google-cloud-aiplatform<2.0.0,>=1.47.0->langchain-google-vertexai==1.0.1->ragstack-ai-langchain[colbert,google,nvidia]==1.0.7->ragstack-ai) (4.9)\n",
            "Requirement already satisfied: grpc-google-iam-v1<1.0.0dev,>=0.12.4 in /usr/local/lib/python3.10/dist-packages (from google-cloud-resource-manager<3.0.0dev,>=1.3.3->google-cloud-aiplatform<2.0.0,>=1.47.0->langchain-google-vertexai==1.0.1->ragstack-ai-langchain[colbert,google,nvidia]==1.0.7->ragstack-ai) (0.13.0)\n",
            "Requirement already satisfied: hyperframe<7,>=6.0 in /usr/local/lib/python3.10/dist-packages (from h2<5,>=3->httpx->llama-index-llms-azure-openai==0.1.6->ragstack-ai-llamaindex[azure,bedrock,colbert,google]==1.0.5->ragstack-ai) (6.0.1)\n",
            "Requirement already satisfied: hpack<5,>=4.0 in /usr/local/lib/python3.10/dist-packages (from h2<5,>=3->httpx->llama-index-llms-azure-openai==0.1.6->ragstack-ai-llamaindex[azure,bedrock,colbert,google]==1.0.5->ragstack-ai) (4.0.0)\n",
            "Requirement already satisfied: PyJWT[crypto]<3,>=1.0.0 in /usr/lib/python3/dist-packages (from msal>=1.24.0->azure-identity<2.0.0,>=1.15.0->llama-index-llms-azure-openai==0.1.6->ragstack-ai-llamaindex[azure,bedrock,colbert,google]==1.0.5->ragstack-ai) (2.3.0)\n",
            "Requirement already satisfied: portalocker<3,>=1.0 in /usr/local/lib/python3.10/dist-packages (from msal-extensions>=0.3.0->azure-identity<2.0.0,>=1.15.0->llama-index-llms-azure-openai==0.1.6->ragstack-ai-llamaindex[azure,bedrock,colbert,google]==1.0.5->ragstack-ai) (2.8.2)\n",
            "Requirement already satisfied: gitdb<5,>=4.0.1 in /usr/local/lib/python3.10/dist-packages (from gitpython->git-python->colbert-ai==0.2.19->ragstack-ai-colbert==1.0.5->ragstack-ai) (4.0.11)\n",
            "Requirement already satisfied: pytz>=2020.1 in /usr/local/lib/python3.10/dist-packages (from pandas->llama-index-core<0.11.0,>=0.10.31->llama-index==0.10.31->ragstack-ai-llamaindex[azure,bedrock,colbert,google]==1.0.5->ragstack-ai) (2023.4)\n",
            "Requirement already satisfied: tzdata>=2022.1 in /usr/local/lib/python3.10/dist-packages (from pandas->llama-index-core<0.11.0,>=0.10.31->llama-index==0.10.31->ragstack-ai-llamaindex[azure,bedrock,colbert,google]==1.0.5->ragstack-ai) (2024.1)\n",
            "Requirement already satisfied: smmap<6,>=3.0.1 in /usr/local/lib/python3.10/dist-packages (from gitdb<5,>=4.0.1->gitpython->git-python->colbert-ai==0.2.19->ragstack-ai-colbert==1.0.5->ragstack-ai) (5.0.1)\n",
            "Requirement already satisfied: pyasn1<0.7.0,>=0.4.6 in /usr/local/lib/python3.10/dist-packages (from pyasn1-modules>=0.2.1->google-auth<3.0.0dev,>=2.14.1->google-cloud-aiplatform<2.0.0,>=1.47.0->langchain-google-vertexai==1.0.1->ragstack-ai-langchain[colbert,google,nvidia]==1.0.7->ragstack-ai) (0.6.0)\n"
          ]
        }
      ]
    },
    {
      "cell_type": "code",
      "execution_count": 3,
      "metadata": {
        "id": "GMZEAlDQa8iv"
      },
      "outputs": [],
      "source": [
        "from google.colab import userdata\n",
        "PROJECT_ID = userdata.get('GCP_PROJECT_ID')"
      ]
    },
    {
      "cell_type": "code",
      "source": [
        "from google.colab import userdata\n",
        "LOCATION = userdata.get('GCP_LOCATION')"
      ],
      "metadata": {
        "id": "O5CwlMt-b4xB"
      },
      "execution_count": 4,
      "outputs": []
    },
    {
      "cell_type": "code",
      "source": [
        "import os"
      ],
      "metadata": {
        "id": "ARkCWcMibk0E"
      },
      "execution_count": 5,
      "outputs": []
    },
    {
      "cell_type": "code",
      "source": [
        "os.environ['GCP_PROJECT_ID'] = PROJECT_ID"
      ],
      "metadata": {
        "id": "XGrj5yBWbqAY"
      },
      "execution_count": 6,
      "outputs": []
    },
    {
      "cell_type": "code",
      "source": [
        "os.environ['LOCATION'] = LOCATION"
      ],
      "metadata": {
        "id": "pAgoQA12bw0m"
      },
      "execution_count": 7,
      "outputs": []
    },
    {
      "cell_type": "code",
      "source": [
        "!gcloud config set project {os.getenv('GCP_PROJECT_ID')}"
      ],
      "metadata": {
        "colab": {
          "base_uri": "https://localhost:8080/"
        },
        "id": "nW50WK7AdTqP",
        "outputId": "6a8eff24-6e56-4929-d680-a325495ba017"
      },
      "execution_count": 8,
      "outputs": [
        {
          "output_type": "stream",
          "name": "stdout",
          "text": [
            "Updated property [core/project].\n"
          ]
        }
      ]
    },
    {
      "cell_type": "code",
      "source": [
        "import sys\n",
        "\n",
        "if \"google.colab\" in sys.modules:\n",
        "  from google.colab import auth as google_auth\n",
        "  google_auth.authenticate_user()"
      ],
      "metadata": {
        "id": "PLYuBPsBdqCH"
      },
      "execution_count": 9,
      "outputs": []
    },
    {
      "cell_type": "code",
      "source": [
        "import vertexai"
      ],
      "metadata": {
        "id": "5tLRXAAid-38"
      },
      "execution_count": 10,
      "outputs": []
    },
    {
      "cell_type": "code",
      "source": [
        "!gcloud auth list"
      ],
      "metadata": {
        "colab": {
          "base_uri": "https://localhost:8080/"
        },
        "id": "X8rAQMLreVJj",
        "outputId": "1a6cb73a-ea22-4bd7-8e74-bd986f28d098"
      },
      "execution_count": 11,
      "outputs": [
        {
          "output_type": "stream",
          "name": "stdout",
          "text": [
            "       Credentialed Accounts\n",
            "ACTIVE  ACCOUNT\n",
            "*       jasperbongers1974@gmail.com\n",
            "\n",
            "To set the active account, run:\n",
            "    $ gcloud config set account `ACCOUNT`\n",
            "\n"
          ]
        }
      ]
    },
    {
      "cell_type": "code",
      "source": [
        "vertexai.init(project=PROJECT_ID, location=LOCATION)"
      ],
      "metadata": {
        "id": "2fWGgUZUeg8v"
      },
      "execution_count": 12,
      "outputs": []
    },
    {
      "cell_type": "code",
      "source": [
        "from vertexai.preview.generative_models import GenerativeModel"
      ],
      "metadata": {
        "id": "lDudtzZRetwb"
      },
      "execution_count": 13,
      "outputs": []
    },
    {
      "cell_type": "code",
      "source": [
        "model = GenerativeModel('gemini-1.0-pro')"
      ],
      "metadata": {
        "id": "koUjE9Pjfvh6"
      },
      "execution_count": 14,
      "outputs": []
    },
    {
      "cell_type": "code",
      "source": [
        "response = model.generate_content('what is the colour of the sky')"
      ],
      "metadata": {
        "id": "1TZGHJgdf4Wr"
      },
      "execution_count": 15,
      "outputs": []
    },
    {
      "cell_type": "code",
      "source": [
        "response"
      ],
      "metadata": {
        "colab": {
          "base_uri": "https://localhost:8080/"
        },
        "id": "pcH4tbRHgqoI",
        "outputId": "4a410273-469a-4d61-b4a6-60d4266a6627"
      },
      "execution_count": 16,
      "outputs": [
        {
          "output_type": "execute_result",
          "data": {
            "text/plain": [
              "candidates {\n",
              "  content {\n",
              "    role: \"model\"\n",
              "    parts {\n",
              "      text: \"The colour of the sky is blue. This is because the Earth\\'s atmosphere scatters sunlight in all directions. Blue light is scattered more than other colours, which is why the sky appears blue.\\n\\nAt sunrise and sunset, the sky can appear red or orange. This is because the sunlight has to travel through more of the Earth\\'s atmosphere to reach our eyes. This causes the blue light to be scattered even more, and the red and orange light to be scattered less. This is why the sky appears red or orange at sunrise and sunset.\"\n",
              "    }\n",
              "  }\n",
              "  finish_reason: STOP\n",
              "  safety_ratings {\n",
              "    category: HARM_CATEGORY_HATE_SPEECH\n",
              "    probability: NEGLIGIBLE\n",
              "    probability_score: 0.05665242671966553\n",
              "    severity: HARM_SEVERITY_NEGLIGIBLE\n",
              "    severity_score: 0.04193052276968956\n",
              "  }\n",
              "  safety_ratings {\n",
              "    category: HARM_CATEGORY_DANGEROUS_CONTENT\n",
              "    probability: NEGLIGIBLE\n",
              "    probability_score: 0.08555634319782257\n",
              "    severity: HARM_SEVERITY_NEGLIGIBLE\n",
              "    severity_score: 0.056756895035505295\n",
              "  }\n",
              "  safety_ratings {\n",
              "    category: HARM_CATEGORY_HARASSMENT\n",
              "    probability: NEGLIGIBLE\n",
              "    probability_score: 0.10743747651576996\n",
              "    severity: HARM_SEVERITY_NEGLIGIBLE\n",
              "    severity_score: 0.02681019715964794\n",
              "  }\n",
              "  safety_ratings {\n",
              "    category: HARM_CATEGORY_SEXUALLY_EXPLICIT\n",
              "    probability: NEGLIGIBLE\n",
              "    probability_score: 0.1149633526802063\n",
              "    severity: HARM_SEVERITY_NEGLIGIBLE\n",
              "    severity_score: 0.03371654078364372\n",
              "  }\n",
              "}\n",
              "usage_metadata {\n",
              "  prompt_token_count: 7\n",
              "  candidates_token_count: 111\n",
              "  total_token_count: 118\n",
              "}"
            ]
          },
          "metadata": {},
          "execution_count": 16
        }
      ]
    },
    {
      "cell_type": "markdown",
      "source": [
        "# RAG System"
      ],
      "metadata": {
        "id": "xPOhgK2ygpkv"
      }
    },
    {
      "cell_type": "code",
      "source": [],
      "metadata": {
        "id": "S4-WvldBgNm1"
      },
      "execution_count": null,
      "outputs": []
    }
  ]
}