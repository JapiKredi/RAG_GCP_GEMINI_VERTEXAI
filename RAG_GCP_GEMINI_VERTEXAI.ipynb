{
  "nbformat": 4,
  "nbformat_minor": 0,
  "metadata": {
    "colab": {
      "provenance": [],
      "authorship_tag": "ABX9TyNDnjsBm5ooybRLTdIoy2gg",
      "include_colab_link": true
    },
    "kernelspec": {
      "name": "python3",
      "display_name": "Python 3"
    },
    "language_info": {
      "name": "python"
    }
  },
  "cells": [
    {
      "cell_type": "markdown",
      "metadata": {
        "id": "view-in-github",
        "colab_type": "text"
      },
      "source": [
        "<a href=\"https://colab.research.google.com/github/JapiKredi/RAG_GCP_GEMINI_VERTEXAI/blob/main/RAG_GCP_GEMINI_VERTEXAI.ipynb\" target=\"_parent\"><img src=\"https://colab.research.google.com/assets/colab-badge.svg\" alt=\"Open In Colab\"/></a>"
      ]
    },
    {
      "cell_type": "code",
      "source": [
        "!pip install --upgrade --user google-cloud-aiplatform"
      ],
      "metadata": {
        "colab": {
          "base_uri": "https://localhost:8080/"
        },
        "id": "t_C1ykOxhFU7",
        "outputId": "f216c64a-ac22-4f60-90c7-496e398a817e"
      },
      "execution_count": 1,
      "outputs": [
        {
          "output_type": "stream",
          "name": "stdout",
          "text": [
            "Requirement already satisfied: google-cloud-aiplatform in /root/.local/lib/python3.10/site-packages (1.54.1)\n",
            "Requirement already satisfied: google-api-core[grpc]!=2.0.*,!=2.1.*,!=2.2.*,!=2.3.*,!=2.4.*,!=2.5.*,!=2.6.*,!=2.7.*,<3.0.0dev,>=1.34.1 in /usr/local/lib/python3.10/dist-packages (from google-cloud-aiplatform) (2.19.0)\n",
            "Requirement already satisfied: google-auth<3.0.0dev,>=2.14.1 in /usr/local/lib/python3.10/dist-packages (from google-cloud-aiplatform) (2.27.0)\n",
            "Requirement already satisfied: proto-plus<2.0.0dev,>=1.22.0 in /usr/local/lib/python3.10/dist-packages (from google-cloud-aiplatform) (1.23.0)\n",
            "Requirement already satisfied: protobuf!=3.20.0,!=3.20.1,!=4.21.0,!=4.21.1,!=4.21.2,!=4.21.3,!=4.21.4,!=4.21.5,<5.0.0dev,>=3.19.5 in /usr/local/lib/python3.10/dist-packages (from google-cloud-aiplatform) (3.20.3)\n",
            "Requirement already satisfied: packaging>=14.3 in /usr/local/lib/python3.10/dist-packages (from google-cloud-aiplatform) (23.2)\n",
            "Requirement already satisfied: google-cloud-storage<3.0.0dev,>=1.32.0 in /usr/local/lib/python3.10/dist-packages (from google-cloud-aiplatform) (2.16.0)\n",
            "Requirement already satisfied: google-cloud-bigquery!=3.20.0,<4.0.0dev,>=1.15.0 in /usr/local/lib/python3.10/dist-packages (from google-cloud-aiplatform) (3.21.0)\n",
            "Requirement already satisfied: google-cloud-resource-manager<3.0.0dev,>=1.3.3 in /usr/local/lib/python3.10/dist-packages (from google-cloud-aiplatform) (1.12.3)\n",
            "Requirement already satisfied: shapely<3.0.0dev in /usr/local/lib/python3.10/dist-packages (from google-cloud-aiplatform) (2.0.4)\n",
            "Requirement already satisfied: pydantic<3 in /usr/local/lib/python3.10/dist-packages (from google-cloud-aiplatform) (2.7.3)\n",
            "Requirement already satisfied: docstring-parser<1 in /usr/local/lib/python3.10/dist-packages (from google-cloud-aiplatform) (0.16)\n",
            "Requirement already satisfied: googleapis-common-protos<2.0.dev0,>=1.56.2 in /usr/local/lib/python3.10/dist-packages (from google-api-core[grpc]!=2.0.*,!=2.1.*,!=2.2.*,!=2.3.*,!=2.4.*,!=2.5.*,!=2.6.*,!=2.7.*,<3.0.0dev,>=1.34.1->google-cloud-aiplatform) (1.63.1)\n",
            "Requirement already satisfied: requests<3.0.0.dev0,>=2.18.0 in /usr/local/lib/python3.10/dist-packages (from google-api-core[grpc]!=2.0.*,!=2.1.*,!=2.2.*,!=2.3.*,!=2.4.*,!=2.5.*,!=2.6.*,!=2.7.*,<3.0.0dev,>=1.34.1->google-cloud-aiplatform) (2.32.3)\n",
            "Requirement already satisfied: grpcio<2.0dev,>=1.33.2 in /usr/local/lib/python3.10/dist-packages (from google-api-core[grpc]!=2.0.*,!=2.1.*,!=2.2.*,!=2.3.*,!=2.4.*,!=2.5.*,!=2.6.*,!=2.7.*,<3.0.0dev,>=1.34.1->google-cloud-aiplatform) (1.64.1)\n",
            "Requirement already satisfied: grpcio-status<2.0.dev0,>=1.33.2 in /usr/local/lib/python3.10/dist-packages (from google-api-core[grpc]!=2.0.*,!=2.1.*,!=2.2.*,!=2.3.*,!=2.4.*,!=2.5.*,!=2.6.*,!=2.7.*,<3.0.0dev,>=1.34.1->google-cloud-aiplatform) (1.48.2)\n",
            "Requirement already satisfied: cachetools<6.0,>=2.0.0 in /usr/local/lib/python3.10/dist-packages (from google-auth<3.0.0dev,>=2.14.1->google-cloud-aiplatform) (5.3.3)\n",
            "Requirement already satisfied: pyasn1-modules>=0.2.1 in /usr/local/lib/python3.10/dist-packages (from google-auth<3.0.0dev,>=2.14.1->google-cloud-aiplatform) (0.4.0)\n",
            "Requirement already satisfied: rsa<5,>=3.1.4 in /usr/local/lib/python3.10/dist-packages (from google-auth<3.0.0dev,>=2.14.1->google-cloud-aiplatform) (4.9)\n",
            "Requirement already satisfied: google-cloud-core<3.0.0dev,>=1.6.0 in /usr/local/lib/python3.10/dist-packages (from google-cloud-bigquery!=3.20.0,<4.0.0dev,>=1.15.0->google-cloud-aiplatform) (2.3.3)\n",
            "Requirement already satisfied: google-resumable-media<3.0dev,>=0.6.0 in /usr/local/lib/python3.10/dist-packages (from google-cloud-bigquery!=3.20.0,<4.0.0dev,>=1.15.0->google-cloud-aiplatform) (2.7.0)\n",
            "Requirement already satisfied: python-dateutil<3.0dev,>=2.7.2 in /usr/local/lib/python3.10/dist-packages (from google-cloud-bigquery!=3.20.0,<4.0.0dev,>=1.15.0->google-cloud-aiplatform) (2.8.2)\n",
            "Requirement already satisfied: grpc-google-iam-v1<1.0.0dev,>=0.12.4 in /usr/local/lib/python3.10/dist-packages (from google-cloud-resource-manager<3.0.0dev,>=1.3.3->google-cloud-aiplatform) (0.13.0)\n",
            "Requirement already satisfied: google-crc32c<2.0dev,>=1.0 in /usr/local/lib/python3.10/dist-packages (from google-cloud-storage<3.0.0dev,>=1.32.0->google-cloud-aiplatform) (1.5.0)\n",
            "Requirement already satisfied: annotated-types>=0.4.0 in /usr/local/lib/python3.10/dist-packages (from pydantic<3->google-cloud-aiplatform) (0.7.0)\n",
            "Requirement already satisfied: pydantic-core==2.18.4 in /usr/local/lib/python3.10/dist-packages (from pydantic<3->google-cloud-aiplatform) (2.18.4)\n",
            "Requirement already satisfied: typing-extensions>=4.6.1 in /usr/local/lib/python3.10/dist-packages (from pydantic<3->google-cloud-aiplatform) (4.12.1)\n",
            "Requirement already satisfied: numpy<3,>=1.14 in /usr/local/lib/python3.10/dist-packages (from shapely<3.0.0dev->google-cloud-aiplatform) (1.25.2)\n",
            "Requirement already satisfied: pyasn1<0.7.0,>=0.4.6 in /usr/local/lib/python3.10/dist-packages (from pyasn1-modules>=0.2.1->google-auth<3.0.0dev,>=2.14.1->google-cloud-aiplatform) (0.6.0)\n",
            "Requirement already satisfied: six>=1.5 in /usr/local/lib/python3.10/dist-packages (from python-dateutil<3.0dev,>=2.7.2->google-cloud-bigquery!=3.20.0,<4.0.0dev,>=1.15.0->google-cloud-aiplatform) (1.16.0)\n",
            "Requirement already satisfied: charset-normalizer<4,>=2 in /usr/local/lib/python3.10/dist-packages (from requests<3.0.0.dev0,>=2.18.0->google-api-core[grpc]!=2.0.*,!=2.1.*,!=2.2.*,!=2.3.*,!=2.4.*,!=2.5.*,!=2.6.*,!=2.7.*,<3.0.0dev,>=1.34.1->google-cloud-aiplatform) (3.3.2)\n",
            "Requirement already satisfied: idna<4,>=2.5 in /usr/local/lib/python3.10/dist-packages (from requests<3.0.0.dev0,>=2.18.0->google-api-core[grpc]!=2.0.*,!=2.1.*,!=2.2.*,!=2.3.*,!=2.4.*,!=2.5.*,!=2.6.*,!=2.7.*,<3.0.0dev,>=1.34.1->google-cloud-aiplatform) (3.7)\n",
            "Requirement already satisfied: urllib3<3,>=1.21.1 in /usr/local/lib/python3.10/dist-packages (from requests<3.0.0.dev0,>=2.18.0->google-api-core[grpc]!=2.0.*,!=2.1.*,!=2.2.*,!=2.3.*,!=2.4.*,!=2.5.*,!=2.6.*,!=2.7.*,<3.0.0dev,>=1.34.1->google-cloud-aiplatform) (2.0.7)\n",
            "Requirement already satisfied: certifi>=2017.4.17 in /usr/local/lib/python3.10/dist-packages (from requests<3.0.0.dev0,>=2.18.0->google-api-core[grpc]!=2.0.*,!=2.1.*,!=2.2.*,!=2.3.*,!=2.4.*,!=2.5.*,!=2.6.*,!=2.7.*,<3.0.0dev,>=1.34.1->google-cloud-aiplatform) (2024.6.2)\n"
          ]
        }
      ]
    },
    {
      "cell_type": "code",
      "source": [
        "!pip install ragstack-ai"
      ],
      "metadata": {
        "colab": {
          "base_uri": "https://localhost:8080/"
        },
        "id": "fkdx-60ghJVS",
        "outputId": "7ae5b4b5-7ef7-41bb-ae46-4b97750e1e80"
      },
      "execution_count": 2,
      "outputs": [
        {
          "output_type": "stream",
          "name": "stdout",
          "text": [
            "Requirement already satisfied: ragstack-ai in /usr/local/lib/python3.10/dist-packages (1.0.7)\n",
            "Requirement already satisfied: ragstack-ai-colbert==1.0.5 in /usr/local/lib/python3.10/dist-packages (from ragstack-ai) (1.0.5)\n",
            "Requirement already satisfied: ragstack-ai-langchain[colbert,google,nvidia]==1.0.7 in /usr/local/lib/python3.10/dist-packages (from ragstack-ai) (1.0.7)\n",
            "Requirement already satisfied: ragstack-ai-llamaindex[azure,bedrock,colbert,google]==1.0.5 in /usr/local/lib/python3.10/dist-packages (from ragstack-ai) (1.0.5)\n",
            "Requirement already satisfied: cassio<0.2.0,>=0.1.7 in /usr/local/lib/python3.10/dist-packages (from ragstack-ai-colbert==1.0.5->ragstack-ai) (0.1.8)\n",
            "Requirement already satisfied: colbert-ai==0.2.19 in /usr/local/lib/python3.10/dist-packages (from ragstack-ai-colbert==1.0.5->ragstack-ai) (0.2.19)\n",
            "Requirement already satisfied: pyarrow==14.0.1 in /usr/local/lib/python3.10/dist-packages (from ragstack-ai-colbert==1.0.5->ragstack-ai) (14.0.1)\n",
            "Requirement already satisfied: pydantic<3.0.0,>=2.7.1 in /usr/local/lib/python3.10/dist-packages (from ragstack-ai-colbert==1.0.5->ragstack-ai) (2.7.3)\n",
            "Requirement already satisfied: torch==2.2.1 in /usr/local/lib/python3.10/dist-packages (from ragstack-ai-colbert==1.0.5->ragstack-ai) (2.2.1)\n",
            "Requirement already satisfied: astrapy<2,>=1 in /usr/local/lib/python3.10/dist-packages (from ragstack-ai-langchain[colbert,google,nvidia]==1.0.7->ragstack-ai) (1.2.1)\n",
            "Requirement already satisfied: langchain==0.1.19 in /usr/local/lib/python3.10/dist-packages (from ragstack-ai-langchain[colbert,google,nvidia]==1.0.7->ragstack-ai) (0.1.19)\n",
            "Requirement already satisfied: langchain-astradb==0.3.3 in /usr/local/lib/python3.10/dist-packages (from ragstack-ai-langchain[colbert,google,nvidia]==1.0.7->ragstack-ai) (0.3.3)\n",
            "Requirement already satisfied: langchain-community==0.0.38 in /usr/local/lib/python3.10/dist-packages (from ragstack-ai-langchain[colbert,google,nvidia]==1.0.7->ragstack-ai) (0.0.38)\n",
            "Requirement already satisfied: langchain-core==0.1.52 in /usr/local/lib/python3.10/dist-packages (from ragstack-ai-langchain[colbert,google,nvidia]==1.0.7->ragstack-ai) (0.1.52)\n",
            "Requirement already satisfied: langchain-openai==0.1.3 in /usr/local/lib/python3.10/dist-packages (from ragstack-ai-langchain[colbert,google,nvidia]==1.0.7->ragstack-ai) (0.1.3)\n",
            "Requirement already satisfied: unstructured==0.14.2 in /usr/local/lib/python3.10/dist-packages (from ragstack-ai-langchain[colbert,google,nvidia]==1.0.7->ragstack-ai) (0.14.2)\n",
            "Requirement already satisfied: langchain-nvidia-ai-endpoints==0.0.9 in /usr/local/lib/python3.10/dist-packages (from ragstack-ai-langchain[colbert,google,nvidia]==1.0.7->ragstack-ai) (0.0.9)\n",
            "Requirement already satisfied: langchain-google-genai==0.0.11 in /usr/local/lib/python3.10/dist-packages (from ragstack-ai-langchain[colbert,google,nvidia]==1.0.7->ragstack-ai) (0.0.11)\n",
            "Requirement already satisfied: langchain-google-vertexai==1.0.1 in /usr/local/lib/python3.10/dist-packages (from ragstack-ai-langchain[colbert,google,nvidia]==1.0.7->ragstack-ai) (1.0.1)\n",
            "Requirement already satisfied: cffi<2.0.0,>=1.16.0 in /usr/local/lib/python3.10/dist-packages (from ragstack-ai-llamaindex[azure,bedrock,colbert,google]==1.0.5->ragstack-ai) (1.16.0)\n",
            "Requirement already satisfied: llama-index==0.10.31 in /usr/local/lib/python3.10/dist-packages (from ragstack-ai-llamaindex[azure,bedrock,colbert,google]==1.0.5->ragstack-ai) (0.10.31)\n",
            "Requirement already satisfied: llama-index-embeddings-langchain==0.1.2 in /usr/local/lib/python3.10/dist-packages (from ragstack-ai-llamaindex[azure,bedrock,colbert,google]==1.0.5->ragstack-ai) (0.1.2)\n",
            "Requirement already satisfied: llama-index-tools-cassandra==0.1.1 in /usr/local/lib/python3.10/dist-packages (from ragstack-ai-llamaindex[azure,bedrock,colbert,google]==1.0.5->ragstack-ai) (0.1.1)\n",
            "Requirement already satisfied: llama-index-vector-stores-astra-db==0.1.7 in /usr/local/lib/python3.10/dist-packages (from ragstack-ai-llamaindex[azure,bedrock,colbert,google]==1.0.5->ragstack-ai) (0.1.7)\n",
            "Requirement already satisfied: llama-index-vector-stores-cassandra==0.1.3 in /usr/local/lib/python3.10/dist-packages (from ragstack-ai-llamaindex[azure,bedrock,colbert,google]==1.0.5->ragstack-ai) (0.1.3)\n",
            "Requirement already satisfied: llama-parse==0.4.1 in /usr/local/lib/python3.10/dist-packages (from ragstack-ai-llamaindex[azure,bedrock,colbert,google]==1.0.5->ragstack-ai) (0.4.1)\n",
            "Requirement already satisfied: llama-index-embeddings-bedrock==0.1.4 in /usr/local/lib/python3.10/dist-packages (from ragstack-ai-llamaindex[azure,bedrock,colbert,google]==1.0.5->ragstack-ai) (0.1.4)\n",
            "Requirement already satisfied: llama-index-llms-bedrock==0.1.7 in /usr/local/lib/python3.10/dist-packages (from ragstack-ai-llamaindex[azure,bedrock,colbert,google]==1.0.5->ragstack-ai) (0.1.7)\n",
            "Requirement already satisfied: llama-index-embeddings-azure-openai==0.1.7 in /usr/local/lib/python3.10/dist-packages (from ragstack-ai-llamaindex[azure,bedrock,colbert,google]==1.0.5->ragstack-ai) (0.1.7)\n",
            "Requirement already satisfied: llama-index-llms-azure-openai==0.1.6 in /usr/local/lib/python3.10/dist-packages (from ragstack-ai-llamaindex[azure,bedrock,colbert,google]==1.0.5->ragstack-ai) (0.1.6)\n",
            "Requirement already satisfied: llama-index-embeddings-gemini==0.1.6 in /usr/local/lib/python3.10/dist-packages (from ragstack-ai-llamaindex[azure,bedrock,colbert,google]==1.0.5->ragstack-ai) (0.1.6)\n",
            "Requirement already satisfied: llama-index-llms-gemini==0.1.7 in /usr/local/lib/python3.10/dist-packages (from ragstack-ai-llamaindex[azure,bedrock,colbert,google]==1.0.5->ragstack-ai) (0.1.7)\n",
            "Requirement already satisfied: llama-index-llms-vertex==0.1.5 in /usr/local/lib/python3.10/dist-packages (from ragstack-ai-llamaindex[azure,bedrock,colbert,google]==1.0.5->ragstack-ai) (0.1.5)\n",
            "Requirement already satisfied: llama-index-multi-modal-llms-gemini==0.1.5 in /usr/local/lib/python3.10/dist-packages (from ragstack-ai-llamaindex[azure,bedrock,colbert,google]==1.0.5->ragstack-ai) (0.1.5)\n",
            "Requirement already satisfied: bitarray in /usr/local/lib/python3.10/dist-packages (from colbert-ai==0.2.19->ragstack-ai-colbert==1.0.5->ragstack-ai) (2.9.2)\n",
            "Requirement already satisfied: datasets in /usr/local/lib/python3.10/dist-packages (from colbert-ai==0.2.19->ragstack-ai-colbert==1.0.5->ragstack-ai) (2.19.2)\n",
            "Requirement already satisfied: flask in /usr/local/lib/python3.10/dist-packages (from colbert-ai==0.2.19->ragstack-ai-colbert==1.0.5->ragstack-ai) (2.2.5)\n",
            "Requirement already satisfied: git-python in /usr/local/lib/python3.10/dist-packages (from colbert-ai==0.2.19->ragstack-ai-colbert==1.0.5->ragstack-ai) (1.0.3)\n",
            "Requirement already satisfied: python-dotenv in /usr/local/lib/python3.10/dist-packages (from colbert-ai==0.2.19->ragstack-ai-colbert==1.0.5->ragstack-ai) (1.0.1)\n",
            "Requirement already satisfied: ninja in /usr/local/lib/python3.10/dist-packages (from colbert-ai==0.2.19->ragstack-ai-colbert==1.0.5->ragstack-ai) (1.11.1.1)\n",
            "Requirement already satisfied: scipy in /usr/local/lib/python3.10/dist-packages (from colbert-ai==0.2.19->ragstack-ai-colbert==1.0.5->ragstack-ai) (1.11.4)\n",
            "Requirement already satisfied: tqdm in /usr/local/lib/python3.10/dist-packages (from colbert-ai==0.2.19->ragstack-ai-colbert==1.0.5->ragstack-ai) (4.66.4)\n",
            "Requirement already satisfied: transformers in /usr/local/lib/python3.10/dist-packages (from colbert-ai==0.2.19->ragstack-ai-colbert==1.0.5->ragstack-ai) (4.41.2)\n",
            "Requirement already satisfied: ujson in /usr/local/lib/python3.10/dist-packages (from colbert-ai==0.2.19->ragstack-ai-colbert==1.0.5->ragstack-ai) (5.10.0)\n",
            "Requirement already satisfied: PyYAML>=5.3 in /usr/local/lib/python3.10/dist-packages (from langchain==0.1.19->ragstack-ai-langchain[colbert,google,nvidia]==1.0.7->ragstack-ai) (6.0.1)\n",
            "Requirement already satisfied: SQLAlchemy<3,>=1.4 in /usr/local/lib/python3.10/dist-packages (from langchain==0.1.19->ragstack-ai-langchain[colbert,google,nvidia]==1.0.7->ragstack-ai) (2.0.30)\n",
            "Requirement already satisfied: aiohttp<4.0.0,>=3.8.3 in /usr/local/lib/python3.10/dist-packages (from langchain==0.1.19->ragstack-ai-langchain[colbert,google,nvidia]==1.0.7->ragstack-ai) (3.9.5)\n",
            "Requirement already satisfied: async-timeout<5.0.0,>=4.0.0 in /usr/local/lib/python3.10/dist-packages (from langchain==0.1.19->ragstack-ai-langchain[colbert,google,nvidia]==1.0.7->ragstack-ai) (4.0.3)\n",
            "Requirement already satisfied: dataclasses-json<0.7,>=0.5.7 in /usr/local/lib/python3.10/dist-packages (from langchain==0.1.19->ragstack-ai-langchain[colbert,google,nvidia]==1.0.7->ragstack-ai) (0.6.6)\n",
            "Requirement already satisfied: langchain-text-splitters<0.1,>=0.0.1 in /usr/local/lib/python3.10/dist-packages (from langchain==0.1.19->ragstack-ai-langchain[colbert,google,nvidia]==1.0.7->ragstack-ai) (0.0.2)\n",
            "Requirement already satisfied: langsmith<0.2.0,>=0.1.17 in /usr/local/lib/python3.10/dist-packages (from langchain==0.1.19->ragstack-ai-langchain[colbert,google,nvidia]==1.0.7->ragstack-ai) (0.1.75)\n",
            "Requirement already satisfied: numpy<2,>=1 in /usr/local/lib/python3.10/dist-packages (from langchain==0.1.19->ragstack-ai-langchain[colbert,google,nvidia]==1.0.7->ragstack-ai) (1.25.2)\n",
            "Requirement already satisfied: requests<3,>=2 in /usr/local/lib/python3.10/dist-packages (from langchain==0.1.19->ragstack-ai-langchain[colbert,google,nvidia]==1.0.7->ragstack-ai) (2.32.3)\n",
            "Requirement already satisfied: tenacity<9.0.0,>=8.1.0 in /usr/local/lib/python3.10/dist-packages (from langchain==0.1.19->ragstack-ai-langchain[colbert,google,nvidia]==1.0.7->ragstack-ai) (8.3.0)\n",
            "Requirement already satisfied: jsonpatch<2.0,>=1.33 in /usr/local/lib/python3.10/dist-packages (from langchain-core==0.1.52->ragstack-ai-langchain[colbert,google,nvidia]==1.0.7->ragstack-ai) (1.33)\n",
            "Requirement already satisfied: packaging<24.0,>=23.2 in /usr/local/lib/python3.10/dist-packages (from langchain-core==0.1.52->ragstack-ai-langchain[colbert,google,nvidia]==1.0.7->ragstack-ai) (23.2)\n",
            "Requirement already satisfied: google-generativeai<0.5.0,>=0.4.1 in /usr/local/lib/python3.10/dist-packages (from langchain-google-genai==0.0.11->ragstack-ai-langchain[colbert,google,nvidia]==1.0.7->ragstack-ai) (0.4.1)\n",
            "Requirement already satisfied: google-cloud-aiplatform<2.0.0,>=1.47.0 in /root/.local/lib/python3.10/site-packages (from langchain-google-vertexai==1.0.1->ragstack-ai-langchain[colbert,google,nvidia]==1.0.7->ragstack-ai) (1.54.1)\n",
            "Requirement already satisfied: google-cloud-storage<3.0.0,>=2.14.0 in /usr/local/lib/python3.10/dist-packages (from langchain-google-vertexai==1.0.1->ragstack-ai-langchain[colbert,google,nvidia]==1.0.7->ragstack-ai) (2.16.0)\n",
            "Requirement already satisfied: types-protobuf<5.0.0.0,>=4.24.0.4 in /usr/local/lib/python3.10/dist-packages (from langchain-google-vertexai==1.0.1->ragstack-ai-langchain[colbert,google,nvidia]==1.0.7->ragstack-ai) (4.25.0.20240417)\n",
            "Requirement already satisfied: types-requests<3.0.0,>=2.31.0 in /usr/local/lib/python3.10/dist-packages (from langchain-google-vertexai==1.0.1->ragstack-ai-langchain[colbert,google,nvidia]==1.0.7->ragstack-ai) (2.32.0.20240602)\n",
            "Requirement already satisfied: pillow<11.0.0,>=10.0.0 in /usr/local/lib/python3.10/dist-packages (from langchain-nvidia-ai-endpoints==0.0.9->ragstack-ai-langchain[colbert,google,nvidia]==1.0.7->ragstack-ai) (10.3.0)\n",
            "Requirement already satisfied: openai<2.0.0,>=1.10.0 in /usr/local/lib/python3.10/dist-packages (from langchain-openai==0.1.3->ragstack-ai-langchain[colbert,google,nvidia]==1.0.7->ragstack-ai) (1.33.0)\n",
            "Requirement already satisfied: tiktoken<1,>=0.5.2 in /usr/local/lib/python3.10/dist-packages (from langchain-openai==0.1.3->ragstack-ai-langchain[colbert,google,nvidia]==1.0.7->ragstack-ai) (0.7.0)\n",
            "Requirement already satisfied: llama-index-agent-openai<0.3.0,>=0.1.4 in /usr/local/lib/python3.10/dist-packages (from llama-index==0.10.31->ragstack-ai-llamaindex[azure,bedrock,colbert,google]==1.0.5->ragstack-ai) (0.2.7)\n",
            "Requirement already satisfied: llama-index-cli<0.2.0,>=0.1.2 in /usr/local/lib/python3.10/dist-packages (from llama-index==0.10.31->ragstack-ai-llamaindex[azure,bedrock,colbert,google]==1.0.5->ragstack-ai) (0.1.12)\n",
            "Requirement already satisfied: llama-index-core<0.11.0,>=0.10.31 in /usr/local/lib/python3.10/dist-packages (from llama-index==0.10.31->ragstack-ai-llamaindex[azure,bedrock,colbert,google]==1.0.5->ragstack-ai) (0.10.43.post1)\n",
            "Requirement already satisfied: llama-index-embeddings-openai<0.2.0,>=0.1.5 in /usr/local/lib/python3.10/dist-packages (from llama-index==0.10.31->ragstack-ai-llamaindex[azure,bedrock,colbert,google]==1.0.5->ragstack-ai) (0.1.10)\n",
            "Requirement already satisfied: llama-index-indices-managed-llama-cloud<0.2.0,>=0.1.2 in /usr/local/lib/python3.10/dist-packages (from llama-index==0.10.31->ragstack-ai-llamaindex[azure,bedrock,colbert,google]==1.0.5->ragstack-ai) (0.1.6)\n",
            "Requirement already satisfied: llama-index-legacy<0.10.0,>=0.9.48 in /usr/local/lib/python3.10/dist-packages (from llama-index==0.10.31->ragstack-ai-llamaindex[azure,bedrock,colbert,google]==1.0.5->ragstack-ai) (0.9.48)\n",
            "Requirement already satisfied: llama-index-llms-openai<0.2.0,>=0.1.13 in /usr/local/lib/python3.10/dist-packages (from llama-index==0.10.31->ragstack-ai-llamaindex[azure,bedrock,colbert,google]==1.0.5->ragstack-ai) (0.1.22)\n",
            "Requirement already satisfied: llama-index-multi-modal-llms-openai<0.2.0,>=0.1.3 in /usr/local/lib/python3.10/dist-packages (from llama-index==0.10.31->ragstack-ai-llamaindex[azure,bedrock,colbert,google]==1.0.5->ragstack-ai) (0.1.6)\n",
            "Requirement already satisfied: llama-index-program-openai<0.2.0,>=0.1.3 in /usr/local/lib/python3.10/dist-packages (from llama-index==0.10.31->ragstack-ai-llamaindex[azure,bedrock,colbert,google]==1.0.5->ragstack-ai) (0.1.6)\n",
            "Requirement already satisfied: llama-index-question-gen-openai<0.2.0,>=0.1.2 in /usr/local/lib/python3.10/dist-packages (from llama-index==0.10.31->ragstack-ai-llamaindex[azure,bedrock,colbert,google]==1.0.5->ragstack-ai) (0.1.3)\n",
            "Requirement already satisfied: llama-index-readers-file<0.2.0,>=0.1.4 in /usr/local/lib/python3.10/dist-packages (from llama-index==0.10.31->ragstack-ai-llamaindex[azure,bedrock,colbert,google]==1.0.5->ragstack-ai) (0.1.23)\n",
            "Requirement already satisfied: llama-index-readers-llama-parse<0.2.0,>=0.1.2 in /usr/local/lib/python3.10/dist-packages (from llama-index==0.10.31->ragstack-ai-llamaindex[azure,bedrock,colbert,google]==1.0.5->ragstack-ai) (0.1.4)\n",
            "Requirement already satisfied: boto3<2.0.0,>=1.34.23 in /usr/local/lib/python3.10/dist-packages (from llama-index-embeddings-bedrock==0.1.4->ragstack-ai-llamaindex[azure,bedrock,colbert,google]==1.0.5->ragstack-ai) (1.34.122)\n",
            "Requirement already satisfied: azure-identity<2.0.0,>=1.15.0 in /usr/local/lib/python3.10/dist-packages (from llama-index-llms-azure-openai==0.1.6->ragstack-ai-llamaindex[azure,bedrock,colbert,google]==1.0.5->ragstack-ai) (1.16.0)\n",
            "Requirement already satisfied: httpx in /usr/local/lib/python3.10/dist-packages (from llama-index-llms-azure-openai==0.1.6->ragstack-ai-llamaindex[azure,bedrock,colbert,google]==1.0.5->ragstack-ai) (0.27.0)\n",
            "Requirement already satisfied: llama-index-llms-anthropic<0.2.0,>=0.1.7 in /usr/local/lib/python3.10/dist-packages (from llama-index-llms-bedrock==0.1.7->ragstack-ai-llamaindex[azure,bedrock,colbert,google]==1.0.5->ragstack-ai) (0.1.11)\n",
            "Requirement already satisfied: filelock in /usr/local/lib/python3.10/dist-packages (from torch==2.2.1->ragstack-ai-colbert==1.0.5->ragstack-ai) (3.14.0)\n",
            "Requirement already satisfied: typing-extensions>=4.8.0 in /usr/local/lib/python3.10/dist-packages (from torch==2.2.1->ragstack-ai-colbert==1.0.5->ragstack-ai) (4.12.1)\n",
            "Requirement already satisfied: sympy in /usr/local/lib/python3.10/dist-packages (from torch==2.2.1->ragstack-ai-colbert==1.0.5->ragstack-ai) (1.12.1)\n",
            "Requirement already satisfied: networkx in /usr/local/lib/python3.10/dist-packages (from torch==2.2.1->ragstack-ai-colbert==1.0.5->ragstack-ai) (3.3)\n",
            "Requirement already satisfied: jinja2 in /usr/local/lib/python3.10/dist-packages (from torch==2.2.1->ragstack-ai-colbert==1.0.5->ragstack-ai) (3.1.4)\n",
            "Requirement already satisfied: fsspec in /usr/local/lib/python3.10/dist-packages (from torch==2.2.1->ragstack-ai-colbert==1.0.5->ragstack-ai) (2023.6.0)\n",
            "Requirement already satisfied: nvidia-cuda-nvrtc-cu12==12.1.105 in /usr/local/lib/python3.10/dist-packages (from torch==2.2.1->ragstack-ai-colbert==1.0.5->ragstack-ai) (12.1.105)\n",
            "Requirement already satisfied: nvidia-cuda-runtime-cu12==12.1.105 in /usr/local/lib/python3.10/dist-packages (from torch==2.2.1->ragstack-ai-colbert==1.0.5->ragstack-ai) (12.1.105)\n",
            "Requirement already satisfied: nvidia-cuda-cupti-cu12==12.1.105 in /usr/local/lib/python3.10/dist-packages (from torch==2.2.1->ragstack-ai-colbert==1.0.5->ragstack-ai) (12.1.105)\n",
            "Requirement already satisfied: nvidia-cudnn-cu12==8.9.2.26 in /usr/local/lib/python3.10/dist-packages (from torch==2.2.1->ragstack-ai-colbert==1.0.5->ragstack-ai) (8.9.2.26)\n",
            "Requirement already satisfied: nvidia-cublas-cu12==12.1.3.1 in /usr/local/lib/python3.10/dist-packages (from torch==2.2.1->ragstack-ai-colbert==1.0.5->ragstack-ai) (12.1.3.1)\n",
            "Requirement already satisfied: nvidia-cufft-cu12==11.0.2.54 in /usr/local/lib/python3.10/dist-packages (from torch==2.2.1->ragstack-ai-colbert==1.0.5->ragstack-ai) (11.0.2.54)\n",
            "Requirement already satisfied: nvidia-curand-cu12==10.3.2.106 in /usr/local/lib/python3.10/dist-packages (from torch==2.2.1->ragstack-ai-colbert==1.0.5->ragstack-ai) (10.3.2.106)\n",
            "Requirement already satisfied: nvidia-cusolver-cu12==11.4.5.107 in /usr/local/lib/python3.10/dist-packages (from torch==2.2.1->ragstack-ai-colbert==1.0.5->ragstack-ai) (11.4.5.107)\n",
            "Requirement already satisfied: nvidia-cusparse-cu12==12.1.0.106 in /usr/local/lib/python3.10/dist-packages (from torch==2.2.1->ragstack-ai-colbert==1.0.5->ragstack-ai) (12.1.0.106)\n",
            "Requirement already satisfied: nvidia-nccl-cu12==2.19.3 in /usr/local/lib/python3.10/dist-packages (from torch==2.2.1->ragstack-ai-colbert==1.0.5->ragstack-ai) (2.19.3)\n",
            "Requirement already satisfied: nvidia-nvtx-cu12==12.1.105 in /usr/local/lib/python3.10/dist-packages (from torch==2.2.1->ragstack-ai-colbert==1.0.5->ragstack-ai) (12.1.105)\n",
            "Requirement already satisfied: triton==2.2.0 in /usr/local/lib/python3.10/dist-packages (from torch==2.2.1->ragstack-ai-colbert==1.0.5->ragstack-ai) (2.2.0)\n",
            "Requirement already satisfied: chardet in /usr/local/lib/python3.10/dist-packages (from unstructured==0.14.2->ragstack-ai-langchain[colbert,google,nvidia]==1.0.7->ragstack-ai) (5.2.0)\n",
            "Requirement already satisfied: filetype in /usr/local/lib/python3.10/dist-packages (from unstructured==0.14.2->ragstack-ai-langchain[colbert,google,nvidia]==1.0.7->ragstack-ai) (1.2.0)\n",
            "Requirement already satisfied: python-magic in /usr/local/lib/python3.10/dist-packages (from unstructured==0.14.2->ragstack-ai-langchain[colbert,google,nvidia]==1.0.7->ragstack-ai) (0.4.27)\n",
            "Requirement already satisfied: lxml in /usr/local/lib/python3.10/dist-packages (from unstructured==0.14.2->ragstack-ai-langchain[colbert,google,nvidia]==1.0.7->ragstack-ai) (4.9.4)\n",
            "Requirement already satisfied: nltk in /usr/local/lib/python3.10/dist-packages (from unstructured==0.14.2->ragstack-ai-langchain[colbert,google,nvidia]==1.0.7->ragstack-ai) (3.8.1)\n",
            "Requirement already satisfied: tabulate in /usr/local/lib/python3.10/dist-packages (from unstructured==0.14.2->ragstack-ai-langchain[colbert,google,nvidia]==1.0.7->ragstack-ai) (0.9.0)\n",
            "Requirement already satisfied: beautifulsoup4 in /usr/local/lib/python3.10/dist-packages (from unstructured==0.14.2->ragstack-ai-langchain[colbert,google,nvidia]==1.0.7->ragstack-ai) (4.12.3)\n",
            "Requirement already satisfied: emoji in /usr/local/lib/python3.10/dist-packages (from unstructured==0.14.2->ragstack-ai-langchain[colbert,google,nvidia]==1.0.7->ragstack-ai) (2.12.1)\n",
            "Requirement already satisfied: python-iso639 in /usr/local/lib/python3.10/dist-packages (from unstructured==0.14.2->ragstack-ai-langchain[colbert,google,nvidia]==1.0.7->ragstack-ai) (2024.4.27)\n",
            "Requirement already satisfied: langdetect in /usr/local/lib/python3.10/dist-packages (from unstructured==0.14.2->ragstack-ai-langchain[colbert,google,nvidia]==1.0.7->ragstack-ai) (1.0.9)\n",
            "Requirement already satisfied: rapidfuzz in /usr/local/lib/python3.10/dist-packages (from unstructured==0.14.2->ragstack-ai-langchain[colbert,google,nvidia]==1.0.7->ragstack-ai) (3.9.3)\n",
            "Requirement already satisfied: backoff in /usr/local/lib/python3.10/dist-packages (from unstructured==0.14.2->ragstack-ai-langchain[colbert,google,nvidia]==1.0.7->ragstack-ai) (2.2.1)\n",
            "Requirement already satisfied: unstructured-client in /usr/local/lib/python3.10/dist-packages (from unstructured==0.14.2->ragstack-ai-langchain[colbert,google,nvidia]==1.0.7->ragstack-ai) (0.23.2)\n",
            "Requirement already satisfied: wrapt in /usr/local/lib/python3.10/dist-packages (from unstructured==0.14.2->ragstack-ai-langchain[colbert,google,nvidia]==1.0.7->ragstack-ai) (1.14.1)\n",
            "Requirement already satisfied: nvidia-nvjitlink-cu12 in /usr/local/lib/python3.10/dist-packages (from nvidia-cusolver-cu12==11.4.5.107->torch==2.2.1->ragstack-ai-colbert==1.0.5->ragstack-ai) (12.5.40)\n",
            "Requirement already satisfied: bson<0.6.0,>=0.5.10 in /usr/local/lib/python3.10/dist-packages (from astrapy<2,>=1->ragstack-ai-langchain[colbert,google,nvidia]==1.0.7->ragstack-ai) (0.5.10)\n",
            "Requirement already satisfied: deprecation<2.2.0,>=2.1.0 in /usr/local/lib/python3.10/dist-packages (from astrapy<2,>=1->ragstack-ai-langchain[colbert,google,nvidia]==1.0.7->ragstack-ai) (2.1.0)\n",
            "Requirement already satisfied: toml<0.11.0,>=0.10.2 in /usr/local/lib/python3.10/dist-packages (from astrapy<2,>=1->ragstack-ai-langchain[colbert,google,nvidia]==1.0.7->ragstack-ai) (0.10.2)\n",
            "Requirement already satisfied: uuid6<2024.2.0,>=2024.1.12 in /usr/local/lib/python3.10/dist-packages (from astrapy<2,>=1->ragstack-ai-langchain[colbert,google,nvidia]==1.0.7->ragstack-ai) (2024.1.12)\n",
            "Requirement already satisfied: cassandra-driver<4.0.0,>=3.28.0 in /usr/local/lib/python3.10/dist-packages (from cassio<0.2.0,>=0.1.7->ragstack-ai-colbert==1.0.5->ragstack-ai) (3.29.1)\n",
            "Requirement already satisfied: pycparser in /usr/local/lib/python3.10/dist-packages (from cffi<2.0.0,>=1.16.0->ragstack-ai-llamaindex[azure,bedrock,colbert,google]==1.0.5->ragstack-ai) (2.22)\n",
            "Requirement already satisfied: annotated-types>=0.4.0 in /usr/local/lib/python3.10/dist-packages (from pydantic<3.0.0,>=2.7.1->ragstack-ai-colbert==1.0.5->ragstack-ai) (0.7.0)\n",
            "Requirement already satisfied: pydantic-core==2.18.4 in /usr/local/lib/python3.10/dist-packages (from pydantic<3.0.0,>=2.7.1->ragstack-ai-colbert==1.0.5->ragstack-ai) (2.18.4)\n",
            "Requirement already satisfied: aiosignal>=1.1.2 in /usr/local/lib/python3.10/dist-packages (from aiohttp<4.0.0,>=3.8.3->langchain==0.1.19->ragstack-ai-langchain[colbert,google,nvidia]==1.0.7->ragstack-ai) (1.3.1)\n",
            "Requirement already satisfied: attrs>=17.3.0 in /usr/local/lib/python3.10/dist-packages (from aiohttp<4.0.0,>=3.8.3->langchain==0.1.19->ragstack-ai-langchain[colbert,google,nvidia]==1.0.7->ragstack-ai) (23.2.0)\n",
            "Requirement already satisfied: frozenlist>=1.1.1 in /usr/local/lib/python3.10/dist-packages (from aiohttp<4.0.0,>=3.8.3->langchain==0.1.19->ragstack-ai-langchain[colbert,google,nvidia]==1.0.7->ragstack-ai) (1.4.1)\n",
            "Requirement already satisfied: multidict<7.0,>=4.5 in /usr/local/lib/python3.10/dist-packages (from aiohttp<4.0.0,>=3.8.3->langchain==0.1.19->ragstack-ai-langchain[colbert,google,nvidia]==1.0.7->ragstack-ai) (6.0.5)\n",
            "Requirement already satisfied: yarl<2.0,>=1.0 in /usr/local/lib/python3.10/dist-packages (from aiohttp<4.0.0,>=3.8.3->langchain==0.1.19->ragstack-ai-langchain[colbert,google,nvidia]==1.0.7->ragstack-ai) (1.9.4)\n",
            "Requirement already satisfied: azure-core>=1.23.0 in /usr/local/lib/python3.10/dist-packages (from azure-identity<2.0.0,>=1.15.0->llama-index-llms-azure-openai==0.1.6->ragstack-ai-llamaindex[azure,bedrock,colbert,google]==1.0.5->ragstack-ai) (1.30.2)\n",
            "Requirement already satisfied: cryptography>=2.5 in /usr/local/lib/python3.10/dist-packages (from azure-identity<2.0.0,>=1.15.0->llama-index-llms-azure-openai==0.1.6->ragstack-ai-llamaindex[azure,bedrock,colbert,google]==1.0.5->ragstack-ai) (42.0.7)\n",
            "Requirement already satisfied: msal>=1.24.0 in /usr/local/lib/python3.10/dist-packages (from azure-identity<2.0.0,>=1.15.0->llama-index-llms-azure-openai==0.1.6->ragstack-ai-llamaindex[azure,bedrock,colbert,google]==1.0.5->ragstack-ai) (1.28.0)\n",
            "Requirement already satisfied: msal-extensions>=0.3.0 in /usr/local/lib/python3.10/dist-packages (from azure-identity<2.0.0,>=1.15.0->llama-index-llms-azure-openai==0.1.6->ragstack-ai-llamaindex[azure,bedrock,colbert,google]==1.0.5->ragstack-ai) (1.1.0)\n",
            "Requirement already satisfied: botocore<1.35.0,>=1.34.122 in /usr/local/lib/python3.10/dist-packages (from boto3<2.0.0,>=1.34.23->llama-index-embeddings-bedrock==0.1.4->ragstack-ai-llamaindex[azure,bedrock,colbert,google]==1.0.5->ragstack-ai) (1.34.122)\n",
            "Requirement already satisfied: jmespath<2.0.0,>=0.7.1 in /usr/local/lib/python3.10/dist-packages (from boto3<2.0.0,>=1.34.23->llama-index-embeddings-bedrock==0.1.4->ragstack-ai-llamaindex[azure,bedrock,colbert,google]==1.0.5->ragstack-ai) (1.0.1)\n",
            "Requirement already satisfied: s3transfer<0.11.0,>=0.10.0 in /usr/local/lib/python3.10/dist-packages (from boto3<2.0.0,>=1.34.23->llama-index-embeddings-bedrock==0.1.4->ragstack-ai-llamaindex[azure,bedrock,colbert,google]==1.0.5->ragstack-ai) (0.10.1)\n",
            "Requirement already satisfied: python-dateutil>=2.4.0 in /usr/local/lib/python3.10/dist-packages (from bson<0.6.0,>=0.5.10->astrapy<2,>=1->ragstack-ai-langchain[colbert,google,nvidia]==1.0.7->ragstack-ai) (2.8.2)\n",
            "Requirement already satisfied: six>=1.9.0 in /usr/local/lib/python3.10/dist-packages (from bson<0.6.0,>=0.5.10->astrapy<2,>=1->ragstack-ai-langchain[colbert,google,nvidia]==1.0.7->ragstack-ai) (1.16.0)\n",
            "Requirement already satisfied: geomet<0.3,>=0.1 in /usr/local/lib/python3.10/dist-packages (from cassandra-driver<4.0.0,>=3.28.0->cassio<0.2.0,>=0.1.7->ragstack-ai-colbert==1.0.5->ragstack-ai) (0.2.1.post1)\n",
            "Requirement already satisfied: marshmallow<4.0.0,>=3.18.0 in /usr/local/lib/python3.10/dist-packages (from dataclasses-json<0.7,>=0.5.7->langchain==0.1.19->ragstack-ai-langchain[colbert,google,nvidia]==1.0.7->ragstack-ai) (3.21.3)\n",
            "Requirement already satisfied: typing-inspect<1,>=0.4.0 in /usr/local/lib/python3.10/dist-packages (from dataclasses-json<0.7,>=0.5.7->langchain==0.1.19->ragstack-ai-langchain[colbert,google,nvidia]==1.0.7->ragstack-ai) (0.9.0)\n",
            "Requirement already satisfied: google-api-core[grpc]!=2.0.*,!=2.1.*,!=2.2.*,!=2.3.*,!=2.4.*,!=2.5.*,!=2.6.*,!=2.7.*,<3.0.0dev,>=1.34.1 in /usr/local/lib/python3.10/dist-packages (from google-cloud-aiplatform<2.0.0,>=1.47.0->langchain-google-vertexai==1.0.1->ragstack-ai-langchain[colbert,google,nvidia]==1.0.7->ragstack-ai) (2.19.0)\n",
            "Requirement already satisfied: google-auth<3.0.0dev,>=2.14.1 in /usr/local/lib/python3.10/dist-packages (from google-cloud-aiplatform<2.0.0,>=1.47.0->langchain-google-vertexai==1.0.1->ragstack-ai-langchain[colbert,google,nvidia]==1.0.7->ragstack-ai) (2.27.0)\n",
            "Requirement already satisfied: proto-plus<2.0.0dev,>=1.22.0 in /usr/local/lib/python3.10/dist-packages (from google-cloud-aiplatform<2.0.0,>=1.47.0->langchain-google-vertexai==1.0.1->ragstack-ai-langchain[colbert,google,nvidia]==1.0.7->ragstack-ai) (1.23.0)\n",
            "Requirement already satisfied: protobuf!=3.20.0,!=3.20.1,!=4.21.0,!=4.21.1,!=4.21.2,!=4.21.3,!=4.21.4,!=4.21.5,<5.0.0dev,>=3.19.5 in /usr/local/lib/python3.10/dist-packages (from google-cloud-aiplatform<2.0.0,>=1.47.0->langchain-google-vertexai==1.0.1->ragstack-ai-langchain[colbert,google,nvidia]==1.0.7->ragstack-ai) (3.20.3)\n",
            "Requirement already satisfied: google-cloud-bigquery!=3.20.0,<4.0.0dev,>=1.15.0 in /usr/local/lib/python3.10/dist-packages (from google-cloud-aiplatform<2.0.0,>=1.47.0->langchain-google-vertexai==1.0.1->ragstack-ai-langchain[colbert,google,nvidia]==1.0.7->ragstack-ai) (3.21.0)\n",
            "Requirement already satisfied: google-cloud-resource-manager<3.0.0dev,>=1.3.3 in /usr/local/lib/python3.10/dist-packages (from google-cloud-aiplatform<2.0.0,>=1.47.0->langchain-google-vertexai==1.0.1->ragstack-ai-langchain[colbert,google,nvidia]==1.0.7->ragstack-ai) (1.12.3)\n",
            "Requirement already satisfied: shapely<3.0.0dev in /usr/local/lib/python3.10/dist-packages (from google-cloud-aiplatform<2.0.0,>=1.47.0->langchain-google-vertexai==1.0.1->ragstack-ai-langchain[colbert,google,nvidia]==1.0.7->ragstack-ai) (2.0.4)\n",
            "Requirement already satisfied: docstring-parser<1 in /usr/local/lib/python3.10/dist-packages (from google-cloud-aiplatform<2.0.0,>=1.47.0->langchain-google-vertexai==1.0.1->ragstack-ai-langchain[colbert,google,nvidia]==1.0.7->ragstack-ai) (0.16)\n",
            "Requirement already satisfied: google-cloud-core<3.0dev,>=2.3.0 in /usr/local/lib/python3.10/dist-packages (from google-cloud-storage<3.0.0,>=2.14.0->langchain-google-vertexai==1.0.1->ragstack-ai-langchain[colbert,google,nvidia]==1.0.7->ragstack-ai) (2.3.3)\n",
            "Requirement already satisfied: google-resumable-media>=2.6.0 in /usr/local/lib/python3.10/dist-packages (from google-cloud-storage<3.0.0,>=2.14.0->langchain-google-vertexai==1.0.1->ragstack-ai-langchain[colbert,google,nvidia]==1.0.7->ragstack-ai) (2.7.0)\n",
            "Requirement already satisfied: google-crc32c<2.0dev,>=1.0 in /usr/local/lib/python3.10/dist-packages (from google-cloud-storage<3.0.0,>=2.14.0->langchain-google-vertexai==1.0.1->ragstack-ai-langchain[colbert,google,nvidia]==1.0.7->ragstack-ai) (1.5.0)\n",
            "Requirement already satisfied: google-ai-generativelanguage==0.4.0 in /usr/local/lib/python3.10/dist-packages (from google-generativeai<0.5.0,>=0.4.1->langchain-google-genai==0.0.11->ragstack-ai-langchain[colbert,google,nvidia]==1.0.7->ragstack-ai) (0.4.0)\n",
            "Requirement already satisfied: anyio in /usr/local/lib/python3.10/dist-packages (from httpx->llama-index-llms-azure-openai==0.1.6->ragstack-ai-llamaindex[azure,bedrock,colbert,google]==1.0.5->ragstack-ai) (3.7.1)\n",
            "Requirement already satisfied: certifi in /usr/local/lib/python3.10/dist-packages (from httpx->llama-index-llms-azure-openai==0.1.6->ragstack-ai-llamaindex[azure,bedrock,colbert,google]==1.0.5->ragstack-ai) (2024.6.2)\n",
            "Requirement already satisfied: httpcore==1.* in /usr/local/lib/python3.10/dist-packages (from httpx->llama-index-llms-azure-openai==0.1.6->ragstack-ai-llamaindex[azure,bedrock,colbert,google]==1.0.5->ragstack-ai) (1.0.5)\n",
            "Requirement already satisfied: idna in /usr/local/lib/python3.10/dist-packages (from httpx->llama-index-llms-azure-openai==0.1.6->ragstack-ai-llamaindex[azure,bedrock,colbert,google]==1.0.5->ragstack-ai) (3.7)\n",
            "Requirement already satisfied: sniffio in /usr/local/lib/python3.10/dist-packages (from httpx->llama-index-llms-azure-openai==0.1.6->ragstack-ai-llamaindex[azure,bedrock,colbert,google]==1.0.5->ragstack-ai) (1.3.1)\n",
            "Requirement already satisfied: h2<5,>=3 in /usr/local/lib/python3.10/dist-packages (from httpx->llama-index-llms-azure-openai==0.1.6->ragstack-ai-llamaindex[azure,bedrock,colbert,google]==1.0.5->ragstack-ai) (4.1.0)\n",
            "Requirement already satisfied: h11<0.15,>=0.13 in /usr/local/lib/python3.10/dist-packages (from httpcore==1.*->httpx->llama-index-llms-azure-openai==0.1.6->ragstack-ai-llamaindex[azure,bedrock,colbert,google]==1.0.5->ragstack-ai) (0.14.0)\n",
            "Requirement already satisfied: jsonpointer>=1.9 in /usr/local/lib/python3.10/dist-packages (from jsonpatch<2.0,>=1.33->langchain-core==0.1.52->ragstack-ai-langchain[colbert,google,nvidia]==1.0.7->ragstack-ai) (2.4)\n",
            "Requirement already satisfied: orjson<4.0.0,>=3.9.14 in /usr/local/lib/python3.10/dist-packages (from langsmith<0.2.0,>=0.1.17->langchain==0.1.19->ragstack-ai-langchain[colbert,google,nvidia]==1.0.7->ragstack-ai) (3.10.3)\n",
            "Requirement already satisfied: deprecated>=1.2.9.3 in /usr/local/lib/python3.10/dist-packages (from llama-index-core<0.11.0,>=0.10.31->llama-index==0.10.31->ragstack-ai-llamaindex[azure,bedrock,colbert,google]==1.0.5->ragstack-ai) (1.2.14)\n",
            "Requirement already satisfied: dirtyjson<2.0.0,>=1.0.8 in /usr/local/lib/python3.10/dist-packages (from llama-index-core<0.11.0,>=0.10.31->llama-index==0.10.31->ragstack-ai-llamaindex[azure,bedrock,colbert,google]==1.0.5->ragstack-ai) (1.0.8)\n",
            "Requirement already satisfied: llamaindex-py-client<0.2.0,>=0.1.18 in /usr/local/lib/python3.10/dist-packages (from llama-index-core<0.11.0,>=0.10.31->llama-index==0.10.31->ragstack-ai-llamaindex[azure,bedrock,colbert,google]==1.0.5->ragstack-ai) (0.1.19)\n",
            "Requirement already satisfied: nest-asyncio<2.0.0,>=1.5.8 in /usr/local/lib/python3.10/dist-packages (from llama-index-core<0.11.0,>=0.10.31->llama-index==0.10.31->ragstack-ai-llamaindex[azure,bedrock,colbert,google]==1.0.5->ragstack-ai) (1.6.0)\n",
            "Requirement already satisfied: pandas in /usr/local/lib/python3.10/dist-packages (from llama-index-core<0.11.0,>=0.10.31->llama-index==0.10.31->ragstack-ai-llamaindex[azure,bedrock,colbert,google]==1.0.5->ragstack-ai) (2.0.3)\n",
            "Requirement already satisfied: anthropic<0.24.0,>=0.23.1 in /usr/local/lib/python3.10/dist-packages (from llama-index-llms-anthropic<0.2.0,>=0.1.7->llama-index-llms-bedrock==0.1.7->ragstack-ai-llamaindex[azure,bedrock,colbert,google]==1.0.5->ragstack-ai) (0.23.1)\n",
            "Requirement already satisfied: pypdf<5.0.0,>=4.0.1 in /usr/local/lib/python3.10/dist-packages (from llama-index-readers-file<0.2.0,>=0.1.4->llama-index==0.10.31->ragstack-ai-llamaindex[azure,bedrock,colbert,google]==1.0.5->ragstack-ai) (4.2.0)\n",
            "Requirement already satisfied: striprtf<0.0.27,>=0.0.26 in /usr/local/lib/python3.10/dist-packages (from llama-index-readers-file<0.2.0,>=0.1.4->llama-index==0.10.31->ragstack-ai-llamaindex[azure,bedrock,colbert,google]==1.0.5->ragstack-ai) (0.0.26)\n",
            "Requirement already satisfied: soupsieve>1.2 in /usr/local/lib/python3.10/dist-packages (from beautifulsoup4->unstructured==0.14.2->ragstack-ai-langchain[colbert,google,nvidia]==1.0.7->ragstack-ai) (2.5)\n",
            "Requirement already satisfied: click in /usr/local/lib/python3.10/dist-packages (from nltk->unstructured==0.14.2->ragstack-ai-langchain[colbert,google,nvidia]==1.0.7->ragstack-ai) (8.1.7)\n",
            "Requirement already satisfied: joblib in /usr/local/lib/python3.10/dist-packages (from nltk->unstructured==0.14.2->ragstack-ai-langchain[colbert,google,nvidia]==1.0.7->ragstack-ai) (1.4.2)\n",
            "Requirement already satisfied: regex>=2021.8.3 in /usr/local/lib/python3.10/dist-packages (from nltk->unstructured==0.14.2->ragstack-ai-langchain[colbert,google,nvidia]==1.0.7->ragstack-ai) (2024.5.15)\n",
            "Requirement already satisfied: distro<2,>=1.7.0 in /usr/lib/python3/dist-packages (from openai<2.0.0,>=1.10.0->langchain-openai==0.1.3->ragstack-ai-langchain[colbert,google,nvidia]==1.0.7->ragstack-ai) (1.7.0)\n",
            "Requirement already satisfied: charset-normalizer<4,>=2 in /usr/local/lib/python3.10/dist-packages (from requests<3,>=2->langchain==0.1.19->ragstack-ai-langchain[colbert,google,nvidia]==1.0.7->ragstack-ai) (3.3.2)\n",
            "Requirement already satisfied: urllib3<3,>=1.21.1 in /usr/local/lib/python3.10/dist-packages (from requests<3,>=2->langchain==0.1.19->ragstack-ai-langchain[colbert,google,nvidia]==1.0.7->ragstack-ai) (2.0.7)\n",
            "Requirement already satisfied: greenlet!=0.4.17 in /usr/local/lib/python3.10/dist-packages (from SQLAlchemy<3,>=1.4->langchain==0.1.19->ragstack-ai-langchain[colbert,google,nvidia]==1.0.7->ragstack-ai) (3.0.3)\n",
            "Requirement already satisfied: pyarrow-hotfix in /usr/local/lib/python3.10/dist-packages (from datasets->colbert-ai==0.2.19->ragstack-ai-colbert==1.0.5->ragstack-ai) (0.6)\n",
            "Requirement already satisfied: dill<0.3.9,>=0.3.0 in /usr/local/lib/python3.10/dist-packages (from datasets->colbert-ai==0.2.19->ragstack-ai-colbert==1.0.5->ragstack-ai) (0.3.8)\n",
            "Requirement already satisfied: xxhash in /usr/local/lib/python3.10/dist-packages (from datasets->colbert-ai==0.2.19->ragstack-ai-colbert==1.0.5->ragstack-ai) (3.4.1)\n",
            "Requirement already satisfied: multiprocess in /usr/local/lib/python3.10/dist-packages (from datasets->colbert-ai==0.2.19->ragstack-ai-colbert==1.0.5->ragstack-ai) (0.70.16)\n",
            "Requirement already satisfied: huggingface-hub>=0.21.2 in /usr/local/lib/python3.10/dist-packages (from datasets->colbert-ai==0.2.19->ragstack-ai-colbert==1.0.5->ragstack-ai) (0.23.2)\n",
            "Requirement already satisfied: Werkzeug>=2.2.2 in /usr/local/lib/python3.10/dist-packages (from flask->colbert-ai==0.2.19->ragstack-ai-colbert==1.0.5->ragstack-ai) (3.0.3)\n",
            "Requirement already satisfied: itsdangerous>=2.0 in /usr/local/lib/python3.10/dist-packages (from flask->colbert-ai==0.2.19->ragstack-ai-colbert==1.0.5->ragstack-ai) (2.2.0)\n",
            "Requirement already satisfied: MarkupSafe>=2.0 in /usr/local/lib/python3.10/dist-packages (from jinja2->torch==2.2.1->ragstack-ai-colbert==1.0.5->ragstack-ai) (2.1.5)\n",
            "Requirement already satisfied: gitpython in /usr/local/lib/python3.10/dist-packages (from git-python->colbert-ai==0.2.19->ragstack-ai-colbert==1.0.5->ragstack-ai) (3.1.43)\n",
            "Requirement already satisfied: mpmath<1.4.0,>=1.1.0 in /usr/local/lib/python3.10/dist-packages (from sympy->torch==2.2.1->ragstack-ai-colbert==1.0.5->ragstack-ai) (1.3.0)\n",
            "Requirement already satisfied: tokenizers<0.20,>=0.19 in /usr/local/lib/python3.10/dist-packages (from transformers->colbert-ai==0.2.19->ragstack-ai-colbert==1.0.5->ragstack-ai) (0.19.1)\n",
            "Requirement already satisfied: safetensors>=0.4.1 in /usr/local/lib/python3.10/dist-packages (from transformers->colbert-ai==0.2.19->ragstack-ai-colbert==1.0.5->ragstack-ai) (0.4.3)\n",
            "Requirement already satisfied: deepdiff>=6.0 in /usr/local/lib/python3.10/dist-packages (from unstructured-client->unstructured==0.14.2->ragstack-ai-langchain[colbert,google,nvidia]==1.0.7->ragstack-ai) (7.0.1)\n",
            "Requirement already satisfied: jsonpath-python>=1.0.6 in /usr/local/lib/python3.10/dist-packages (from unstructured-client->unstructured==0.14.2->ragstack-ai-langchain[colbert,google,nvidia]==1.0.7->ragstack-ai) (1.0.6)\n",
            "Requirement already satisfied: mypy-extensions>=1.0.0 in /usr/local/lib/python3.10/dist-packages (from unstructured-client->unstructured==0.14.2->ragstack-ai-langchain[colbert,google,nvidia]==1.0.7->ragstack-ai) (1.0.0)\n",
            "Requirement already satisfied: requests-toolbelt>=1.0.0 in /usr/local/lib/python3.10/dist-packages (from unstructured-client->unstructured==0.14.2->ragstack-ai-langchain[colbert,google,nvidia]==1.0.7->ragstack-ai) (1.0.0)\n",
            "Requirement already satisfied: exceptiongroup in /usr/local/lib/python3.10/dist-packages (from anyio->httpx->llama-index-llms-azure-openai==0.1.6->ragstack-ai-llamaindex[azure,bedrock,colbert,google]==1.0.5->ragstack-ai) (1.2.1)\n",
            "Requirement already satisfied: ordered-set<4.2.0,>=4.1.0 in /usr/local/lib/python3.10/dist-packages (from deepdiff>=6.0->unstructured-client->unstructured==0.14.2->ragstack-ai-langchain[colbert,google,nvidia]==1.0.7->ragstack-ai) (4.1.0)\n",
            "Requirement already satisfied: googleapis-common-protos<2.0.dev0,>=1.56.2 in /usr/local/lib/python3.10/dist-packages (from google-api-core[grpc]!=2.0.*,!=2.1.*,!=2.2.*,!=2.3.*,!=2.4.*,!=2.5.*,!=2.6.*,!=2.7.*,<3.0.0dev,>=1.34.1->google-cloud-aiplatform<2.0.0,>=1.47.0->langchain-google-vertexai==1.0.1->ragstack-ai-langchain[colbert,google,nvidia]==1.0.7->ragstack-ai) (1.63.1)\n",
            "Requirement already satisfied: grpcio<2.0dev,>=1.33.2 in /usr/local/lib/python3.10/dist-packages (from google-api-core[grpc]!=2.0.*,!=2.1.*,!=2.2.*,!=2.3.*,!=2.4.*,!=2.5.*,!=2.6.*,!=2.7.*,<3.0.0dev,>=1.34.1->google-cloud-aiplatform<2.0.0,>=1.47.0->langchain-google-vertexai==1.0.1->ragstack-ai-langchain[colbert,google,nvidia]==1.0.7->ragstack-ai) (1.64.1)\n",
            "Requirement already satisfied: grpcio-status<2.0.dev0,>=1.33.2 in /usr/local/lib/python3.10/dist-packages (from google-api-core[grpc]!=2.0.*,!=2.1.*,!=2.2.*,!=2.3.*,!=2.4.*,!=2.5.*,!=2.6.*,!=2.7.*,<3.0.0dev,>=1.34.1->google-cloud-aiplatform<2.0.0,>=1.47.0->langchain-google-vertexai==1.0.1->ragstack-ai-langchain[colbert,google,nvidia]==1.0.7->ragstack-ai) (1.48.2)\n",
            "Requirement already satisfied: cachetools<6.0,>=2.0.0 in /usr/local/lib/python3.10/dist-packages (from google-auth<3.0.0dev,>=2.14.1->google-cloud-aiplatform<2.0.0,>=1.47.0->langchain-google-vertexai==1.0.1->ragstack-ai-langchain[colbert,google,nvidia]==1.0.7->ragstack-ai) (5.3.3)\n",
            "Requirement already satisfied: pyasn1-modules>=0.2.1 in /usr/local/lib/python3.10/dist-packages (from google-auth<3.0.0dev,>=2.14.1->google-cloud-aiplatform<2.0.0,>=1.47.0->langchain-google-vertexai==1.0.1->ragstack-ai-langchain[colbert,google,nvidia]==1.0.7->ragstack-ai) (0.4.0)\n",
            "Requirement already satisfied: rsa<5,>=3.1.4 in /usr/local/lib/python3.10/dist-packages (from google-auth<3.0.0dev,>=2.14.1->google-cloud-aiplatform<2.0.0,>=1.47.0->langchain-google-vertexai==1.0.1->ragstack-ai-langchain[colbert,google,nvidia]==1.0.7->ragstack-ai) (4.9)\n",
            "Requirement already satisfied: grpc-google-iam-v1<1.0.0dev,>=0.12.4 in /usr/local/lib/python3.10/dist-packages (from google-cloud-resource-manager<3.0.0dev,>=1.3.3->google-cloud-aiplatform<2.0.0,>=1.47.0->langchain-google-vertexai==1.0.1->ragstack-ai-langchain[colbert,google,nvidia]==1.0.7->ragstack-ai) (0.13.0)\n",
            "Requirement already satisfied: hyperframe<7,>=6.0 in /usr/local/lib/python3.10/dist-packages (from h2<5,>=3->httpx->llama-index-llms-azure-openai==0.1.6->ragstack-ai-llamaindex[azure,bedrock,colbert,google]==1.0.5->ragstack-ai) (6.0.1)\n",
            "Requirement already satisfied: hpack<5,>=4.0 in /usr/local/lib/python3.10/dist-packages (from h2<5,>=3->httpx->llama-index-llms-azure-openai==0.1.6->ragstack-ai-llamaindex[azure,bedrock,colbert,google]==1.0.5->ragstack-ai) (4.0.0)\n",
            "Requirement already satisfied: PyJWT[crypto]<3,>=1.0.0 in /usr/lib/python3/dist-packages (from msal>=1.24.0->azure-identity<2.0.0,>=1.15.0->llama-index-llms-azure-openai==0.1.6->ragstack-ai-llamaindex[azure,bedrock,colbert,google]==1.0.5->ragstack-ai) (2.3.0)\n",
            "Requirement already satisfied: portalocker<3,>=1.0 in /usr/local/lib/python3.10/dist-packages (from msal-extensions>=0.3.0->azure-identity<2.0.0,>=1.15.0->llama-index-llms-azure-openai==0.1.6->ragstack-ai-llamaindex[azure,bedrock,colbert,google]==1.0.5->ragstack-ai) (2.8.2)\n",
            "Requirement already satisfied: gitdb<5,>=4.0.1 in /usr/local/lib/python3.10/dist-packages (from gitpython->git-python->colbert-ai==0.2.19->ragstack-ai-colbert==1.0.5->ragstack-ai) (4.0.11)\n",
            "Requirement already satisfied: pytz>=2020.1 in /usr/local/lib/python3.10/dist-packages (from pandas->llama-index-core<0.11.0,>=0.10.31->llama-index==0.10.31->ragstack-ai-llamaindex[azure,bedrock,colbert,google]==1.0.5->ragstack-ai) (2023.4)\n",
            "Requirement already satisfied: tzdata>=2022.1 in /usr/local/lib/python3.10/dist-packages (from pandas->llama-index-core<0.11.0,>=0.10.31->llama-index==0.10.31->ragstack-ai-llamaindex[azure,bedrock,colbert,google]==1.0.5->ragstack-ai) (2024.1)\n",
            "Requirement already satisfied: smmap<6,>=3.0.1 in /usr/local/lib/python3.10/dist-packages (from gitdb<5,>=4.0.1->gitpython->git-python->colbert-ai==0.2.19->ragstack-ai-colbert==1.0.5->ragstack-ai) (5.0.1)\n",
            "Requirement already satisfied: pyasn1<0.7.0,>=0.4.6 in /usr/local/lib/python3.10/dist-packages (from pyasn1-modules>=0.2.1->google-auth<3.0.0dev,>=2.14.1->google-cloud-aiplatform<2.0.0,>=1.47.0->langchain-google-vertexai==1.0.1->ragstack-ai-langchain[colbert,google,nvidia]==1.0.7->ragstack-ai) (0.6.0)\n"
          ]
        }
      ]
    },
    {
      "cell_type": "code",
      "execution_count": 3,
      "metadata": {
        "id": "GMZEAlDQa8iv"
      },
      "outputs": [],
      "source": [
        "from google.colab import userdata\n",
        "PROJECT_ID = userdata.get('GCP_PROJECT_ID')"
      ]
    },
    {
      "cell_type": "code",
      "source": [
        "from google.colab import userdata\n",
        "LOCATION = userdata.get('GCP_LOCATION')"
      ],
      "metadata": {
        "id": "O5CwlMt-b4xB"
      },
      "execution_count": 4,
      "outputs": []
    },
    {
      "cell_type": "code",
      "source": [
        "import os"
      ],
      "metadata": {
        "id": "ARkCWcMibk0E"
      },
      "execution_count": 5,
      "outputs": []
    },
    {
      "cell_type": "code",
      "source": [
        "os.environ['GCP_PROJECT_ID'] = PROJECT_ID"
      ],
      "metadata": {
        "id": "XGrj5yBWbqAY"
      },
      "execution_count": 6,
      "outputs": []
    },
    {
      "cell_type": "code",
      "source": [
        "os.environ['LOCATION'] = LOCATION"
      ],
      "metadata": {
        "id": "pAgoQA12bw0m"
      },
      "execution_count": 7,
      "outputs": []
    },
    {
      "cell_type": "code",
      "source": [
        "!gcloud config set project {os.getenv('GCP_PROJECT_ID')}"
      ],
      "metadata": {
        "colab": {
          "base_uri": "https://localhost:8080/"
        },
        "id": "nW50WK7AdTqP",
        "outputId": "6a8eff24-6e56-4929-d680-a325495ba017"
      },
      "execution_count": 8,
      "outputs": [
        {
          "output_type": "stream",
          "name": "stdout",
          "text": [
            "Updated property [core/project].\n"
          ]
        }
      ]
    },
    {
      "cell_type": "code",
      "source": [
        "import sys\n",
        "\n",
        "if \"google.colab\" in sys.modules:\n",
        "  from google.colab import auth as google_auth\n",
        "  google_auth.authenticate_user()"
      ],
      "metadata": {
        "id": "PLYuBPsBdqCH"
      },
      "execution_count": 9,
      "outputs": []
    },
    {
      "cell_type": "code",
      "source": [
        "import vertexai"
      ],
      "metadata": {
        "id": "5tLRXAAid-38"
      },
      "execution_count": 10,
      "outputs": []
    },
    {
      "cell_type": "code",
      "source": [
        "!gcloud auth list"
      ],
      "metadata": {
        "colab": {
          "base_uri": "https://localhost:8080/"
        },
        "id": "X8rAQMLreVJj",
        "outputId": "1a6cb73a-ea22-4bd7-8e74-bd986f28d098"
      },
      "execution_count": 11,
      "outputs": [
        {
          "output_type": "stream",
          "name": "stdout",
          "text": [
            "       Credentialed Accounts\n",
            "ACTIVE  ACCOUNT\n",
            "*       jasperbongers1974@gmail.com\n",
            "\n",
            "To set the active account, run:\n",
            "    $ gcloud config set account `ACCOUNT`\n",
            "\n"
          ]
        }
      ]
    },
    {
      "cell_type": "code",
      "source": [
        "vertexai.init(project=PROJECT_ID, location=LOCATION)"
      ],
      "metadata": {
        "id": "2fWGgUZUeg8v"
      },
      "execution_count": 12,
      "outputs": []
    },
    {
      "cell_type": "code",
      "source": [
        "from vertexai.preview.generative_models import GenerativeModel"
      ],
      "metadata": {
        "id": "lDudtzZRetwb"
      },
      "execution_count": 13,
      "outputs": []
    },
    {
      "cell_type": "code",
      "source": [
        "model = GenerativeModel('gemini-1.0-pro')"
      ],
      "metadata": {
        "id": "koUjE9Pjfvh6"
      },
      "execution_count": 14,
      "outputs": []
    },
    {
      "cell_type": "code",
      "source": [
        "response = model.generate_content('what is the colour of the sky')"
      ],
      "metadata": {
        "id": "1TZGHJgdf4Wr"
      },
      "execution_count": 15,
      "outputs": []
    },
    {
      "cell_type": "code",
      "source": [
        "response"
      ],
      "metadata": {
        "colab": {
          "base_uri": "https://localhost:8080/"
        },
        "id": "pcH4tbRHgqoI",
        "outputId": "4a410273-469a-4d61-b4a6-60d4266a6627"
      },
      "execution_count": 16,
      "outputs": [
        {
          "output_type": "execute_result",
          "data": {
            "text/plain": [
              "candidates {\n",
              "  content {\n",
              "    role: \"model\"\n",
              "    parts {\n",
              "      text: \"The colour of the sky is blue. This is because the Earth\\'s atmosphere scatters sunlight in all directions. Blue light is scattered more than other colours, which is why the sky appears blue.\\n\\nAt sunrise and sunset, the sky can appear red or orange. This is because the sunlight has to travel through more of the Earth\\'s atmosphere to reach our eyes. This causes the blue light to be scattered even more, and the red and orange light to be scattered less. This is why the sky appears red or orange at sunrise and sunset.\"\n",
              "    }\n",
              "  }\n",
              "  finish_reason: STOP\n",
              "  safety_ratings {\n",
              "    category: HARM_CATEGORY_HATE_SPEECH\n",
              "    probability: NEGLIGIBLE\n",
              "    probability_score: 0.05665242671966553\n",
              "    severity: HARM_SEVERITY_NEGLIGIBLE\n",
              "    severity_score: 0.04193052276968956\n",
              "  }\n",
              "  safety_ratings {\n",
              "    category: HARM_CATEGORY_DANGEROUS_CONTENT\n",
              "    probability: NEGLIGIBLE\n",
              "    probability_score: 0.08555634319782257\n",
              "    severity: HARM_SEVERITY_NEGLIGIBLE\n",
              "    severity_score: 0.056756895035505295\n",
              "  }\n",
              "  safety_ratings {\n",
              "    category: HARM_CATEGORY_HARASSMENT\n",
              "    probability: NEGLIGIBLE\n",
              "    probability_score: 0.10743747651576996\n",
              "    severity: HARM_SEVERITY_NEGLIGIBLE\n",
              "    severity_score: 0.02681019715964794\n",
              "  }\n",
              "  safety_ratings {\n",
              "    category: HARM_CATEGORY_SEXUALLY_EXPLICIT\n",
              "    probability: NEGLIGIBLE\n",
              "    probability_score: 0.1149633526802063\n",
              "    severity: HARM_SEVERITY_NEGLIGIBLE\n",
              "    severity_score: 0.03371654078364372\n",
              "  }\n",
              "}\n",
              "usage_metadata {\n",
              "  prompt_token_count: 7\n",
              "  candidates_token_count: 111\n",
              "  total_token_count: 118\n",
              "}"
            ]
          },
          "metadata": {},
          "execution_count": 16
        }
      ]
    },
    {
      "cell_type": "markdown",
      "source": [
        "# RAG System"
      ],
      "metadata": {
        "id": "xPOhgK2ygpkv"
      }
    },
    {
      "cell_type": "code",
      "source": [
        "ASTRA_DB_API_ENDPOINT=\"https://fded6382-857e-4eab-83f2-ceca736c0712-us-east-2.apps.astra.datastax.com\"\n",
        "ASTRA_DB_APPLICATION_TOKEN=\"AstraCS:qfKCQxsikjlrQZpunuiubGKg:8c0059b84e27a87378eb2a49e4d38f3bfcb0de70b66c23cfceafbb69a379e22f\""
      ],
      "metadata": {
        "id": "S4-WvldBgNm1"
      },
      "execution_count": 22,
      "outputs": []
    },
    {
      "cell_type": "code",
      "source": [
        "os.environ[\"ASTRA_DB_ENDPOINT\"]=ASTRA_DB_API_ENDPOINT"
      ],
      "metadata": {
        "id": "LWcET-zVl1C_"
      },
      "execution_count": 23,
      "outputs": []
    },
    {
      "cell_type": "code",
      "source": [
        "os.environ[\"ASTRA_DB_TOKEN\"]=ASTRA_DB_APPLICATION_TOKEN"
      ],
      "metadata": {
        "id": "3ZtpEr6Ql7si"
      },
      "execution_count": 24,
      "outputs": []
    },
    {
      "cell_type": "code",
      "source": [
        "from vertexai.preview.generative_models import (\n",
        "    GenerationConfig,\n",
        "    GenerativeModel,\n",
        "    HarmCategory,\n",
        "    HarmBlockThreshold,\n",
        "    Image,\n",
        "    Part\n",
        ")"
      ],
      "metadata": {
        "id": "iu8sxm1ZmAQs"
      },
      "execution_count": 25,
      "outputs": []
    },
    {
      "cell_type": "code",
      "source": [
        "prompt = \"\"\"Create a numbered list of 10 items. Each item in the list should be a trend in the tech industry.\n",
        "\n",
        "Each trend should be less than 5 words.\"\"\""
      ],
      "metadata": {
        "id": "tGFGPXz2nAXp"
      },
      "execution_count": 26,
      "outputs": []
    },
    {
      "cell_type": "code",
      "source": [
        "response=model.generate_content(prompt, stream=True)"
      ],
      "metadata": {
        "id": "jpxphpVZnDKr"
      },
      "execution_count": 27,
      "outputs": []
    },
    {
      "cell_type": "code",
      "source": [
        "for response in response:\n",
        "    print(response.text, end=\"\")"
      ],
      "metadata": {
        "colab": {
          "base_uri": "https://localhost:8080/"
        },
        "id": "lzRJhad1nP2t",
        "outputId": "65125c07-43fc-4245-a831-8eae48ab110f"
      },
      "execution_count": 28,
      "outputs": [
        {
          "output_type": "stream",
          "name": "stdout",
          "text": [
            "## Top 10 Tech Industry Trends:\n",
            "\n",
            "1. Artificial Intelligence Everywhere\n",
            "2. The Rise of the Metaverse\n",
            "3. Quantum Computing Leaps Forward\n",
            "4. Blockchain Beyond Crypto\n",
            "5. Personalized Healthcare via Tech\n",
            "6. Hyper Automation Takes Over\n",
            "7. Cybersecurity in the Spotlight\n",
            "8. Sustainability Drives Innovation\n",
            "9. The Creator Economy Booms\n",
            "10. Decentralization Disrupts Industries"
          ]
        }
      ]
    },
    {
      "cell_type": "code",
      "source": [
        "generation_config =GenerationConfig(\n",
        "    temperature=0.9,\n",
        "    top_p=1.0,\n",
        "    top_k=32,\n",
        "    candidate_count=1,\n",
        "    max_output_tokens=8192,\n",
        ")"
      ],
      "metadata": {
        "id": "5G4gYIqInS00"
      },
      "execution_count": 31,
      "outputs": []
    },
    {
      "cell_type": "code",
      "source": [
        "response=model.generate_content(prompt,generation_config=generation_config, stream=True)"
      ],
      "metadata": {
        "id": "-5oyrOxNnb-p"
      },
      "execution_count": 32,
      "outputs": []
    },
    {
      "cell_type": "code",
      "source": [
        "for response in response:\n",
        "    print(response.text, end=\"\")"
      ],
      "metadata": {
        "colab": {
          "base_uri": "https://localhost:8080/"
        },
        "id": "sGOc2AHnnm5g",
        "outputId": "07675215-431c-4454-d6cc-26f8d9c93853"
      },
      "execution_count": 33,
      "outputs": [
        {
          "output_type": "stream",
          "name": "stdout",
          "text": [
            "## Top 10 Tech Trends for 2023:\n",
            "\n",
            "1.  AI Personalization\n",
            "2.  Cybersecurity Mesh\n",
            "3.  Generative AI\n",
            "4.  Sustainable Tech\n",
            "5.  Hyperautomation\n",
            "6.  Quantum Computing\n",
            "7.  Decentralized Finance\n",
            "8.  Metaverse Expansion\n",
            "9.  Low-Code Development\n",
            "10. Digital Wellbeing"
          ]
        }
      ]
    },
    {
      "cell_type": "code",
      "source": [
        "!pip install requests"
      ],
      "metadata": {
        "colab": {
          "base_uri": "https://localhost:8080/"
        },
        "id": "fESQQx-6nuoO",
        "outputId": "a0d8b112-bc41-4e0a-e7e5-bca4df4e6b78"
      },
      "execution_count": 34,
      "outputs": [
        {
          "output_type": "stream",
          "name": "stdout",
          "text": [
            "Requirement already satisfied: requests in /usr/local/lib/python3.10/dist-packages (2.32.3)\n",
            "Requirement already satisfied: charset-normalizer<4,>=2 in /usr/local/lib/python3.10/dist-packages (from requests) (3.3.2)\n",
            "Requirement already satisfied: idna<4,>=2.5 in /usr/local/lib/python3.10/dist-packages (from requests) (3.7)\n",
            "Requirement already satisfied: urllib3<3,>=1.21.1 in /usr/local/lib/python3.10/dist-packages (from requests) (2.0.7)\n",
            "Requirement already satisfied: certifi>=2017.4.17 in /usr/local/lib/python3.10/dist-packages (from requests) (2024.6.2)\n"
          ]
        }
      ]
    },
    {
      "cell_type": "code",
      "source": [
        "import requests"
      ],
      "metadata": {
        "id": "nGnD5g8IoH6j"
      },
      "execution_count": 35,
      "outputs": []
    },
    {
      "cell_type": "code",
      "source": [
        "source_img_data =requests.get(\"https://drive.google.com/uc?export=view&id=15ddcn-AIxpvRdWcFGvIr77XLWdo4Maof\").content"
      ],
      "metadata": {
        "id": "aHzHVPY_oKIY"
      },
      "execution_count": 36,
      "outputs": []
    },
    {
      "cell_type": "code",
      "source": [
        "with open('coffee_maker_part.png', 'wb') as handler:\n",
        "  handler.write(source_img_data)"
      ],
      "metadata": {
        "id": "g-E8k8a-oTJ8"
      },
      "execution_count": 37,
      "outputs": []
    },
    {
      "cell_type": "code",
      "source": [
        "from langchain_google_vertexai import ChatVertexAI"
      ],
      "metadata": {
        "id": "0Z4e4EtHoVY7"
      },
      "execution_count": 38,
      "outputs": []
    },
    {
      "cell_type": "code",
      "source": [
        "from langchain.schema.messages import HumanMessage\n",
        "from PIL import Image, ImageFile\n",
        "import os, sys"
      ],
      "metadata": {
        "id": "lNYvhGNJ7rPK"
      },
      "execution_count": 39,
      "outputs": []
    },
    {
      "cell_type": "code",
      "source": [
        "chat = ChatVertexAI(model_name=\"gemini-1.0-pro-vision\")"
      ],
      "metadata": {
        "id": "CzAk7Bvd7u1H"
      },
      "execution_count": 40,
      "outputs": []
    },
    {
      "cell_type": "code",
      "source": [
        "image_message = {\n",
        "    \"type\": \"image_url\",\n",
        "    \"image_url\": {\"url\": \"coffee_maker_part.png\"},\n",
        "}\n",
        "text_message = {\n",
        "    \"type\": \"text\",\n",
        "    \"text\": \"What is this image? Share a link to purchase a replacement\",\n",
        "}"
      ],
      "metadata": {
        "id": "2_ZeS1OG7xzi"
      },
      "execution_count": 41,
      "outputs": []
    },
    {
      "cell_type": "code",
      "source": [
        "message = HumanMessage(content=[text_message, image_message])"
      ],
      "metadata": {
        "id": "ZorHACJl74SZ"
      },
      "execution_count": 42,
      "outputs": []
    },
    {
      "cell_type": "code",
      "source": [
        "message"
      ],
      "metadata": {
        "colab": {
          "base_uri": "https://localhost:8080/"
        },
        "id": "-LZIVzhZ7-n7",
        "outputId": "d5213c9a-761a-4680-9540-70db3331b8d6"
      },
      "execution_count": 43,
      "outputs": [
        {
          "output_type": "execute_result",
          "data": {
            "text/plain": [
              "HumanMessage(content=[{'type': 'text', 'text': 'What is this image? Share a link to purchase a replacement'}, {'type': 'image_url', 'image_url': {'url': 'coffee_maker_part.png'}}])"
            ]
          },
          "metadata": {},
          "execution_count": 43
        }
      ]
    },
    {
      "cell_type": "code",
      "source": [
        "print(chat([message]).content)"
      ],
      "metadata": {
        "colab": {
          "base_uri": "https://localhost:8080/"
        },
        "id": "5Mg8rpsK8PAj",
        "outputId": "12617c29-2e95-4aa9-9a19-6b7c51a07c33"
      },
      "execution_count": 44,
      "outputs": [
        {
          "output_type": "stream",
          "name": "stderr",
          "text": [
            "/usr/local/lib/python3.10/dist-packages/langchain_core/_api/deprecation.py:119: LangChainDeprecationWarning: The method `BaseChatModel.__call__` was deprecated in langchain-core 0.1.7 and will be removed in 0.3.0. Use invoke instead.\n",
            "  warn_deprecated(\n"
          ]
        },
        {
          "output_type": "stream",
          "name": "stdout",
          "text": [
            " This is a replacement basket for a Breville Duo Temp Pro espresso machine.\n",
            "\n",
            "https://www.amazon.com/dp/B07Q49X69G?ref=myi_title_dp\n"
          ]
        }
      ]
    },
    {
      "cell_type": "markdown",
      "source": [
        "RAG: I can pass the image and based on that i can take a recommendation from my model."
      ],
      "metadata": {
        "id": "R8Uqz9i3-3-t"
      }
    },
    {
      "cell_type": "code",
      "source": [
        "import pandas as pd"
      ],
      "metadata": {
        "id": "HXUr4JSs-z8O"
      },
      "execution_count": 46,
      "outputs": []
    },
    {
      "cell_type": "code",
      "source": [
        "d = {'name': [\"Saucer\", \"Saucer Ceramic\", \"Milk Jug Assembly\", \"Handle Steam Wand Kit (New Version From 0735 PDC)\", \"Spout Juice Small (From 0637 to 1041 PDC)\", \"Cleaning Steam Wand\", \"Jug Frothing\", \"Spoon Tamping 50mm\", \"Collar Grouphead 50mm\", \"Filter 2 Cup Dual Wall 50mm\", \"Filter 1 Cup 50mm\", \"Water Tank Assembly\", \"Portafilter Assembly 50mm\", \"Milk Jug Assembly\", \"Filter 2 Cup 50mm\" ],\n",
        "     'url': [\"https://www.breville.com/us/en/parts-accessories/parts/sp0014946.html?sku=SP0014946\", \"https://www.breville.com/us/en/parts-accessories/parts/sp0014914.html?sku=SP0014914\", \"https://www.breville.com/us/en/parts-accessories/parts/sp0011391.html?sku=SP0011391\", \"https://www.breville.com/us/en/parts-accessories/parts/sp0010719.html?sku=SP0010719\", \"https://www.breville.com/us/en/parts-accessories/parts/sp0010718.html?sku=SP0010718\", \"https://www.breville.com/us/en/parts-accessories/parts/sp0003247.html?sku=SP0003247\", \"https://www.breville.com/us/en/parts-accessories/parts/sp0003246.html?sku=SP0003246\", \"https://www.breville.com/us/en/parts-accessories/parts/sp0003243.html?sku=SP0003243\", \"https://www.breville.com/us/en/parts-accessories/parts/sp0003232.html?sku=SP0003232\", \"https://www.breville.com/us/en/parts-accessories/parts/sp0003231.html?sku=SP0003231\", \"https://www.breville.com/us/en/parts-accessories/parts/sp0003230.html?sku=SP0003230\", \"https://www.breville.com/us/en/parts-accessories/parts/sp0003225.html?sku=SP0003225\", \"https://www.breville.com/us/en/parts-accessories/parts/sp0003216.html?sku=SP0003216\", \"https://www.breville.com/us/en/parts-accessories/parts/sp0001875.html?sku=SP0001875\", \"https://www.breville.com/us/en/parts-accessories/parts/sp0000166.html?sku=SP0000166\"],\n",
        "     'price': [\"10.95\", \"4.99\", \"14.95\", \"8.95\", \"10.95\", \"6.95\", \"24.95\", \"8.95\", \"6.95\", \"12.95\", \"12.95\", \"14.95\", \"10.95\", \"16.95\", \"11.95\"],\n",
        "     'image': [\"https://www.breville.com/content/dam/breville/us/catalog/products/images/sp0/sp0014946/tile.jpg\", \"https://www.breville.com/content/dam/breville/us/catalog/products/images/sp0/sp0014914/tile.jpg\", \"https://www.breville.com/content/dam/breville/us/catalog/products/images/sp0/sp0011391/tile.jpg\", \"https://www.breville.com/content/dam/breville/ca/catalog/products/images/sp0/sp0010719/tile.jpg\", \"https://www.breville.com/content/dam/breville/ca/catalog/products/images/sp0/sp0010718/tile.jpg\", \"https://www.breville.com/content/dam/breville/ca/catalog/products/images/sp0/sp0003247/tile.jpg\", \"https://assets.breville.com/cdn-cgi/image/width=400,format=auto/Spare+Parts+/Espresso+Machines/BES250/SP0003246/SP0003246_IMAGE1_400X400.jpg\", \"https://assets.breville.com/cdn-cgi/image/width=400,format=auto/Spare+Parts+/Espresso+Machines/ESP8/SP0003243/SP0003243_IMAGE1_400X400.jpg\", \"https://assets.breville.com/cdn-cgi/image/width=400,format=auto/Spare+Parts+/Espresso+Machines/ESP8/SP0003232/SP0003232_IMAGE1_400x400.jpg\", \"https://www.breville.com/content/dam/breville/au/catalog/products/images/sp0/sp0003231/tile.jpg\", \"https://www.breville.com/content/dam/breville/au/catalog/products/images/sp0/sp0003230/tile.jpg\", \"https://www.breville.com/content/dam/breville/ca/catalog/products/images/sp0/sp0003225/tile.jpg\", \"https://www.breville.com/content/dam/breville/ca/catalog/products/images/sp0/sp0003216/tile.jpg\", \"https://www.breville.com/content/dam/breville/au/catalog/products/images/sp0/sp0001875/tile.jpg\", \"https://www.breville.com/content/dam/breville/us/catalog/products/images/sp0/sp0000166/tile.jpg\"]}"
      ],
      "metadata": {
        "id": "PZ_EWDwP-66K"
      },
      "execution_count": 47,
      "outputs": []
    },
    {
      "cell_type": "code",
      "source": [
        "df = pd.DataFrame(data=d)\n",
        "df"
      ],
      "metadata": {
        "colab": {
          "base_uri": "https://localhost:8080/",
          "height": 1000
        },
        "id": "gWHNS6Yv-8en",
        "outputId": "9325abea-38e7-4fc7-b745-cf01e15ebbdb"
      },
      "execution_count": 48,
      "outputs": [
        {
          "output_type": "execute_result",
          "data": {
            "text/plain": [
              "                                                 name  \\\n",
              "0                                              Saucer   \n",
              "1                                      Saucer Ceramic   \n",
              "2                                   Milk Jug Assembly   \n",
              "3   Handle Steam Wand Kit (New Version From 0735 PDC)   \n",
              "4           Spout Juice Small (From 0637 to 1041 PDC)   \n",
              "5                                 Cleaning Steam Wand   \n",
              "6                                        Jug Frothing   \n",
              "7                                  Spoon Tamping 50mm   \n",
              "8                               Collar Grouphead 50mm   \n",
              "9                         Filter 2 Cup Dual Wall 50mm   \n",
              "10                                  Filter 1 Cup 50mm   \n",
              "11                                Water Tank Assembly   \n",
              "12                          Portafilter Assembly 50mm   \n",
              "13                                  Milk Jug Assembly   \n",
              "14                                  Filter 2 Cup 50mm   \n",
              "\n",
              "                                                  url  price  \\\n",
              "0   https://www.breville.com/us/en/parts-accessori...  10.95   \n",
              "1   https://www.breville.com/us/en/parts-accessori...   4.99   \n",
              "2   https://www.breville.com/us/en/parts-accessori...  14.95   \n",
              "3   https://www.breville.com/us/en/parts-accessori...   8.95   \n",
              "4   https://www.breville.com/us/en/parts-accessori...  10.95   \n",
              "5   https://www.breville.com/us/en/parts-accessori...   6.95   \n",
              "6   https://www.breville.com/us/en/parts-accessori...  24.95   \n",
              "7   https://www.breville.com/us/en/parts-accessori...   8.95   \n",
              "8   https://www.breville.com/us/en/parts-accessori...   6.95   \n",
              "9   https://www.breville.com/us/en/parts-accessori...  12.95   \n",
              "10  https://www.breville.com/us/en/parts-accessori...  12.95   \n",
              "11  https://www.breville.com/us/en/parts-accessori...  14.95   \n",
              "12  https://www.breville.com/us/en/parts-accessori...  10.95   \n",
              "13  https://www.breville.com/us/en/parts-accessori...  16.95   \n",
              "14  https://www.breville.com/us/en/parts-accessori...  11.95   \n",
              "\n",
              "                                                image  \n",
              "0   https://www.breville.com/content/dam/breville/...  \n",
              "1   https://www.breville.com/content/dam/breville/...  \n",
              "2   https://www.breville.com/content/dam/breville/...  \n",
              "3   https://www.breville.com/content/dam/breville/...  \n",
              "4   https://www.breville.com/content/dam/breville/...  \n",
              "5   https://www.breville.com/content/dam/breville/...  \n",
              "6   https://assets.breville.com/cdn-cgi/image/widt...  \n",
              "7   https://assets.breville.com/cdn-cgi/image/widt...  \n",
              "8   https://assets.breville.com/cdn-cgi/image/widt...  \n",
              "9   https://www.breville.com/content/dam/breville/...  \n",
              "10  https://www.breville.com/content/dam/breville/...  \n",
              "11  https://www.breville.com/content/dam/breville/...  \n",
              "12  https://www.breville.com/content/dam/breville/...  \n",
              "13  https://www.breville.com/content/dam/breville/...  \n",
              "14  https://www.breville.com/content/dam/breville/...  "
            ],
            "text/html": [
              "\n",
              "  <div id=\"df-fc3b6280-8115-492c-a5e6-9144f698ef4b\" class=\"colab-df-container\">\n",
              "    <div>\n",
              "<style scoped>\n",
              "    .dataframe tbody tr th:only-of-type {\n",
              "        vertical-align: middle;\n",
              "    }\n",
              "\n",
              "    .dataframe tbody tr th {\n",
              "        vertical-align: top;\n",
              "    }\n",
              "\n",
              "    .dataframe thead th {\n",
              "        text-align: right;\n",
              "    }\n",
              "</style>\n",
              "<table border=\"1\" class=\"dataframe\">\n",
              "  <thead>\n",
              "    <tr style=\"text-align: right;\">\n",
              "      <th></th>\n",
              "      <th>name</th>\n",
              "      <th>url</th>\n",
              "      <th>price</th>\n",
              "      <th>image</th>\n",
              "    </tr>\n",
              "  </thead>\n",
              "  <tbody>\n",
              "    <tr>\n",
              "      <th>0</th>\n",
              "      <td>Saucer</td>\n",
              "      <td>https://www.breville.com/us/en/parts-accessori...</td>\n",
              "      <td>10.95</td>\n",
              "      <td>https://www.breville.com/content/dam/breville/...</td>\n",
              "    </tr>\n",
              "    <tr>\n",
              "      <th>1</th>\n",
              "      <td>Saucer Ceramic</td>\n",
              "      <td>https://www.breville.com/us/en/parts-accessori...</td>\n",
              "      <td>4.99</td>\n",
              "      <td>https://www.breville.com/content/dam/breville/...</td>\n",
              "    </tr>\n",
              "    <tr>\n",
              "      <th>2</th>\n",
              "      <td>Milk Jug Assembly</td>\n",
              "      <td>https://www.breville.com/us/en/parts-accessori...</td>\n",
              "      <td>14.95</td>\n",
              "      <td>https://www.breville.com/content/dam/breville/...</td>\n",
              "    </tr>\n",
              "    <tr>\n",
              "      <th>3</th>\n",
              "      <td>Handle Steam Wand Kit (New Version From 0735 PDC)</td>\n",
              "      <td>https://www.breville.com/us/en/parts-accessori...</td>\n",
              "      <td>8.95</td>\n",
              "      <td>https://www.breville.com/content/dam/breville/...</td>\n",
              "    </tr>\n",
              "    <tr>\n",
              "      <th>4</th>\n",
              "      <td>Spout Juice Small (From 0637 to 1041 PDC)</td>\n",
              "      <td>https://www.breville.com/us/en/parts-accessori...</td>\n",
              "      <td>10.95</td>\n",
              "      <td>https://www.breville.com/content/dam/breville/...</td>\n",
              "    </tr>\n",
              "    <tr>\n",
              "      <th>5</th>\n",
              "      <td>Cleaning Steam Wand</td>\n",
              "      <td>https://www.breville.com/us/en/parts-accessori...</td>\n",
              "      <td>6.95</td>\n",
              "      <td>https://www.breville.com/content/dam/breville/...</td>\n",
              "    </tr>\n",
              "    <tr>\n",
              "      <th>6</th>\n",
              "      <td>Jug Frothing</td>\n",
              "      <td>https://www.breville.com/us/en/parts-accessori...</td>\n",
              "      <td>24.95</td>\n",
              "      <td>https://assets.breville.com/cdn-cgi/image/widt...</td>\n",
              "    </tr>\n",
              "    <tr>\n",
              "      <th>7</th>\n",
              "      <td>Spoon Tamping 50mm</td>\n",
              "      <td>https://www.breville.com/us/en/parts-accessori...</td>\n",
              "      <td>8.95</td>\n",
              "      <td>https://assets.breville.com/cdn-cgi/image/widt...</td>\n",
              "    </tr>\n",
              "    <tr>\n",
              "      <th>8</th>\n",
              "      <td>Collar Grouphead 50mm</td>\n",
              "      <td>https://www.breville.com/us/en/parts-accessori...</td>\n",
              "      <td>6.95</td>\n",
              "      <td>https://assets.breville.com/cdn-cgi/image/widt...</td>\n",
              "    </tr>\n",
              "    <tr>\n",
              "      <th>9</th>\n",
              "      <td>Filter 2 Cup Dual Wall 50mm</td>\n",
              "      <td>https://www.breville.com/us/en/parts-accessori...</td>\n",
              "      <td>12.95</td>\n",
              "      <td>https://www.breville.com/content/dam/breville/...</td>\n",
              "    </tr>\n",
              "    <tr>\n",
              "      <th>10</th>\n",
              "      <td>Filter 1 Cup 50mm</td>\n",
              "      <td>https://www.breville.com/us/en/parts-accessori...</td>\n",
              "      <td>12.95</td>\n",
              "      <td>https://www.breville.com/content/dam/breville/...</td>\n",
              "    </tr>\n",
              "    <tr>\n",
              "      <th>11</th>\n",
              "      <td>Water Tank Assembly</td>\n",
              "      <td>https://www.breville.com/us/en/parts-accessori...</td>\n",
              "      <td>14.95</td>\n",
              "      <td>https://www.breville.com/content/dam/breville/...</td>\n",
              "    </tr>\n",
              "    <tr>\n",
              "      <th>12</th>\n",
              "      <td>Portafilter Assembly 50mm</td>\n",
              "      <td>https://www.breville.com/us/en/parts-accessori...</td>\n",
              "      <td>10.95</td>\n",
              "      <td>https://www.breville.com/content/dam/breville/...</td>\n",
              "    </tr>\n",
              "    <tr>\n",
              "      <th>13</th>\n",
              "      <td>Milk Jug Assembly</td>\n",
              "      <td>https://www.breville.com/us/en/parts-accessori...</td>\n",
              "      <td>16.95</td>\n",
              "      <td>https://www.breville.com/content/dam/breville/...</td>\n",
              "    </tr>\n",
              "    <tr>\n",
              "      <th>14</th>\n",
              "      <td>Filter 2 Cup 50mm</td>\n",
              "      <td>https://www.breville.com/us/en/parts-accessori...</td>\n",
              "      <td>11.95</td>\n",
              "      <td>https://www.breville.com/content/dam/breville/...</td>\n",
              "    </tr>\n",
              "  </tbody>\n",
              "</table>\n",
              "</div>\n",
              "    <div class=\"colab-df-buttons\">\n",
              "\n",
              "  <div class=\"colab-df-container\">\n",
              "    <button class=\"colab-df-convert\" onclick=\"convertToInteractive('df-fc3b6280-8115-492c-a5e6-9144f698ef4b')\"\n",
              "            title=\"Convert this dataframe to an interactive table.\"\n",
              "            style=\"display:none;\">\n",
              "\n",
              "  <svg xmlns=\"http://www.w3.org/2000/svg\" height=\"24px\" viewBox=\"0 -960 960 960\">\n",
              "    <path d=\"M120-120v-720h720v720H120Zm60-500h600v-160H180v160Zm220 220h160v-160H400v160Zm0 220h160v-160H400v160ZM180-400h160v-160H180v160Zm440 0h160v-160H620v160ZM180-180h160v-160H180v160Zm440 0h160v-160H620v160Z\"/>\n",
              "  </svg>\n",
              "    </button>\n",
              "\n",
              "  <style>\n",
              "    .colab-df-container {\n",
              "      display:flex;\n",
              "      gap: 12px;\n",
              "    }\n",
              "\n",
              "    .colab-df-convert {\n",
              "      background-color: #E8F0FE;\n",
              "      border: none;\n",
              "      border-radius: 50%;\n",
              "      cursor: pointer;\n",
              "      display: none;\n",
              "      fill: #1967D2;\n",
              "      height: 32px;\n",
              "      padding: 0 0 0 0;\n",
              "      width: 32px;\n",
              "    }\n",
              "\n",
              "    .colab-df-convert:hover {\n",
              "      background-color: #E2EBFA;\n",
              "      box-shadow: 0px 1px 2px rgba(60, 64, 67, 0.3), 0px 1px 3px 1px rgba(60, 64, 67, 0.15);\n",
              "      fill: #174EA6;\n",
              "    }\n",
              "\n",
              "    .colab-df-buttons div {\n",
              "      margin-bottom: 4px;\n",
              "    }\n",
              "\n",
              "    [theme=dark] .colab-df-convert {\n",
              "      background-color: #3B4455;\n",
              "      fill: #D2E3FC;\n",
              "    }\n",
              "\n",
              "    [theme=dark] .colab-df-convert:hover {\n",
              "      background-color: #434B5C;\n",
              "      box-shadow: 0px 1px 3px 1px rgba(0, 0, 0, 0.15);\n",
              "      filter: drop-shadow(0px 1px 2px rgba(0, 0, 0, 0.3));\n",
              "      fill: #FFFFFF;\n",
              "    }\n",
              "  </style>\n",
              "\n",
              "    <script>\n",
              "      const buttonEl =\n",
              "        document.querySelector('#df-fc3b6280-8115-492c-a5e6-9144f698ef4b button.colab-df-convert');\n",
              "      buttonEl.style.display =\n",
              "        google.colab.kernel.accessAllowed ? 'block' : 'none';\n",
              "\n",
              "      async function convertToInteractive(key) {\n",
              "        const element = document.querySelector('#df-fc3b6280-8115-492c-a5e6-9144f698ef4b');\n",
              "        const dataTable =\n",
              "          await google.colab.kernel.invokeFunction('convertToInteractive',\n",
              "                                                    [key], {});\n",
              "        if (!dataTable) return;\n",
              "\n",
              "        const docLinkHtml = 'Like what you see? Visit the ' +\n",
              "          '<a target=\"_blank\" href=https://colab.research.google.com/notebooks/data_table.ipynb>data table notebook</a>'\n",
              "          + ' to learn more about interactive tables.';\n",
              "        element.innerHTML = '';\n",
              "        dataTable['output_type'] = 'display_data';\n",
              "        await google.colab.output.renderOutput(dataTable, element);\n",
              "        const docLink = document.createElement('div');\n",
              "        docLink.innerHTML = docLinkHtml;\n",
              "        element.appendChild(docLink);\n",
              "      }\n",
              "    </script>\n",
              "  </div>\n",
              "\n",
              "\n",
              "<div id=\"df-b632bf46-bea7-440f-b5e3-68db59fe7d39\">\n",
              "  <button class=\"colab-df-quickchart\" onclick=\"quickchart('df-b632bf46-bea7-440f-b5e3-68db59fe7d39')\"\n",
              "            title=\"Suggest charts\"\n",
              "            style=\"display:none;\">\n",
              "\n",
              "<svg xmlns=\"http://www.w3.org/2000/svg\" height=\"24px\"viewBox=\"0 0 24 24\"\n",
              "     width=\"24px\">\n",
              "    <g>\n",
              "        <path d=\"M19 3H5c-1.1 0-2 .9-2 2v14c0 1.1.9 2 2 2h14c1.1 0 2-.9 2-2V5c0-1.1-.9-2-2-2zM9 17H7v-7h2v7zm4 0h-2V7h2v10zm4 0h-2v-4h2v4z\"/>\n",
              "    </g>\n",
              "</svg>\n",
              "  </button>\n",
              "\n",
              "<style>\n",
              "  .colab-df-quickchart {\n",
              "      --bg-color: #E8F0FE;\n",
              "      --fill-color: #1967D2;\n",
              "      --hover-bg-color: #E2EBFA;\n",
              "      --hover-fill-color: #174EA6;\n",
              "      --disabled-fill-color: #AAA;\n",
              "      --disabled-bg-color: #DDD;\n",
              "  }\n",
              "\n",
              "  [theme=dark] .colab-df-quickchart {\n",
              "      --bg-color: #3B4455;\n",
              "      --fill-color: #D2E3FC;\n",
              "      --hover-bg-color: #434B5C;\n",
              "      --hover-fill-color: #FFFFFF;\n",
              "      --disabled-bg-color: #3B4455;\n",
              "      --disabled-fill-color: #666;\n",
              "  }\n",
              "\n",
              "  .colab-df-quickchart {\n",
              "    background-color: var(--bg-color);\n",
              "    border: none;\n",
              "    border-radius: 50%;\n",
              "    cursor: pointer;\n",
              "    display: none;\n",
              "    fill: var(--fill-color);\n",
              "    height: 32px;\n",
              "    padding: 0;\n",
              "    width: 32px;\n",
              "  }\n",
              "\n",
              "  .colab-df-quickchart:hover {\n",
              "    background-color: var(--hover-bg-color);\n",
              "    box-shadow: 0 1px 2px rgba(60, 64, 67, 0.3), 0 1px 3px 1px rgba(60, 64, 67, 0.15);\n",
              "    fill: var(--button-hover-fill-color);\n",
              "  }\n",
              "\n",
              "  .colab-df-quickchart-complete:disabled,\n",
              "  .colab-df-quickchart-complete:disabled:hover {\n",
              "    background-color: var(--disabled-bg-color);\n",
              "    fill: var(--disabled-fill-color);\n",
              "    box-shadow: none;\n",
              "  }\n",
              "\n",
              "  .colab-df-spinner {\n",
              "    border: 2px solid var(--fill-color);\n",
              "    border-color: transparent;\n",
              "    border-bottom-color: var(--fill-color);\n",
              "    animation:\n",
              "      spin 1s steps(1) infinite;\n",
              "  }\n",
              "\n",
              "  @keyframes spin {\n",
              "    0% {\n",
              "      border-color: transparent;\n",
              "      border-bottom-color: var(--fill-color);\n",
              "      border-left-color: var(--fill-color);\n",
              "    }\n",
              "    20% {\n",
              "      border-color: transparent;\n",
              "      border-left-color: var(--fill-color);\n",
              "      border-top-color: var(--fill-color);\n",
              "    }\n",
              "    30% {\n",
              "      border-color: transparent;\n",
              "      border-left-color: var(--fill-color);\n",
              "      border-top-color: var(--fill-color);\n",
              "      border-right-color: var(--fill-color);\n",
              "    }\n",
              "    40% {\n",
              "      border-color: transparent;\n",
              "      border-right-color: var(--fill-color);\n",
              "      border-top-color: var(--fill-color);\n",
              "    }\n",
              "    60% {\n",
              "      border-color: transparent;\n",
              "      border-right-color: var(--fill-color);\n",
              "    }\n",
              "    80% {\n",
              "      border-color: transparent;\n",
              "      border-right-color: var(--fill-color);\n",
              "      border-bottom-color: var(--fill-color);\n",
              "    }\n",
              "    90% {\n",
              "      border-color: transparent;\n",
              "      border-bottom-color: var(--fill-color);\n",
              "    }\n",
              "  }\n",
              "</style>\n",
              "\n",
              "  <script>\n",
              "    async function quickchart(key) {\n",
              "      const quickchartButtonEl =\n",
              "        document.querySelector('#' + key + ' button');\n",
              "      quickchartButtonEl.disabled = true;  // To prevent multiple clicks.\n",
              "      quickchartButtonEl.classList.add('colab-df-spinner');\n",
              "      try {\n",
              "        const charts = await google.colab.kernel.invokeFunction(\n",
              "            'suggestCharts', [key], {});\n",
              "      } catch (error) {\n",
              "        console.error('Error during call to suggestCharts:', error);\n",
              "      }\n",
              "      quickchartButtonEl.classList.remove('colab-df-spinner');\n",
              "      quickchartButtonEl.classList.add('colab-df-quickchart-complete');\n",
              "    }\n",
              "    (() => {\n",
              "      let quickchartButtonEl =\n",
              "        document.querySelector('#df-b632bf46-bea7-440f-b5e3-68db59fe7d39 button');\n",
              "      quickchartButtonEl.style.display =\n",
              "        google.colab.kernel.accessAllowed ? 'block' : 'none';\n",
              "    })();\n",
              "  </script>\n",
              "</div>\n",
              "\n",
              "  <div id=\"id_fdb69f78-2af9-49f5-93da-581086fed8a3\">\n",
              "    <style>\n",
              "      .colab-df-generate {\n",
              "        background-color: #E8F0FE;\n",
              "        border: none;\n",
              "        border-radius: 50%;\n",
              "        cursor: pointer;\n",
              "        display: none;\n",
              "        fill: #1967D2;\n",
              "        height: 32px;\n",
              "        padding: 0 0 0 0;\n",
              "        width: 32px;\n",
              "      }\n",
              "\n",
              "      .colab-df-generate:hover {\n",
              "        background-color: #E2EBFA;\n",
              "        box-shadow: 0px 1px 2px rgba(60, 64, 67, 0.3), 0px 1px 3px 1px rgba(60, 64, 67, 0.15);\n",
              "        fill: #174EA6;\n",
              "      }\n",
              "\n",
              "      [theme=dark] .colab-df-generate {\n",
              "        background-color: #3B4455;\n",
              "        fill: #D2E3FC;\n",
              "      }\n",
              "\n",
              "      [theme=dark] .colab-df-generate:hover {\n",
              "        background-color: #434B5C;\n",
              "        box-shadow: 0px 1px 3px 1px rgba(0, 0, 0, 0.15);\n",
              "        filter: drop-shadow(0px 1px 2px rgba(0, 0, 0, 0.3));\n",
              "        fill: #FFFFFF;\n",
              "      }\n",
              "    </style>\n",
              "    <button class=\"colab-df-generate\" onclick=\"generateWithVariable('df')\"\n",
              "            title=\"Generate code using this dataframe.\"\n",
              "            style=\"display:none;\">\n",
              "\n",
              "  <svg xmlns=\"http://www.w3.org/2000/svg\" height=\"24px\"viewBox=\"0 0 24 24\"\n",
              "       width=\"24px\">\n",
              "    <path d=\"M7,19H8.4L18.45,9,17,7.55,7,17.6ZM5,21V16.75L18.45,3.32a2,2,0,0,1,2.83,0l1.4,1.43a1.91,1.91,0,0,1,.58,1.4,1.91,1.91,0,0,1-.58,1.4L9.25,21ZM18.45,9,17,7.55Zm-12,3A5.31,5.31,0,0,0,4.9,8.1,5.31,5.31,0,0,0,1,6.5,5.31,5.31,0,0,0,4.9,4.9,5.31,5.31,0,0,0,6.5,1,5.31,5.31,0,0,0,8.1,4.9,5.31,5.31,0,0,0,12,6.5,5.46,5.46,0,0,0,6.5,12Z\"/>\n",
              "  </svg>\n",
              "    </button>\n",
              "    <script>\n",
              "      (() => {\n",
              "      const buttonEl =\n",
              "        document.querySelector('#id_fdb69f78-2af9-49f5-93da-581086fed8a3 button.colab-df-generate');\n",
              "      buttonEl.style.display =\n",
              "        google.colab.kernel.accessAllowed ? 'block' : 'none';\n",
              "\n",
              "      buttonEl.onclick = () => {\n",
              "        google.colab.notebook.generateWithVariable('df');\n",
              "      }\n",
              "      })();\n",
              "    </script>\n",
              "  </div>\n",
              "\n",
              "    </div>\n",
              "  </div>\n"
            ],
            "application/vnd.google.colaboratory.intrinsic+json": {
              "type": "dataframe",
              "variable_name": "df",
              "summary": "{\n  \"name\": \"df\",\n  \"rows\": 15,\n  \"fields\": [\n    {\n      \"column\": \"name\",\n      \"properties\": {\n        \"dtype\": \"string\",\n        \"num_unique_values\": 14,\n        \"samples\": [\n          \"Filter 2 Cup Dual Wall 50mm\",\n          \"Water Tank Assembly\",\n          \"Saucer\"\n        ],\n        \"semantic_type\": \"\",\n        \"description\": \"\"\n      }\n    },\n    {\n      \"column\": \"url\",\n      \"properties\": {\n        \"dtype\": \"string\",\n        \"num_unique_values\": 15,\n        \"samples\": [\n          \"https://www.breville.com/us/en/parts-accessories/parts/sp0003231.html?sku=SP0003231\",\n          \"https://www.breville.com/us/en/parts-accessories/parts/sp0003225.html?sku=SP0003225\",\n          \"https://www.breville.com/us/en/parts-accessories/parts/sp0014946.html?sku=SP0014946\"\n        ],\n        \"semantic_type\": \"\",\n        \"description\": \"\"\n      }\n    },\n    {\n      \"column\": \"price\",\n      \"properties\": {\n        \"dtype\": \"string\",\n        \"num_unique_values\": 9,\n        \"samples\": [\n          \"16.95\",\n          \"4.99\",\n          \"24.95\"\n        ],\n        \"semantic_type\": \"\",\n        \"description\": \"\"\n      }\n    },\n    {\n      \"column\": \"image\",\n      \"properties\": {\n        \"dtype\": \"string\",\n        \"num_unique_values\": 15,\n        \"samples\": [\n          \"https://www.breville.com/content/dam/breville/au/catalog/products/images/sp0/sp0003231/tile.jpg\",\n          \"https://www.breville.com/content/dam/breville/ca/catalog/products/images/sp0/sp0003225/tile.jpg\",\n          \"https://www.breville.com/content/dam/breville/us/catalog/products/images/sp0/sp0014946/tile.jpg\"\n        ],\n        \"semantic_type\": \"\",\n        \"description\": \"\"\n      }\n    }\n  ]\n}"
            }
          },
          "metadata": {},
          "execution_count": 48
        }
      ]
    },
    {
      "cell_type": "code",
      "source": [
        "df.head()"
      ],
      "metadata": {
        "colab": {
          "base_uri": "https://localhost:8080/",
          "height": 504
        },
        "id": "558cwJrp-9WX",
        "outputId": "e283d0c3-807e-4dbf-f97c-365391687b84"
      },
      "execution_count": 49,
      "outputs": [
        {
          "output_type": "execute_result",
          "data": {
            "text/plain": [
              "                                                name  \\\n",
              "0                                             Saucer   \n",
              "1                                     Saucer Ceramic   \n",
              "2                                  Milk Jug Assembly   \n",
              "3  Handle Steam Wand Kit (New Version From 0735 PDC)   \n",
              "4          Spout Juice Small (From 0637 to 1041 PDC)   \n",
              "\n",
              "                                                 url  price  \\\n",
              "0  https://www.breville.com/us/en/parts-accessori...  10.95   \n",
              "1  https://www.breville.com/us/en/parts-accessori...   4.99   \n",
              "2  https://www.breville.com/us/en/parts-accessori...  14.95   \n",
              "3  https://www.breville.com/us/en/parts-accessori...   8.95   \n",
              "4  https://www.breville.com/us/en/parts-accessori...  10.95   \n",
              "\n",
              "                                               image  \n",
              "0  https://www.breville.com/content/dam/breville/...  \n",
              "1  https://www.breville.com/content/dam/breville/...  \n",
              "2  https://www.breville.com/content/dam/breville/...  \n",
              "3  https://www.breville.com/content/dam/breville/...  \n",
              "4  https://www.breville.com/content/dam/breville/...  "
            ],
            "text/html": [
              "\n",
              "  <div id=\"df-77a3d1ee-4415-453f-9bc8-90474bc91b00\" class=\"colab-df-container\">\n",
              "    <div>\n",
              "<style scoped>\n",
              "    .dataframe tbody tr th:only-of-type {\n",
              "        vertical-align: middle;\n",
              "    }\n",
              "\n",
              "    .dataframe tbody tr th {\n",
              "        vertical-align: top;\n",
              "    }\n",
              "\n",
              "    .dataframe thead th {\n",
              "        text-align: right;\n",
              "    }\n",
              "</style>\n",
              "<table border=\"1\" class=\"dataframe\">\n",
              "  <thead>\n",
              "    <tr style=\"text-align: right;\">\n",
              "      <th></th>\n",
              "      <th>name</th>\n",
              "      <th>url</th>\n",
              "      <th>price</th>\n",
              "      <th>image</th>\n",
              "    </tr>\n",
              "  </thead>\n",
              "  <tbody>\n",
              "    <tr>\n",
              "      <th>0</th>\n",
              "      <td>Saucer</td>\n",
              "      <td>https://www.breville.com/us/en/parts-accessori...</td>\n",
              "      <td>10.95</td>\n",
              "      <td>https://www.breville.com/content/dam/breville/...</td>\n",
              "    </tr>\n",
              "    <tr>\n",
              "      <th>1</th>\n",
              "      <td>Saucer Ceramic</td>\n",
              "      <td>https://www.breville.com/us/en/parts-accessori...</td>\n",
              "      <td>4.99</td>\n",
              "      <td>https://www.breville.com/content/dam/breville/...</td>\n",
              "    </tr>\n",
              "    <tr>\n",
              "      <th>2</th>\n",
              "      <td>Milk Jug Assembly</td>\n",
              "      <td>https://www.breville.com/us/en/parts-accessori...</td>\n",
              "      <td>14.95</td>\n",
              "      <td>https://www.breville.com/content/dam/breville/...</td>\n",
              "    </tr>\n",
              "    <tr>\n",
              "      <th>3</th>\n",
              "      <td>Handle Steam Wand Kit (New Version From 0735 PDC)</td>\n",
              "      <td>https://www.breville.com/us/en/parts-accessori...</td>\n",
              "      <td>8.95</td>\n",
              "      <td>https://www.breville.com/content/dam/breville/...</td>\n",
              "    </tr>\n",
              "    <tr>\n",
              "      <th>4</th>\n",
              "      <td>Spout Juice Small (From 0637 to 1041 PDC)</td>\n",
              "      <td>https://www.breville.com/us/en/parts-accessori...</td>\n",
              "      <td>10.95</td>\n",
              "      <td>https://www.breville.com/content/dam/breville/...</td>\n",
              "    </tr>\n",
              "  </tbody>\n",
              "</table>\n",
              "</div>\n",
              "    <div class=\"colab-df-buttons\">\n",
              "\n",
              "  <div class=\"colab-df-container\">\n",
              "    <button class=\"colab-df-convert\" onclick=\"convertToInteractive('df-77a3d1ee-4415-453f-9bc8-90474bc91b00')\"\n",
              "            title=\"Convert this dataframe to an interactive table.\"\n",
              "            style=\"display:none;\">\n",
              "\n",
              "  <svg xmlns=\"http://www.w3.org/2000/svg\" height=\"24px\" viewBox=\"0 -960 960 960\">\n",
              "    <path d=\"M120-120v-720h720v720H120Zm60-500h600v-160H180v160Zm220 220h160v-160H400v160Zm0 220h160v-160H400v160ZM180-400h160v-160H180v160Zm440 0h160v-160H620v160ZM180-180h160v-160H180v160Zm440 0h160v-160H620v160Z\"/>\n",
              "  </svg>\n",
              "    </button>\n",
              "\n",
              "  <style>\n",
              "    .colab-df-container {\n",
              "      display:flex;\n",
              "      gap: 12px;\n",
              "    }\n",
              "\n",
              "    .colab-df-convert {\n",
              "      background-color: #E8F0FE;\n",
              "      border: none;\n",
              "      border-radius: 50%;\n",
              "      cursor: pointer;\n",
              "      display: none;\n",
              "      fill: #1967D2;\n",
              "      height: 32px;\n",
              "      padding: 0 0 0 0;\n",
              "      width: 32px;\n",
              "    }\n",
              "\n",
              "    .colab-df-convert:hover {\n",
              "      background-color: #E2EBFA;\n",
              "      box-shadow: 0px 1px 2px rgba(60, 64, 67, 0.3), 0px 1px 3px 1px rgba(60, 64, 67, 0.15);\n",
              "      fill: #174EA6;\n",
              "    }\n",
              "\n",
              "    .colab-df-buttons div {\n",
              "      margin-bottom: 4px;\n",
              "    }\n",
              "\n",
              "    [theme=dark] .colab-df-convert {\n",
              "      background-color: #3B4455;\n",
              "      fill: #D2E3FC;\n",
              "    }\n",
              "\n",
              "    [theme=dark] .colab-df-convert:hover {\n",
              "      background-color: #434B5C;\n",
              "      box-shadow: 0px 1px 3px 1px rgba(0, 0, 0, 0.15);\n",
              "      filter: drop-shadow(0px 1px 2px rgba(0, 0, 0, 0.3));\n",
              "      fill: #FFFFFF;\n",
              "    }\n",
              "  </style>\n",
              "\n",
              "    <script>\n",
              "      const buttonEl =\n",
              "        document.querySelector('#df-77a3d1ee-4415-453f-9bc8-90474bc91b00 button.colab-df-convert');\n",
              "      buttonEl.style.display =\n",
              "        google.colab.kernel.accessAllowed ? 'block' : 'none';\n",
              "\n",
              "      async function convertToInteractive(key) {\n",
              "        const element = document.querySelector('#df-77a3d1ee-4415-453f-9bc8-90474bc91b00');\n",
              "        const dataTable =\n",
              "          await google.colab.kernel.invokeFunction('convertToInteractive',\n",
              "                                                    [key], {});\n",
              "        if (!dataTable) return;\n",
              "\n",
              "        const docLinkHtml = 'Like what you see? Visit the ' +\n",
              "          '<a target=\"_blank\" href=https://colab.research.google.com/notebooks/data_table.ipynb>data table notebook</a>'\n",
              "          + ' to learn more about interactive tables.';\n",
              "        element.innerHTML = '';\n",
              "        dataTable['output_type'] = 'display_data';\n",
              "        await google.colab.output.renderOutput(dataTable, element);\n",
              "        const docLink = document.createElement('div');\n",
              "        docLink.innerHTML = docLinkHtml;\n",
              "        element.appendChild(docLink);\n",
              "      }\n",
              "    </script>\n",
              "  </div>\n",
              "\n",
              "\n",
              "<div id=\"df-118f310f-1135-4fcd-be30-36147f1bfc6e\">\n",
              "  <button class=\"colab-df-quickchart\" onclick=\"quickchart('df-118f310f-1135-4fcd-be30-36147f1bfc6e')\"\n",
              "            title=\"Suggest charts\"\n",
              "            style=\"display:none;\">\n",
              "\n",
              "<svg xmlns=\"http://www.w3.org/2000/svg\" height=\"24px\"viewBox=\"0 0 24 24\"\n",
              "     width=\"24px\">\n",
              "    <g>\n",
              "        <path d=\"M19 3H5c-1.1 0-2 .9-2 2v14c0 1.1.9 2 2 2h14c1.1 0 2-.9 2-2V5c0-1.1-.9-2-2-2zM9 17H7v-7h2v7zm4 0h-2V7h2v10zm4 0h-2v-4h2v4z\"/>\n",
              "    </g>\n",
              "</svg>\n",
              "  </button>\n",
              "\n",
              "<style>\n",
              "  .colab-df-quickchart {\n",
              "      --bg-color: #E8F0FE;\n",
              "      --fill-color: #1967D2;\n",
              "      --hover-bg-color: #E2EBFA;\n",
              "      --hover-fill-color: #174EA6;\n",
              "      --disabled-fill-color: #AAA;\n",
              "      --disabled-bg-color: #DDD;\n",
              "  }\n",
              "\n",
              "  [theme=dark] .colab-df-quickchart {\n",
              "      --bg-color: #3B4455;\n",
              "      --fill-color: #D2E3FC;\n",
              "      --hover-bg-color: #434B5C;\n",
              "      --hover-fill-color: #FFFFFF;\n",
              "      --disabled-bg-color: #3B4455;\n",
              "      --disabled-fill-color: #666;\n",
              "  }\n",
              "\n",
              "  .colab-df-quickchart {\n",
              "    background-color: var(--bg-color);\n",
              "    border: none;\n",
              "    border-radius: 50%;\n",
              "    cursor: pointer;\n",
              "    display: none;\n",
              "    fill: var(--fill-color);\n",
              "    height: 32px;\n",
              "    padding: 0;\n",
              "    width: 32px;\n",
              "  }\n",
              "\n",
              "  .colab-df-quickchart:hover {\n",
              "    background-color: var(--hover-bg-color);\n",
              "    box-shadow: 0 1px 2px rgba(60, 64, 67, 0.3), 0 1px 3px 1px rgba(60, 64, 67, 0.15);\n",
              "    fill: var(--button-hover-fill-color);\n",
              "  }\n",
              "\n",
              "  .colab-df-quickchart-complete:disabled,\n",
              "  .colab-df-quickchart-complete:disabled:hover {\n",
              "    background-color: var(--disabled-bg-color);\n",
              "    fill: var(--disabled-fill-color);\n",
              "    box-shadow: none;\n",
              "  }\n",
              "\n",
              "  .colab-df-spinner {\n",
              "    border: 2px solid var(--fill-color);\n",
              "    border-color: transparent;\n",
              "    border-bottom-color: var(--fill-color);\n",
              "    animation:\n",
              "      spin 1s steps(1) infinite;\n",
              "  }\n",
              "\n",
              "  @keyframes spin {\n",
              "    0% {\n",
              "      border-color: transparent;\n",
              "      border-bottom-color: var(--fill-color);\n",
              "      border-left-color: var(--fill-color);\n",
              "    }\n",
              "    20% {\n",
              "      border-color: transparent;\n",
              "      border-left-color: var(--fill-color);\n",
              "      border-top-color: var(--fill-color);\n",
              "    }\n",
              "    30% {\n",
              "      border-color: transparent;\n",
              "      border-left-color: var(--fill-color);\n",
              "      border-top-color: var(--fill-color);\n",
              "      border-right-color: var(--fill-color);\n",
              "    }\n",
              "    40% {\n",
              "      border-color: transparent;\n",
              "      border-right-color: var(--fill-color);\n",
              "      border-top-color: var(--fill-color);\n",
              "    }\n",
              "    60% {\n",
              "      border-color: transparent;\n",
              "      border-right-color: var(--fill-color);\n",
              "    }\n",
              "    80% {\n",
              "      border-color: transparent;\n",
              "      border-right-color: var(--fill-color);\n",
              "      border-bottom-color: var(--fill-color);\n",
              "    }\n",
              "    90% {\n",
              "      border-color: transparent;\n",
              "      border-bottom-color: var(--fill-color);\n",
              "    }\n",
              "  }\n",
              "</style>\n",
              "\n",
              "  <script>\n",
              "    async function quickchart(key) {\n",
              "      const quickchartButtonEl =\n",
              "        document.querySelector('#' + key + ' button');\n",
              "      quickchartButtonEl.disabled = true;  // To prevent multiple clicks.\n",
              "      quickchartButtonEl.classList.add('colab-df-spinner');\n",
              "      try {\n",
              "        const charts = await google.colab.kernel.invokeFunction(\n",
              "            'suggestCharts', [key], {});\n",
              "      } catch (error) {\n",
              "        console.error('Error during call to suggestCharts:', error);\n",
              "      }\n",
              "      quickchartButtonEl.classList.remove('colab-df-spinner');\n",
              "      quickchartButtonEl.classList.add('colab-df-quickchart-complete');\n",
              "    }\n",
              "    (() => {\n",
              "      let quickchartButtonEl =\n",
              "        document.querySelector('#df-118f310f-1135-4fcd-be30-36147f1bfc6e button');\n",
              "      quickchartButtonEl.style.display =\n",
              "        google.colab.kernel.accessAllowed ? 'block' : 'none';\n",
              "    })();\n",
              "  </script>\n",
              "</div>\n",
              "\n",
              "    </div>\n",
              "  </div>\n"
            ],
            "application/vnd.google.colaboratory.intrinsic+json": {
              "type": "dataframe",
              "variable_name": "df",
              "summary": "{\n  \"name\": \"df\",\n  \"rows\": 15,\n  \"fields\": [\n    {\n      \"column\": \"name\",\n      \"properties\": {\n        \"dtype\": \"string\",\n        \"num_unique_values\": 14,\n        \"samples\": [\n          \"Filter 2 Cup Dual Wall 50mm\",\n          \"Water Tank Assembly\",\n          \"Saucer\"\n        ],\n        \"semantic_type\": \"\",\n        \"description\": \"\"\n      }\n    },\n    {\n      \"column\": \"url\",\n      \"properties\": {\n        \"dtype\": \"string\",\n        \"num_unique_values\": 15,\n        \"samples\": [\n          \"https://www.breville.com/us/en/parts-accessories/parts/sp0003231.html?sku=SP0003231\",\n          \"https://www.breville.com/us/en/parts-accessories/parts/sp0003225.html?sku=SP0003225\",\n          \"https://www.breville.com/us/en/parts-accessories/parts/sp0014946.html?sku=SP0014946\"\n        ],\n        \"semantic_type\": \"\",\n        \"description\": \"\"\n      }\n    },\n    {\n      \"column\": \"price\",\n      \"properties\": {\n        \"dtype\": \"string\",\n        \"num_unique_values\": 9,\n        \"samples\": [\n          \"16.95\",\n          \"4.99\",\n          \"24.95\"\n        ],\n        \"semantic_type\": \"\",\n        \"description\": \"\"\n      }\n    },\n    {\n      \"column\": \"image\",\n      \"properties\": {\n        \"dtype\": \"string\",\n        \"num_unique_values\": 15,\n        \"samples\": [\n          \"https://www.breville.com/content/dam/breville/au/catalog/products/images/sp0/sp0003231/tile.jpg\",\n          \"https://www.breville.com/content/dam/breville/ca/catalog/products/images/sp0/sp0003225/tile.jpg\",\n          \"https://www.breville.com/content/dam/breville/us/catalog/products/images/sp0/sp0014946/tile.jpg\"\n        ],\n        \"semantic_type\": \"\",\n        \"description\": \"\"\n      }\n    }\n  ]\n}"
            }
          },
          "metadata": {},
          "execution_count": 49
        }
      ]
    },
    {
      "cell_type": "code",
      "source": [
        "df[\"url\"]"
      ],
      "metadata": {
        "colab": {
          "base_uri": "https://localhost:8080/"
        },
        "id": "hIGiVFYR_BnV",
        "outputId": "35a233c7-4e7a-42cf-d5c7-65f1a4544abe"
      },
      "execution_count": 50,
      "outputs": [
        {
          "output_type": "execute_result",
          "data": {
            "text/plain": [
              "0     https://www.breville.com/us/en/parts-accessori...\n",
              "1     https://www.breville.com/us/en/parts-accessori...\n",
              "2     https://www.breville.com/us/en/parts-accessori...\n",
              "3     https://www.breville.com/us/en/parts-accessori...\n",
              "4     https://www.breville.com/us/en/parts-accessori...\n",
              "5     https://www.breville.com/us/en/parts-accessori...\n",
              "6     https://www.breville.com/us/en/parts-accessori...\n",
              "7     https://www.breville.com/us/en/parts-accessori...\n",
              "8     https://www.breville.com/us/en/parts-accessori...\n",
              "9     https://www.breville.com/us/en/parts-accessori...\n",
              "10    https://www.breville.com/us/en/parts-accessori...\n",
              "11    https://www.breville.com/us/en/parts-accessori...\n",
              "12    https://www.breville.com/us/en/parts-accessori...\n",
              "13    https://www.breville.com/us/en/parts-accessori...\n",
              "14    https://www.breville.com/us/en/parts-accessori...\n",
              "Name: url, dtype: object"
            ]
          },
          "metadata": {},
          "execution_count": 50
        }
      ]
    },
    {
      "cell_type": "code",
      "source": [
        "df[\"image\"]"
      ],
      "metadata": {
        "colab": {
          "base_uri": "https://localhost:8080/"
        },
        "id": "FolL4EWr_EK4",
        "outputId": "284f4f69-9678-4324-d5b8-219fe71e61c9"
      },
      "execution_count": 51,
      "outputs": [
        {
          "output_type": "execute_result",
          "data": {
            "text/plain": [
              "0     https://www.breville.com/content/dam/breville/...\n",
              "1     https://www.breville.com/content/dam/breville/...\n",
              "2     https://www.breville.com/content/dam/breville/...\n",
              "3     https://www.breville.com/content/dam/breville/...\n",
              "4     https://www.breville.com/content/dam/breville/...\n",
              "5     https://www.breville.com/content/dam/breville/...\n",
              "6     https://assets.breville.com/cdn-cgi/image/widt...\n",
              "7     https://assets.breville.com/cdn-cgi/image/widt...\n",
              "8     https://assets.breville.com/cdn-cgi/image/widt...\n",
              "9     https://www.breville.com/content/dam/breville/...\n",
              "10    https://www.breville.com/content/dam/breville/...\n",
              "11    https://www.breville.com/content/dam/breville/...\n",
              "12    https://www.breville.com/content/dam/breville/...\n",
              "13    https://www.breville.com/content/dam/breville/...\n",
              "14    https://www.breville.com/content/dam/breville/...\n",
              "Name: image, dtype: object"
            ]
          },
          "metadata": {},
          "execution_count": 51
        }
      ]
    },
    {
      "cell_type": "code",
      "source": [
        "import vertexai, json, requests"
      ],
      "metadata": {
        "id": "aW2RgUEy_G3J"
      },
      "execution_count": 52,
      "outputs": []
    },
    {
      "cell_type": "code",
      "source": [],
      "metadata": {
        "id": "fHecWs1-_QME"
      },
      "execution_count": null,
      "outputs": []
    }
  ]
}